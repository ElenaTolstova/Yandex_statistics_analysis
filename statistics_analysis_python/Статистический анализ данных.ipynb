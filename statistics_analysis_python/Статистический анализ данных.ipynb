{
 "cells": [
  {
   "cell_type": "markdown",
   "id": "7fadb02e",
   "metadata": {},
   "source": [
    "<div style=\"border: solid gray 2px; padding: 20px\">\n",
    "    \n",
    "# Исследование данных аренды самокатов GoFast.\n",
    "\n",
    "Суть проекта: нам предстоит проанализировать данные аренды самокатов GoFast пользователями из нескольких городов, а также данные об их поездках. Проверим некоторые гипотезы, которые могут помочь бизнесу вырасти.\n",
    "\n",
    "---\n",
    "Чтобы совершать поездки по городу, пользователи сервиса GoFast пользуются мобильным приложением. Сервисом можно пользоваться:\n",
    "- без подписки\n",
    "\n",
    "    - абонентская плата отсутствует;\n",
    "    - стоимость одной минуты поездки — 8 рублей;\n",
    "    - стоимость старта (начала поездки) — 50 рублей;\n",
    "\n",
    "- с подпиской Ultra\n",
    "    - абонентская плата — 199 рублей в месяц;\n",
    "    - стоимость одной минуты поездки — 6 рублей;\n",
    "    - стоимость старта — бесплатно.\n",
    "\n",
    "---\n",
    "   \n",
    "**Описание данных**\n",
    "\n",
    "В основных данных есть информация о пользователях, их поездках и подписках.\n",
    "\n",
    "Таблица users_go:\n",
    "- `user_id` - уникальный идентификатор пользователя\n",
    "- `name` - имя пользователя\n",
    "- `age` - возраст\n",
    "- `city` - город\n",
    "- `subscription_type` - тип подписки (free, ultra)\n",
    "\n",
    "Таблица rides_go:\n",
    "- `user_id` - уникальный идентификатор пользователя\n",
    "- `distance` - расстояние, которое пользовтаель проехал в текущей сессии (в метрах)\n",
    "- `duration` - продолжительность сессии (в минутах) - время с того момента, как пользователь нажал кнопку \"Начать поездку\" до момента, как он нажал кнопку \"Завершить поездку\"\n",
    "- `date` - дата совершения поездки\n",
    "\n",
    "Таблица subscriptions_go:\n",
    "- `subscription_type` - тип подписки\n",
    "- `minute_price` - стоимость одной минуты поездки по данной подписке\n",
    "- `start_ride_price` - стоимость начала поездки\n",
    "- `subscription_fee` - стоимость ежемесячного платежа\n",
    "---\n",
    "    \n",
    "**Цель исследования**\n",
    "\n",
    "1. Изучить данные по вакансиям портала HH.ru и выявить интересные закономерности.\n",
    "2. Выявить различия в предлагаемых вакансиях для Аналитиков данных и специалистов по Data Science.\n",
    "3. Написать выводы по результатам исследования.\n",
    "---\n",
    "    \n",
    "***Ход исследования***\n",
    "    \n",
    "Данные о вакансиях получим из двух файлов: vacancies_da.xlsx и vacancies_sa.xlsx О качестве датасета информации нет. Перед тем как приступать к цели исследования, нам необходимо изучить данные.\n",
    "    \n",
    "Проверим данные на предмет ошибок и оценим их влияние на результаты исследования. В процессе преодобработки данных попробуем исправить все ошибки, которые могут привести к искажению конечного результата. Далее мы проиллюстрируем все гипотезы и выводы на подходящих графиках и приступим к исследовательскому анализу данных и выявлению закономерностей.\n",
    "    \n",
    "Таким образом, мое исследование пройдет в следующие этапы:\n",
    "    \n",
    "- Загрузка и предобработка данных.\n",
    "- Исследовательский анализ данных.\n",
    "- Объединение датафреймов в общий с данными и разделение его на два: пользователей с подпиской и пользователей без подписки.\n",
    "- Подсчет выручки, суммарного расстояния, количества поездок и суммарного времени для каждого пользователя за каждый месяц.\n",
    "- Проверка гипотез.\n",
    "- Подбор параметров распределений для двух задач и визуализация их на графиках.\n",
    "- Формулирование выводов и рекомендаций."
   ]
  },
  {
   "cell_type": "markdown",
   "id": "2e5360a1",
   "metadata": {},
   "source": [
    "## Загрузка данных и изучение общей информации"
   ]
  },
  {
   "cell_type": "markdown",
   "id": "c850dcb3",
   "metadata": {},
   "source": [
    "***1.1 Считаем CSV-файлы с данными с помощью библиотеки pandas и сохраним их в датафреймы.***"
   ]
  },
  {
   "cell_type": "markdown",
   "id": "ae293043",
   "metadata": {},
   "source": [
    "Импортируем необходимые нам библиотеки для изучения общей информации и предобработки данных."
   ]
  },
  {
   "cell_type": "code",
   "execution_count": 17,
   "id": "19676592",
   "metadata": {},
   "outputs": [],
   "source": [
    "import pandas as pd\n",
    "import numpy as np\n",
    "import matplotlib.pyplot as plt\n",
    "import seaborn as sns"
   ]
  },
  {
   "cell_type": "markdown",
   "id": "a67aadf8",
   "metadata": {},
   "source": [
    "Сохраним файлы с данными в датафреймы."
   ]
  },
  {
   "cell_type": "code",
   "execution_count": 18,
   "id": "f1b25270",
   "metadata": {},
   "outputs": [],
   "source": [
    "try:\n",
    "    users = pd.read_csv('/datasets/users_go.csv')\n",
    "except:\n",
    "    users = pd.read_csv('C:/Users/etols/Downloads/users_go.csv')"
   ]
  },
  {
   "cell_type": "code",
   "execution_count": 19,
   "id": "607507ab",
   "metadata": {},
   "outputs": [],
   "source": [
    "try:\n",
    "    rides = pd.read_csv('/datasets/rides_go.csv')\n",
    "except:\n",
    "    rides = pd.read_csv('C:/Users/etols/Downloads/rides_go.csv')"
   ]
  },
  {
   "cell_type": "code",
   "execution_count": 20,
   "id": "4b27a6a0",
   "metadata": {},
   "outputs": [],
   "source": [
    "try:\n",
    "    subs = pd.read_csv('/datasets/subscriptions_go.csv')\n",
    "except:\n",
    "    subs = pd.read_csv('C:/Users/etols/Downloads/subscriptions_go.csv')"
   ]
  },
  {
   "cell_type": "markdown",
   "id": "003932c1",
   "metadata": {},
   "source": [
    "***1.2 Выведем первые несколько строк и общую информацию о каждом датафрейме.***"
   ]
  },
  {
   "cell_type": "code",
   "execution_count": 21,
   "id": "fdc1ce17",
   "metadata": {},
   "outputs": [
    {
     "data": {
      "text/html": [
       "<div>\n",
       "<style scoped>\n",
       "    .dataframe tbody tr th:only-of-type {\n",
       "        vertical-align: middle;\n",
       "    }\n",
       "\n",
       "    .dataframe tbody tr th {\n",
       "        vertical-align: top;\n",
       "    }\n",
       "\n",
       "    .dataframe thead th {\n",
       "        text-align: right;\n",
       "    }\n",
       "</style>\n",
       "<table border=\"1\" class=\"dataframe\">\n",
       "  <thead>\n",
       "    <tr style=\"text-align: right;\">\n",
       "      <th></th>\n",
       "      <th>user_id</th>\n",
       "      <th>name</th>\n",
       "      <th>age</th>\n",
       "      <th>city</th>\n",
       "      <th>subscription_type</th>\n",
       "    </tr>\n",
       "  </thead>\n",
       "  <tbody>\n",
       "    <tr>\n",
       "      <th>0</th>\n",
       "      <td>1</td>\n",
       "      <td>Кира</td>\n",
       "      <td>22</td>\n",
       "      <td>Тюмень</td>\n",
       "      <td>ultra</td>\n",
       "    </tr>\n",
       "    <tr>\n",
       "      <th>1</th>\n",
       "      <td>2</td>\n",
       "      <td>Станислав</td>\n",
       "      <td>31</td>\n",
       "      <td>Омск</td>\n",
       "      <td>ultra</td>\n",
       "    </tr>\n",
       "    <tr>\n",
       "      <th>2</th>\n",
       "      <td>3</td>\n",
       "      <td>Алексей</td>\n",
       "      <td>20</td>\n",
       "      <td>Москва</td>\n",
       "      <td>ultra</td>\n",
       "    </tr>\n",
       "    <tr>\n",
       "      <th>3</th>\n",
       "      <td>4</td>\n",
       "      <td>Константин</td>\n",
       "      <td>26</td>\n",
       "      <td>Ростов-на-Дону</td>\n",
       "      <td>ultra</td>\n",
       "    </tr>\n",
       "    <tr>\n",
       "      <th>4</th>\n",
       "      <td>5</td>\n",
       "      <td>Адель</td>\n",
       "      <td>28</td>\n",
       "      <td>Омск</td>\n",
       "      <td>ultra</td>\n",
       "    </tr>\n",
       "  </tbody>\n",
       "</table>\n",
       "</div>"
      ],
      "text/plain": [
       "   user_id        name  age            city subscription_type\n",
       "0        1        Кира   22          Тюмень             ultra\n",
       "1        2   Станислав   31            Омск             ultra\n",
       "2        3     Алексей   20          Москва             ultra\n",
       "3        4  Константин   26  Ростов-на-Дону             ultra\n",
       "4        5       Адель   28            Омск             ultra"
      ]
     },
     "execution_count": 21,
     "metadata": {},
     "output_type": "execute_result"
    }
   ],
   "source": [
    "users.head()"
   ]
  },
  {
   "cell_type": "code",
   "execution_count": 22,
   "id": "b1e3a624",
   "metadata": {},
   "outputs": [
    {
     "name": "stdout",
     "output_type": "stream",
     "text": [
      "<class 'pandas.core.frame.DataFrame'>\n",
      "RangeIndex: 1565 entries, 0 to 1564\n",
      "Data columns (total 5 columns):\n",
      " #   Column             Non-Null Count  Dtype \n",
      "---  ------             --------------  ----- \n",
      " 0   user_id            1565 non-null   int64 \n",
      " 1   name               1565 non-null   object\n",
      " 2   age                1565 non-null   int64 \n",
      " 3   city               1565 non-null   object\n",
      " 4   subscription_type  1565 non-null   object\n",
      "dtypes: int64(2), object(3)\n",
      "memory usage: 61.3+ KB\n"
     ]
    }
   ],
   "source": [
    "users.info()"
   ]
  },
  {
   "cell_type": "code",
   "execution_count": 23,
   "id": "52f1f3bc",
   "metadata": {},
   "outputs": [
    {
     "data": {
      "text/html": [
       "<div>\n",
       "<style scoped>\n",
       "    .dataframe tbody tr th:only-of-type {\n",
       "        vertical-align: middle;\n",
       "    }\n",
       "\n",
       "    .dataframe tbody tr th {\n",
       "        vertical-align: top;\n",
       "    }\n",
       "\n",
       "    .dataframe thead th {\n",
       "        text-align: right;\n",
       "    }\n",
       "</style>\n",
       "<table border=\"1\" class=\"dataframe\">\n",
       "  <thead>\n",
       "    <tr style=\"text-align: right;\">\n",
       "      <th></th>\n",
       "      <th>user_id</th>\n",
       "      <th>distance</th>\n",
       "      <th>duration</th>\n",
       "      <th>date</th>\n",
       "    </tr>\n",
       "  </thead>\n",
       "  <tbody>\n",
       "    <tr>\n",
       "      <th>0</th>\n",
       "      <td>1</td>\n",
       "      <td>4409.919140</td>\n",
       "      <td>25.599769</td>\n",
       "      <td>2021-01-01</td>\n",
       "    </tr>\n",
       "    <tr>\n",
       "      <th>1</th>\n",
       "      <td>1</td>\n",
       "      <td>2617.592153</td>\n",
       "      <td>15.816871</td>\n",
       "      <td>2021-01-18</td>\n",
       "    </tr>\n",
       "    <tr>\n",
       "      <th>2</th>\n",
       "      <td>1</td>\n",
       "      <td>754.159807</td>\n",
       "      <td>6.232113</td>\n",
       "      <td>2021-04-20</td>\n",
       "    </tr>\n",
       "    <tr>\n",
       "      <th>3</th>\n",
       "      <td>1</td>\n",
       "      <td>2694.783254</td>\n",
       "      <td>18.511000</td>\n",
       "      <td>2021-08-11</td>\n",
       "    </tr>\n",
       "    <tr>\n",
       "      <th>4</th>\n",
       "      <td>1</td>\n",
       "      <td>4028.687306</td>\n",
       "      <td>26.265803</td>\n",
       "      <td>2021-08-28</td>\n",
       "    </tr>\n",
       "  </tbody>\n",
       "</table>\n",
       "</div>"
      ],
      "text/plain": [
       "   user_id     distance   duration        date\n",
       "0        1  4409.919140  25.599769  2021-01-01\n",
       "1        1  2617.592153  15.816871  2021-01-18\n",
       "2        1   754.159807   6.232113  2021-04-20\n",
       "3        1  2694.783254  18.511000  2021-08-11\n",
       "4        1  4028.687306  26.265803  2021-08-28"
      ]
     },
     "execution_count": 23,
     "metadata": {},
     "output_type": "execute_result"
    }
   ],
   "source": [
    "rides.head()"
   ]
  },
  {
   "cell_type": "code",
   "execution_count": 24,
   "id": "70da8a85",
   "metadata": {},
   "outputs": [
    {
     "name": "stdout",
     "output_type": "stream",
     "text": [
      "<class 'pandas.core.frame.DataFrame'>\n",
      "RangeIndex: 18068 entries, 0 to 18067\n",
      "Data columns (total 4 columns):\n",
      " #   Column    Non-Null Count  Dtype  \n",
      "---  ------    --------------  -----  \n",
      " 0   user_id   18068 non-null  int64  \n",
      " 1   distance  18068 non-null  float64\n",
      " 2   duration  18068 non-null  float64\n",
      " 3   date      18068 non-null  object \n",
      "dtypes: float64(2), int64(1), object(1)\n",
      "memory usage: 564.8+ KB\n"
     ]
    }
   ],
   "source": [
    "rides.info()"
   ]
  },
  {
   "cell_type": "code",
   "execution_count": 25,
   "id": "91fe519c",
   "metadata": {},
   "outputs": [
    {
     "data": {
      "text/html": [
       "<div>\n",
       "<style scoped>\n",
       "    .dataframe tbody tr th:only-of-type {\n",
       "        vertical-align: middle;\n",
       "    }\n",
       "\n",
       "    .dataframe tbody tr th {\n",
       "        vertical-align: top;\n",
       "    }\n",
       "\n",
       "    .dataframe thead th {\n",
       "        text-align: right;\n",
       "    }\n",
       "</style>\n",
       "<table border=\"1\" class=\"dataframe\">\n",
       "  <thead>\n",
       "    <tr style=\"text-align: right;\">\n",
       "      <th></th>\n",
       "      <th>subscription_type</th>\n",
       "      <th>minute_price</th>\n",
       "      <th>start_ride_price</th>\n",
       "      <th>subscription_fee</th>\n",
       "    </tr>\n",
       "  </thead>\n",
       "  <tbody>\n",
       "    <tr>\n",
       "      <th>0</th>\n",
       "      <td>free</td>\n",
       "      <td>8</td>\n",
       "      <td>50</td>\n",
       "      <td>0</td>\n",
       "    </tr>\n",
       "    <tr>\n",
       "      <th>1</th>\n",
       "      <td>ultra</td>\n",
       "      <td>6</td>\n",
       "      <td>0</td>\n",
       "      <td>199</td>\n",
       "    </tr>\n",
       "  </tbody>\n",
       "</table>\n",
       "</div>"
      ],
      "text/plain": [
       "  subscription_type  minute_price  start_ride_price  subscription_fee\n",
       "0              free             8                50                 0\n",
       "1             ultra             6                 0               199"
      ]
     },
     "execution_count": 25,
     "metadata": {},
     "output_type": "execute_result"
    }
   ],
   "source": [
    "subs"
   ]
  },
  {
   "cell_type": "code",
   "execution_count": 26,
   "id": "68d007f0",
   "metadata": {},
   "outputs": [
    {
     "name": "stdout",
     "output_type": "stream",
     "text": [
      "<class 'pandas.core.frame.DataFrame'>\n",
      "RangeIndex: 2 entries, 0 to 1\n",
      "Data columns (total 4 columns):\n",
      " #   Column             Non-Null Count  Dtype \n",
      "---  ------             --------------  ----- \n",
      " 0   subscription_type  2 non-null      object\n",
      " 1   minute_price       2 non-null      int64 \n",
      " 2   start_ride_price   2 non-null      int64 \n",
      " 3   subscription_fee   2 non-null      int64 \n",
      "dtypes: int64(3), object(1)\n",
      "memory usage: 196.0+ bytes\n"
     ]
    }
   ],
   "source": [
    "subs.info()"
   ]
  },
  {
   "cell_type": "markdown",
   "id": "fc5df0eb",
   "metadata": {},
   "source": [
    "Изучив общую информацию о датафреймах, мы видим, что практически все типы данных корректны, за исключением столбца `date`, который имеет тип object. Далее приведем тип данных к корректному типу данных, date."
   ]
  },
  {
   "cell_type": "markdown",
   "id": "9fe11cea",
   "metadata": {},
   "source": [
    "## Предобработка данных"
   ]
  },
  {
   "cell_type": "markdown",
   "id": "69ee1c05",
   "metadata": {},
   "source": [
    "***2.1. Преобразуем тип данных в столбце date.***"
   ]
  },
  {
   "cell_type": "code",
   "execution_count": 27,
   "id": "01181bf1",
   "metadata": {},
   "outputs": [
    {
     "data": {
      "text/plain": [
       "0   2021-01-01\n",
       "1   2021-01-18\n",
       "2   2021-04-20\n",
       "3   2021-08-11\n",
       "4   2021-08-28\n",
       "Name: date, dtype: datetime64[ns]"
      ]
     },
     "execution_count": 27,
     "metadata": {},
     "output_type": "execute_result"
    }
   ],
   "source": [
    "rides['date'] = pd.to_datetime(rides['date'], format = '%Y-%m-%d')\n",
    "rides['date'].head()"
   ]
  },
  {
   "cell_type": "markdown",
   "id": "4b11b391",
   "metadata": {},
   "source": [
    "***2.2 Создадим новый столбец с номером месяца на основе столбца `date`.***"
   ]
  },
  {
   "cell_type": "markdown",
   "id": "a31eeb1d",
   "metadata": {},
   "source": [
    "На всякий случай, посмотрим, за какой период у нас представлены данные, потому что если у нас в выборке несколько разных лет, то один и тот же месяц может принадлежать к разным годам, в таком случае, данные могут быть непоказательны."
   ]
  },
  {
   "cell_type": "code",
   "execution_count": 28,
   "id": "2e4dc95c",
   "metadata": {},
   "outputs": [
    {
     "data": {
      "text/plain": [
       "array([2021], dtype=int32)"
      ]
     },
     "execution_count": 28,
     "metadata": {},
     "output_type": "execute_result"
    }
   ],
   "source": [
    "rides['date'].dt.year.unique()"
   ]
  },
  {
   "cell_type": "markdown",
   "id": "26c58f6f",
   "metadata": {},
   "source": [
    "Данные представлены только за один год, 2021, поэтому можем спокойно выводить столбец с месяцем."
   ]
  },
  {
   "cell_type": "code",
   "execution_count": 29,
   "id": "13f55b8e",
   "metadata": {},
   "outputs": [
    {
     "data": {
      "text/plain": [
       "0    1\n",
       "1    1\n",
       "2    4\n",
       "3    8\n",
       "4    8\n",
       "Name: month_date, dtype: int32"
      ]
     },
     "execution_count": 29,
     "metadata": {},
     "output_type": "execute_result"
    }
   ],
   "source": [
    "rides['month_date'] = rides['date'].dt.month\n",
    "rides['month_date'].head()"
   ]
  },
  {
   "cell_type": "markdown",
   "id": "c6a51d4d",
   "metadata": {},
   "source": [
    "***2.3 Теперь проверим наличие пропущенных значений и дубликатов в датафреймах. Обработаем их, если такие значения присутствуют.***"
   ]
  },
  {
   "cell_type": "code",
   "execution_count": 30,
   "id": "101dec24",
   "metadata": {},
   "outputs": [
    {
     "data": {
      "text/plain": [
       "user_id              0\n",
       "name                 0\n",
       "age                  0\n",
       "city                 0\n",
       "subscription_type    0\n",
       "dtype: int64"
      ]
     },
     "execution_count": 30,
     "metadata": {},
     "output_type": "execute_result"
    }
   ],
   "source": [
    "users.isna().sum()"
   ]
  },
  {
   "cell_type": "code",
   "execution_count": 31,
   "id": "af453eb8",
   "metadata": {},
   "outputs": [
    {
     "data": {
      "text/plain": [
       "user_id       0\n",
       "distance      0\n",
       "duration      0\n",
       "date          0\n",
       "month_date    0\n",
       "dtype: int64"
      ]
     },
     "execution_count": 31,
     "metadata": {},
     "output_type": "execute_result"
    }
   ],
   "source": [
    "rides.isna().sum()"
   ]
  },
  {
   "cell_type": "code",
   "execution_count": 32,
   "id": "e239e2aa",
   "metadata": {},
   "outputs": [
    {
     "data": {
      "text/plain": [
       "subscription_type    0\n",
       "minute_price         0\n",
       "start_ride_price     0\n",
       "subscription_fee     0\n",
       "dtype: int64"
      ]
     },
     "execution_count": 32,
     "metadata": {},
     "output_type": "execute_result"
    }
   ],
   "source": [
    "subs.isna().sum()"
   ]
  },
  {
   "cell_type": "markdown",
   "id": "4938fa68",
   "metadata": {},
   "source": [
    "Мы проверили все наши датафреймы на наличие пропущенных значений, пропусков в данных нет. Проверим на наличие дубликатов."
   ]
  },
  {
   "cell_type": "code",
   "execution_count": 33,
   "id": "7a2c3fbb",
   "metadata": {},
   "outputs": [
    {
     "data": {
      "text/plain": [
       "np.int64(31)"
      ]
     },
     "execution_count": 33,
     "metadata": {},
     "output_type": "execute_result"
    }
   ],
   "source": [
    "users.duplicated().sum()"
   ]
  },
  {
   "cell_type": "code",
   "execution_count": 34,
   "id": "6345349d",
   "metadata": {},
   "outputs": [],
   "source": [
    "users = users.drop_duplicates()"
   ]
  },
  {
   "cell_type": "code",
   "execution_count": 35,
   "id": "bc791dd8",
   "metadata": {},
   "outputs": [
    {
     "data": {
      "text/plain": [
       "np.int64(0)"
      ]
     },
     "execution_count": 35,
     "metadata": {},
     "output_type": "execute_result"
    }
   ],
   "source": [
    "users.duplicated().sum()"
   ]
  },
  {
   "cell_type": "code",
   "execution_count": 36,
   "id": "fe3d9bac",
   "metadata": {},
   "outputs": [
    {
     "data": {
      "text/plain": [
       "np.int64(0)"
      ]
     },
     "execution_count": 36,
     "metadata": {},
     "output_type": "execute_result"
    }
   ],
   "source": [
    "rides.duplicated().sum()"
   ]
  },
  {
   "cell_type": "code",
   "execution_count": 37,
   "id": "595206e5",
   "metadata": {},
   "outputs": [
    {
     "data": {
      "text/plain": [
       "np.int64(0)"
      ]
     },
     "execution_count": 37,
     "metadata": {},
     "output_type": "execute_result"
    }
   ],
   "source": [
    "subs.duplicated().sum()"
   ]
  },
  {
   "cell_type": "markdown",
   "id": "4fa40fdf",
   "metadata": {},
   "source": [
    "**Выводы**\n",
    "\n",
    "- мы преобразовали тип данных в столбце `date` к корректному типу данных\n",
    "- далее мы создали новый столбец с месяцем на основе столбца `date` датафрейма с поездками\n",
    "- пропусков в данных нет\n",
    "- в одном из датафреймов, а именно users, мы нашли 31 явный дубликат, дубликаты мы удалили."
   ]
  },
  {
   "cell_type": "code",
   "execution_count": 38,
   "id": "95917dcb",
   "metadata": {},
   "outputs": [
    {
     "data": {
      "text/plain": [
       "0    4409.919140\n",
       "1    2617.592153\n",
       "2     754.159807\n",
       "Name: distance, dtype: float64"
      ]
     },
     "metadata": {},
     "output_type": "display_data"
    },
    {
     "data": {
      "text/plain": [
       "0    4409.92\n",
       "1    2617.59\n",
       "2     754.16\n",
       "Name: distance, dtype: float64"
      ]
     },
     "execution_count": 38,
     "metadata": {},
     "output_type": "execute_result"
    }
   ],
   "source": [
    "# Комментарий ревьюера 0\n",
    "temp = rides.copy() # Создаем копию, что бы не изменять текущий датасет\n",
    "display(temp['distance'].head(3))\n",
    "# Округление расстояния\n",
    "temp['distance'] = temp['distance'].round(2)\n",
    "temp['distance'].head(3)"
   ]
  },
  {
   "cell_type": "code",
   "execution_count": 39,
   "id": "7c445890",
   "metadata": {},
   "outputs": [],
   "source": [
    "rides['distance'] = rides['distance'].round(2)"
   ]
  },
  {
   "cell_type": "code",
   "execution_count": 40,
   "id": "a7123ec1",
   "metadata": {},
   "outputs": [
    {
     "data": {
      "text/plain": [
       "count    18068.000000\n",
       "mean        17.805011\n",
       "std          6.091051\n",
       "min          0.500000\n",
       "25%         13.597563\n",
       "50%         17.678395\n",
       "75%         21.724800\n",
       "max         40.823963\n",
       "Name: duration, dtype: float64"
      ]
     },
     "execution_count": 40,
     "metadata": {},
     "output_type": "execute_result"
    }
   ],
   "source": [
    "rides['duration'].describe()"
   ]
  },
  {
   "cell_type": "code",
   "execution_count": 41,
   "id": "5c4accbd",
   "metadata": {},
   "outputs": [
    {
     "data": {
      "text/plain": [
       "count    18068.000000\n",
       "mean      3070.659992\n",
       "std       1116.831222\n",
       "min          0.860000\n",
       "25%       2543.227500\n",
       "50%       3133.610000\n",
       "75%       3776.220000\n",
       "max       7211.010000\n",
       "Name: distance, dtype: float64"
      ]
     },
     "execution_count": 41,
     "metadata": {},
     "output_type": "execute_result"
    }
   ],
   "source": [
    "rides['distance'].describe()"
   ]
  },
  {
   "cell_type": "markdown",
   "id": "50691de6",
   "metadata": {},
   "source": [
    "Посмотрели, есть ли аномальные значения в столбце с длительностью поездок и сразу с расстоянием поездок, минимальная длительность составляет 0,5 минуты, можно предположить, что происходит какая-то техническая неисправность, что дальнейшее использование самоката невозможно. Кстати, минимальное расстояние - 0,86 м, по логике как раз в этих случаях такое и может быть.\n",
    "\n",
    "Посмотрим, на другие записи при продолжительности поездок по полминуты."
   ]
  },
  {
   "cell_type": "code",
   "execution_count": 42,
   "id": "f242dc63",
   "metadata": {},
   "outputs": [
    {
     "data": {
      "text/html": [
       "<div>\n",
       "<style scoped>\n",
       "    .dataframe tbody tr th:only-of-type {\n",
       "        vertical-align: middle;\n",
       "    }\n",
       "\n",
       "    .dataframe tbody tr th {\n",
       "        vertical-align: top;\n",
       "    }\n",
       "\n",
       "    .dataframe thead th {\n",
       "        text-align: right;\n",
       "    }\n",
       "</style>\n",
       "<table border=\"1\" class=\"dataframe\">\n",
       "  <thead>\n",
       "    <tr style=\"text-align: right;\">\n",
       "      <th></th>\n",
       "      <th>user_id</th>\n",
       "      <th>distance</th>\n",
       "      <th>duration</th>\n",
       "      <th>date</th>\n",
       "      <th>month_date</th>\n",
       "    </tr>\n",
       "  </thead>\n",
       "  <tbody>\n",
       "    <tr>\n",
       "      <th>6531</th>\n",
       "      <td>701</td>\n",
       "      <td>4196.45</td>\n",
       "      <td>0.5</td>\n",
       "      <td>2021-08-31</td>\n",
       "      <td>8</td>\n",
       "    </tr>\n",
       "    <tr>\n",
       "      <th>6570</th>\n",
       "      <td>704</td>\n",
       "      <td>4830.82</td>\n",
       "      <td>0.5</td>\n",
       "      <td>2021-10-14</td>\n",
       "      <td>10</td>\n",
       "    </tr>\n",
       "    <tr>\n",
       "      <th>6680</th>\n",
       "      <td>712</td>\n",
       "      <td>4684.00</td>\n",
       "      <td>0.5</td>\n",
       "      <td>2021-03-04</td>\n",
       "      <td>3</td>\n",
       "    </tr>\n",
       "    <tr>\n",
       "      <th>6695</th>\n",
       "      <td>713</td>\n",
       "      <td>5215.64</td>\n",
       "      <td>0.5</td>\n",
       "      <td>2021-02-25</td>\n",
       "      <td>2</td>\n",
       "    </tr>\n",
       "    <tr>\n",
       "      <th>6768</th>\n",
       "      <td>718</td>\n",
       "      <td>5197.44</td>\n",
       "      <td>0.5</td>\n",
       "      <td>2021-02-11</td>\n",
       "      <td>2</td>\n",
       "    </tr>\n",
       "    <tr>\n",
       "      <th>...</th>\n",
       "      <td>...</td>\n",
       "      <td>...</td>\n",
       "      <td>...</td>\n",
       "      <td>...</td>\n",
       "      <td>...</td>\n",
       "    </tr>\n",
       "    <tr>\n",
       "      <th>17004</th>\n",
       "      <td>1460</td>\n",
       "      <td>5531.34</td>\n",
       "      <td>0.5</td>\n",
       "      <td>2021-01-19</td>\n",
       "      <td>1</td>\n",
       "    </tr>\n",
       "    <tr>\n",
       "      <th>17242</th>\n",
       "      <td>1477</td>\n",
       "      <td>6724.93</td>\n",
       "      <td>0.5</td>\n",
       "      <td>2021-01-12</td>\n",
       "      <td>1</td>\n",
       "    </tr>\n",
       "    <tr>\n",
       "      <th>17314</th>\n",
       "      <td>1483</td>\n",
       "      <td>4445.48</td>\n",
       "      <td>0.5</td>\n",
       "      <td>2021-03-06</td>\n",
       "      <td>3</td>\n",
       "    </tr>\n",
       "    <tr>\n",
       "      <th>17505</th>\n",
       "      <td>1496</td>\n",
       "      <td>5722.55</td>\n",
       "      <td>0.5</td>\n",
       "      <td>2021-02-14</td>\n",
       "      <td>2</td>\n",
       "    </tr>\n",
       "    <tr>\n",
       "      <th>17909</th>\n",
       "      <td>1524</td>\n",
       "      <td>4104.00</td>\n",
       "      <td>0.5</td>\n",
       "      <td>2021-06-18</td>\n",
       "      <td>6</td>\n",
       "    </tr>\n",
       "  </tbody>\n",
       "</table>\n",
       "<p>95 rows × 5 columns</p>\n",
       "</div>"
      ],
      "text/plain": [
       "       user_id  distance  duration       date  month_date\n",
       "6531       701   4196.45       0.5 2021-08-31           8\n",
       "6570       704   4830.82       0.5 2021-10-14          10\n",
       "6680       712   4684.00       0.5 2021-03-04           3\n",
       "6695       713   5215.64       0.5 2021-02-25           2\n",
       "6768       718   5197.44       0.5 2021-02-11           2\n",
       "...        ...       ...       ...        ...         ...\n",
       "17004     1460   5531.34       0.5 2021-01-19           1\n",
       "17242     1477   6724.93       0.5 2021-01-12           1\n",
       "17314     1483   4445.48       0.5 2021-03-06           3\n",
       "17505     1496   5722.55       0.5 2021-02-14           2\n",
       "17909     1524   4104.00       0.5 2021-06-18           6\n",
       "\n",
       "[95 rows x 5 columns]"
      ]
     },
     "execution_count": 42,
     "metadata": {},
     "output_type": "execute_result"
    }
   ],
   "source": [
    "rides.query(\"duration == 0.5\")"
   ]
  },
  {
   "cell_type": "markdown",
   "id": "9148f8fa",
   "metadata": {},
   "source": [
    "Что очень интересно, минимальные значения продолжительности поездок не соответствуют минимальному расстоянию, наоборот приближаются к максимальным значениям, по 4-6 км. Причем совершенно разные даты, и месяцы, разные пользователи. \n",
    "\n",
    "На эти данные я бы обратила внимание владельцев приложения, получается скорее всего возникла техническая неисправность со счетчиком длительности поездки, а оплата в приложении поминутная. "
   ]
  },
  {
   "cell_type": "markdown",
   "id": "9c32e846",
   "metadata": {},
   "source": [
    "## Исследовательский анализ данных"
   ]
  },
  {
   "cell_type": "markdown",
   "id": "bf03a93e",
   "metadata": {},
   "source": [
    "Опишем и визуализируем общую информацию о пользователях и поездках."
   ]
  },
  {
   "cell_type": "markdown",
   "id": "0c08ce41",
   "metadata": {},
   "source": [
    "***3.1. Частота встречаемости городов.***"
   ]
  },
  {
   "cell_type": "code",
   "execution_count": 43,
   "id": "75b97275",
   "metadata": {},
   "outputs": [
    {
     "data": {
      "text/html": [
       "<div>\n",
       "<style scoped>\n",
       "    .dataframe tbody tr th:only-of-type {\n",
       "        vertical-align: middle;\n",
       "    }\n",
       "\n",
       "    .dataframe tbody tr th {\n",
       "        vertical-align: top;\n",
       "    }\n",
       "\n",
       "    .dataframe thead th {\n",
       "        text-align: right;\n",
       "    }\n",
       "</style>\n",
       "<table border=\"1\" class=\"dataframe\">\n",
       "  <thead>\n",
       "    <tr style=\"text-align: right;\">\n",
       "      <th></th>\n",
       "      <th>city</th>\n",
       "      <th>count</th>\n",
       "    </tr>\n",
       "  </thead>\n",
       "  <tbody>\n",
       "    <tr>\n",
       "      <th>0</th>\n",
       "      <td>Пятигорск</td>\n",
       "      <td>219</td>\n",
       "    </tr>\n",
       "    <tr>\n",
       "      <th>1</th>\n",
       "      <td>Екатеринбург</td>\n",
       "      <td>204</td>\n",
       "    </tr>\n",
       "    <tr>\n",
       "      <th>2</th>\n",
       "      <td>Ростов-на-Дону</td>\n",
       "      <td>198</td>\n",
       "    </tr>\n",
       "    <tr>\n",
       "      <th>3</th>\n",
       "      <td>Краснодар</td>\n",
       "      <td>193</td>\n",
       "    </tr>\n",
       "    <tr>\n",
       "      <th>4</th>\n",
       "      <td>Сочи</td>\n",
       "      <td>189</td>\n",
       "    </tr>\n",
       "    <tr>\n",
       "      <th>5</th>\n",
       "      <td>Омск</td>\n",
       "      <td>183</td>\n",
       "    </tr>\n",
       "    <tr>\n",
       "      <th>6</th>\n",
       "      <td>Тюмень</td>\n",
       "      <td>180</td>\n",
       "    </tr>\n",
       "    <tr>\n",
       "      <th>7</th>\n",
       "      <td>Москва</td>\n",
       "      <td>168</td>\n",
       "    </tr>\n",
       "  </tbody>\n",
       "</table>\n",
       "</div>"
      ],
      "text/plain": [
       "             city  count\n",
       "0       Пятигорск    219\n",
       "1    Екатеринбург    204\n",
       "2  Ростов-на-Дону    198\n",
       "3       Краснодар    193\n",
       "4            Сочи    189\n",
       "5            Омск    183\n",
       "6          Тюмень    180\n",
       "7          Москва    168"
      ]
     },
     "execution_count": 43,
     "metadata": {},
     "output_type": "execute_result"
    }
   ],
   "source": [
    "users['city'].value_counts().reset_index()"
   ]
  },
  {
   "cell_type": "code",
   "execution_count": 44,
   "id": "f8cecb38",
   "metadata": {},
   "outputs": [
    {
     "data": {
      "text/plain": [
       "city\n",
       "Пятигорск         14.3\n",
       "Екатеринбург      13.3\n",
       "Ростов-на-Дону    12.9\n",
       "Краснодар         12.6\n",
       "Сочи              12.3\n",
       "Омск              11.9\n",
       "Тюмень            11.7\n",
       "Москва            11.0\n",
       "Name: count, dtype: float64"
      ]
     },
     "execution_count": 44,
     "metadata": {},
     "output_type": "execute_result"
    }
   ],
   "source": [
    "city_percent = round(users['city'].value_counts() / users['city'].value_counts().sum() * 100, 1)\n",
    "city_percent"
   ]
  },
  {
   "cell_type": "code",
   "execution_count": 45,
   "id": "b7e69a9e",
   "metadata": {},
   "outputs": [],
   "source": [
    "plt.style.use('classic')"
   ]
  },
  {
   "cell_type": "code",
   "execution_count": 46,
   "id": "bcee244c",
   "metadata": {},
   "outputs": [
    {
     "data": {
      "image/png": "[encoded data removed]",
      "text/plain": [
       "<Figure size 720x400 with 1 Axes>"
      ]
     },
     "metadata": {},
     "output_type": "display_data"
    }
   ],
   "source": [
    "ax = round(users['city'].value_counts() / users['city'].value_counts().sum() * 100, 1).plot(\n",
    "    kind='bar',\n",
    "    title='Распределение пользователей по городам',\n",
    "    fontsize=9,\n",
    "    xlabel='Город',\n",
    "    ylabel='Количество пользователей, %',\n",
    "    figsize=(9, 5),\n",
    "    color='DarkOrange'\n",
    ")\n",
    "\n",
    "for i, value in enumerate(city_percent):\n",
    "    ax.text(i, value + 0.5, f'{value}%', ha='center', fontsize=9)\n",
    "\n",
    "plt.xticks(rotation=45)\n",
    "plt.tight_layout() \n",
    "plt.show()"
   ]
  },
  {
   "cell_type": "markdown",
   "id": "ca38ca70",
   "metadata": {},
   "source": [
    "В нашей выборке пользователи распределены по городам достаточно равномерно, больше всего (а именно 14,3 %) - пользователи из города Пятигорска, удивительно, но меньше всего (а именно 11 %) - это пользователи из города Москвы. Возможно это связано с тем, что в связи с размером города Москвы здесь самокаты не сильно популярны.\n",
    "\n",
    "Кстати, примерно в 2021 году в таком городе, как Санкт-Петербург, например, как раз самокаты начинали приобретать большую популярность (в том году я была там в отпуске и была удивлена настолько большим количеством расставленных на улицах самокатов), однако в нашей выборке Питер не представлен и проверить мою гипотезу мы не сможем."
   ]
  },
  {
   "cell_type": "markdown",
   "id": "c0b08b01",
   "metadata": {},
   "source": [
    "***3.2. Соотношение пользователей с подпиской и без подписки.***"
   ]
  },
  {
   "cell_type": "code",
   "execution_count": 47,
   "id": "335abd64",
   "metadata": {},
   "outputs": [
    {
     "data": {
      "text/html": [
       "<div>\n",
       "<style scoped>\n",
       "    .dataframe tbody tr th:only-of-type {\n",
       "        vertical-align: middle;\n",
       "    }\n",
       "\n",
       "    .dataframe tbody tr th {\n",
       "        vertical-align: top;\n",
       "    }\n",
       "\n",
       "    .dataframe thead th {\n",
       "        text-align: right;\n",
       "    }\n",
       "</style>\n",
       "<table border=\"1\" class=\"dataframe\">\n",
       "  <thead>\n",
       "    <tr style=\"text-align: right;\">\n",
       "      <th></th>\n",
       "      <th>subscription_type</th>\n",
       "      <th>count</th>\n",
       "    </tr>\n",
       "  </thead>\n",
       "  <tbody>\n",
       "    <tr>\n",
       "      <th>0</th>\n",
       "      <td>free</td>\n",
       "      <td>835</td>\n",
       "    </tr>\n",
       "    <tr>\n",
       "      <th>1</th>\n",
       "      <td>ultra</td>\n",
       "      <td>699</td>\n",
       "    </tr>\n",
       "  </tbody>\n",
       "</table>\n",
       "</div>"
      ],
      "text/plain": [
       "  subscription_type  count\n",
       "0              free    835\n",
       "1             ultra    699"
      ]
     },
     "execution_count": 47,
     "metadata": {},
     "output_type": "execute_result"
    }
   ],
   "source": [
    "users['subscription_type'].value_counts().reset_index()"
   ]
  },
  {
   "cell_type": "code",
   "execution_count": 48,
   "id": "07e35ea2",
   "metadata": {},
   "outputs": [
    {
     "data": {
      "image/png": "[encoded data removed]",
      "text/plain": [
       "<Figure size 640x480 with 1 Axes>"
      ]
     },
     "metadata": {},
     "output_type": "display_data"
    }
   ],
   "source": [
    "users['subscription_type'].value_counts().plot(\n",
    "    kind = 'pie',\n",
    "    autopct = '%1.0f%%',\n",
    "    colors = ['DarkOrange', 'SteelBlue'],\n",
    "    fontsize=9)\n",
    "plt.title('Соотношение пользователей с подпиской и без подписки', fontsize=11)\n",
    "plt.show()"
   ]
  },
  {
   "cell_type": "markdown",
   "id": "1a2d0e89",
   "metadata": {},
   "source": [
    "Здесь обошлось без сюрпризов. Пользователей с бесплатной подпиской больше, чем пользователей с платной подпиской (54 % против 46 %)."
   ]
  },
  {
   "cell_type": "markdown",
   "id": "2cec9aed",
   "metadata": {},
   "source": [
    "***3.3. Возраст пользователей.***"
   ]
  },
  {
   "cell_type": "markdown",
   "id": "77cd38f9",
   "metadata": {},
   "source": [
    "Посмотрим сначала, нет ли аномальных значений возраста пользователей приложения. Заодно посмотрим на самых младших и самых старших пользователей приложения."
   ]
  },
  {
   "cell_type": "code",
   "execution_count": 49,
   "id": "27f0564a",
   "metadata": {},
   "outputs": [
    {
     "data": {
      "text/plain": [
       "count    1534.000000\n",
       "mean       24.903520\n",
       "std         4.572367\n",
       "min        12.000000\n",
       "25%        22.000000\n",
       "50%        25.000000\n",
       "75%        28.000000\n",
       "max        43.000000\n",
       "Name: age, dtype: float64"
      ]
     },
     "execution_count": 49,
     "metadata": {},
     "output_type": "execute_result"
    }
   ],
   "source": [
    "users['age'].describe()"
   ]
  },
  {
   "cell_type": "markdown",
   "id": "fa56b0c1",
   "metadata": {},
   "source": [
    "Возраст пользователей колеблется от 12 лет до 43 лет, средний возраст пользователей приложения - 25 лет."
   ]
  },
  {
   "cell_type": "code",
   "execution_count": 50,
   "id": "0aeb0256",
   "metadata": {},
   "outputs": [
    {
     "data": {
      "image/png": "[encoded data removed]",
      "text/plain": [
       "<Figure size 640x480 with 1 Axes>"
      ]
     },
     "metadata": {},
     "output_type": "display_data"
    }
   ],
   "source": [
    "users['age'].hist(bins=10, color='DarkOrange')\n",
    "\n",
    "plt.title('Возраст пользователей', fontsize=10)\n",
    "plt.xlabel('Возраст', fontsize=9)\n",
    "plt.ylabel('Количество', fontsize=9)\n",
    "plt.show()"
   ]
  },
  {
   "cell_type": "markdown",
   "id": "6834b57c",
   "metadata": {},
   "source": [
    "Большинство пользователей приложения находятся в возрасте от 20 до 30 лет. Минимальный возраст в датасете - 12 лет, однако по закону прокатом самокатов можно пользоваться только с 18 лет."
   ]
  },
  {
   "cell_type": "markdown",
   "id": "d356d193",
   "metadata": {},
   "source": [
    "***3.4. Расстояние, которое пользователь преодолел за одну поездку.***"
   ]
  },
  {
   "cell_type": "markdown",
   "id": "378ae88f",
   "metadata": {},
   "source": [
    "Посмотрим описательную статистику расстояний, преодоленных пользователями за одну поездку, которые представлены в нашей выборке."
   ]
  },
  {
   "cell_type": "code",
   "execution_count": 51,
   "id": "f07e745c",
   "metadata": {},
   "outputs": [
    {
     "data": {
      "text/html": [
       "<div>\n",
       "<style scoped>\n",
       "    .dataframe tbody tr th:only-of-type {\n",
       "        vertical-align: middle;\n",
       "    }\n",
       "\n",
       "    .dataframe tbody tr th {\n",
       "        vertical-align: top;\n",
       "    }\n",
       "\n",
       "    .dataframe thead th {\n",
       "        text-align: right;\n",
       "    }\n",
       "</style>\n",
       "<table border=\"1\" class=\"dataframe\">\n",
       "  <thead>\n",
       "    <tr style=\"text-align: right;\">\n",
       "      <th></th>\n",
       "      <th>user_id</th>\n",
       "      <th>distance</th>\n",
       "      <th>duration</th>\n",
       "      <th>date</th>\n",
       "      <th>month_date</th>\n",
       "    </tr>\n",
       "  </thead>\n",
       "  <tbody>\n",
       "    <tr>\n",
       "      <th>0</th>\n",
       "      <td>1</td>\n",
       "      <td>4409.92</td>\n",
       "      <td>25.599769</td>\n",
       "      <td>2021-01-01</td>\n",
       "      <td>1</td>\n",
       "    </tr>\n",
       "    <tr>\n",
       "      <th>1</th>\n",
       "      <td>1</td>\n",
       "      <td>2617.59</td>\n",
       "      <td>15.816871</td>\n",
       "      <td>2021-01-18</td>\n",
       "      <td>1</td>\n",
       "    </tr>\n",
       "    <tr>\n",
       "      <th>2</th>\n",
       "      <td>1</td>\n",
       "      <td>754.16</td>\n",
       "      <td>6.232113</td>\n",
       "      <td>2021-04-20</td>\n",
       "      <td>4</td>\n",
       "    </tr>\n",
       "    <tr>\n",
       "      <th>3</th>\n",
       "      <td>1</td>\n",
       "      <td>2694.78</td>\n",
       "      <td>18.511000</td>\n",
       "      <td>2021-08-11</td>\n",
       "      <td>8</td>\n",
       "    </tr>\n",
       "    <tr>\n",
       "      <th>4</th>\n",
       "      <td>1</td>\n",
       "      <td>4028.69</td>\n",
       "      <td>26.265803</td>\n",
       "      <td>2021-08-28</td>\n",
       "      <td>8</td>\n",
       "    </tr>\n",
       "  </tbody>\n",
       "</table>\n",
       "</div>"
      ],
      "text/plain": [
       "   user_id  distance   duration       date  month_date\n",
       "0        1   4409.92  25.599769 2021-01-01           1\n",
       "1        1   2617.59  15.816871 2021-01-18           1\n",
       "2        1    754.16   6.232113 2021-04-20           4\n",
       "3        1   2694.78  18.511000 2021-08-11           8\n",
       "4        1   4028.69  26.265803 2021-08-28           8"
      ]
     },
     "execution_count": 51,
     "metadata": {},
     "output_type": "execute_result"
    }
   ],
   "source": [
    "rides.head()"
   ]
  },
  {
   "cell_type": "code",
   "execution_count": 52,
   "id": "a5a6721b",
   "metadata": {},
   "outputs": [
    {
     "data": {
      "text/plain": [
       "count    18068.000000\n",
       "mean      3070.659992\n",
       "std       1116.831222\n",
       "min          0.860000\n",
       "25%       2543.227500\n",
       "50%       3133.610000\n",
       "75%       3776.220000\n",
       "max       7211.010000\n",
       "Name: distance, dtype: float64"
      ]
     },
     "execution_count": 52,
     "metadata": {},
     "output_type": "execute_result"
    }
   ],
   "source": [
    "rides['distance'].describe()"
   ]
  },
  {
   "cell_type": "markdown",
   "id": "5e247b9e",
   "metadata": {},
   "source": [
    "Минимальное расстояние, которое преодолел пользователь на самокате - 0,86 м, максимальное расстояние - 7,21 км."
   ]
  },
  {
   "cell_type": "code",
   "execution_count": 53,
   "id": "534f2f84",
   "metadata": {},
   "outputs": [
    {
     "data": {
      "image/png": "[encoded data removed]",
      "text/plain": [
       "<Figure size 640x480 with 1 Axes>"
      ]
     },
     "metadata": {},
     "output_type": "display_data"
    }
   ],
   "source": [
    "sns.boxplot(x = rides['distance'], color='DarkOrange')\n",
    "\n",
    "plt.title('Расстояние, преодоленное пользователем за одну поездку', fontsize=11)\n",
    "plt.xlabel('Расстояние, м', fontsize=9)\n",
    "\n",
    "plt.show()"
   ]
  },
  {
   "cell_type": "code",
   "execution_count": 54,
   "id": "a12d2f88",
   "metadata": {},
   "outputs": [
    {
     "data": {
      "image/png": "[encoded data removed]",
      "text/plain": [
       "<Figure size 640x480 with 1 Axes>"
      ]
     },
     "metadata": {},
     "output_type": "display_data"
    }
   ],
   "source": [
    "rides['distance'].hist(\n",
    "    bins = 50,\n",
    "    color='DarkOrange'\n",
    ")\n",
    "\n",
    "plt.title('Визуализация дистанций поездок', fontsize=11)\n",
    "plt.xlabel('Расстояние, м', fontsize=9)\n",
    "plt.show()"
   ]
  },
  {
   "cell_type": "markdown",
   "id": "82ab9579",
   "metadata": {},
   "source": [
    "В среднем пользователи приложения преодолевали расстояние около 3 км за одну поездку. Чаще всего пользователи преодолевали расстояние примерно от 2,5 км до 4 км."
   ]
  },
  {
   "cell_type": "markdown",
   "id": "f936fab3",
   "metadata": {},
   "source": [
    "***3.5. Продолжительность поездок.***"
   ]
  },
  {
   "cell_type": "code",
   "execution_count": 55,
   "id": "51365543",
   "metadata": {},
   "outputs": [
    {
     "data": {
      "text/plain": [
       "count    18068.000000\n",
       "mean        17.805011\n",
       "std          6.091051\n",
       "min          0.500000\n",
       "25%         13.597563\n",
       "50%         17.678395\n",
       "75%         21.724800\n",
       "max         40.823963\n",
       "Name: duration, dtype: float64"
      ]
     },
     "execution_count": 55,
     "metadata": {},
     "output_type": "execute_result"
    }
   ],
   "source": [
    "rides['duration'].describe()"
   ]
  },
  {
   "cell_type": "markdown",
   "id": "59e4139e",
   "metadata": {},
   "source": [
    "Минимальная продолжительность поездки - 0,5 минут (причем в этих поездках минимальное время не значит минимальное расстояние, как мы выяснили ранее), вероятно возникла какая-то техническая неисправность, и сломался счетчик времени (что обязательно отразится на выручке, поскольку тарификация идет поминутная), максимальная продолжительность поездки - 41 минута."
   ]
  },
  {
   "cell_type": "code",
   "execution_count": 56,
   "id": "6ea505e2",
   "metadata": {},
   "outputs": [
    {
     "data": {
      "image/png": "[encoded data removed]",
      "text/plain": [
       "<Figure size 640x480 with 1 Axes>"
      ]
     },
     "metadata": {},
     "output_type": "display_data"
    }
   ],
   "source": [
    "sns.boxplot(x = rides['duration'], color='DarkOrange')\n",
    "\n",
    "plt.title('Продолжительность поездки', fontsize=11)\n",
    "plt.xlabel('Время, мин', fontsize=9)\n",
    "\n",
    "plt.show()"
   ]
  },
  {
   "cell_type": "markdown",
   "id": "cc2997d7",
   "metadata": {},
   "source": [
    "В среднем пользователи проводили в поездках на самокатах около 17 минут, чаще всего поездки длились от 13 до 22 минуты."
   ]
  },
  {
   "cell_type": "markdown",
   "id": "23489040",
   "metadata": {},
   "source": [
    "**Выводы**\n",
    "\n",
    "**Частота встречаемости городов**\n",
    "\n",
    "В нашей выборке пользователи распределены по городам достаточно равномерно, больше всего (а именно 14,3 % или 219 человек) - пользователи из города Пятигорска, удивительно, но меньше всего (а именно 11 % или 168 человек) - это пользователи из города Москвы. Возможно это связано с тем, что в связи с тем, что Москва очень крупный город, и не всегда возможно здесь добраться до нужного места с помощью самоката.\n",
    "\n",
    "**Соотношение пользователей с подпиской и без подписки**\n",
    "\n",
    "В данном случае также не сильно большая разница между двумя группами пользователей - 54 % пользователей бесплатной подписки против 46 % пользователей с платной подпиской.\n",
    "\n",
    "**Возраст пользователей**\n",
    "\n",
    "Самому младшему пользователю приложения 12 лет (что является явным нарушением существующих норм, прокат самокатов разрешен с 18 лет), самому старшему - 43 года. Более всего пользователей приложения представлено в диапазоне от 20 до 30 лет.\n",
    "\n",
    "**Расстояние, преодоленное пользователем за одну поездку**\n",
    "\n",
    "Минимальное расстояние, которое преодолел пользователь на самокате за одну поездку - 0,86 м, максимальное расстояние на одну поездку - 7,21 км. В среднем, за одну поездку пользователи проезжали около 3 км.\n",
    "\n",
    "**Продолжительность поездок**\n",
    "\n",
    "Минимальная продолжительность поездок составляет 0,5 минут (причем в этих поездках минимальное время не значит минимальное расстояние), вероятно возникла какая-то техническая неисправность и сломался счетчик времени (что обязательно отразится на выручке, поскольку тарификация идет поминутная), максимальная продолжительность поездки - 41 минута. В среднем пользователи проводили в поездке на самокате около 17 минут."
   ]
  },
  {
   "cell_type": "markdown",
   "id": "bbbbcb9a",
   "metadata": {},
   "source": [
    "## Объединение данных"
   ]
  },
  {
   "cell_type": "markdown",
   "id": "696a960b",
   "metadata": {},
   "source": [
    "***4.1 Объединим данные о пользователях, поездках и подписках в один датафрейм. Используем для этой цели метод merge().***"
   ]
  },
  {
   "cell_type": "code",
   "execution_count": 57,
   "id": "9ec3ba2d",
   "metadata": {},
   "outputs": [],
   "source": [
    "df = users.merge(rides, how='right', on='user_id')\n",
    "df = df.merge(subs, how='left', on='subscription_type')"
   ]
  },
  {
   "cell_type": "markdown",
   "id": "f8c65a47",
   "metadata": {},
   "source": [
    "Проверим на всякий случай, что при объединении потери данных не произошло."
   ]
  },
  {
   "cell_type": "code",
   "execution_count": 58,
   "id": "37951544",
   "metadata": {},
   "outputs": [
    {
     "data": {
      "text/html": [
       "<div>\n",
       "<style scoped>\n",
       "    .dataframe tbody tr th:only-of-type {\n",
       "        vertical-align: middle;\n",
       "    }\n",
       "\n",
       "    .dataframe tbody tr th {\n",
       "        vertical-align: top;\n",
       "    }\n",
       "\n",
       "    .dataframe thead th {\n",
       "        text-align: right;\n",
       "    }\n",
       "</style>\n",
       "<table border=\"1\" class=\"dataframe\">\n",
       "  <thead>\n",
       "    <tr style=\"text-align: right;\">\n",
       "      <th></th>\n",
       "      <th>user_id</th>\n",
       "      <th>name</th>\n",
       "      <th>age</th>\n",
       "      <th>city</th>\n",
       "      <th>subscription_type</th>\n",
       "      <th>distance</th>\n",
       "      <th>duration</th>\n",
       "      <th>date</th>\n",
       "      <th>month_date</th>\n",
       "      <th>minute_price</th>\n",
       "      <th>start_ride_price</th>\n",
       "      <th>subscription_fee</th>\n",
       "    </tr>\n",
       "  </thead>\n",
       "  <tbody>\n",
       "    <tr>\n",
       "      <th>0</th>\n",
       "      <td>1</td>\n",
       "      <td>Кира</td>\n",
       "      <td>22</td>\n",
       "      <td>Тюмень</td>\n",
       "      <td>ultra</td>\n",
       "      <td>4409.92</td>\n",
       "      <td>25.599769</td>\n",
       "      <td>2021-01-01</td>\n",
       "      <td>1</td>\n",
       "      <td>6</td>\n",
       "      <td>0</td>\n",
       "      <td>199</td>\n",
       "    </tr>\n",
       "    <tr>\n",
       "      <th>1</th>\n",
       "      <td>1</td>\n",
       "      <td>Кира</td>\n",
       "      <td>22</td>\n",
       "      <td>Тюмень</td>\n",
       "      <td>ultra</td>\n",
       "      <td>2617.59</td>\n",
       "      <td>15.816871</td>\n",
       "      <td>2021-01-18</td>\n",
       "      <td>1</td>\n",
       "      <td>6</td>\n",
       "      <td>0</td>\n",
       "      <td>199</td>\n",
       "    </tr>\n",
       "    <tr>\n",
       "      <th>2</th>\n",
       "      <td>1</td>\n",
       "      <td>Кира</td>\n",
       "      <td>22</td>\n",
       "      <td>Тюмень</td>\n",
       "      <td>ultra</td>\n",
       "      <td>754.16</td>\n",
       "      <td>6.232113</td>\n",
       "      <td>2021-04-20</td>\n",
       "      <td>4</td>\n",
       "      <td>6</td>\n",
       "      <td>0</td>\n",
       "      <td>199</td>\n",
       "    </tr>\n",
       "    <tr>\n",
       "      <th>3</th>\n",
       "      <td>1</td>\n",
       "      <td>Кира</td>\n",
       "      <td>22</td>\n",
       "      <td>Тюмень</td>\n",
       "      <td>ultra</td>\n",
       "      <td>2694.78</td>\n",
       "      <td>18.511000</td>\n",
       "      <td>2021-08-11</td>\n",
       "      <td>8</td>\n",
       "      <td>6</td>\n",
       "      <td>0</td>\n",
       "      <td>199</td>\n",
       "    </tr>\n",
       "    <tr>\n",
       "      <th>4</th>\n",
       "      <td>1</td>\n",
       "      <td>Кира</td>\n",
       "      <td>22</td>\n",
       "      <td>Тюмень</td>\n",
       "      <td>ultra</td>\n",
       "      <td>4028.69</td>\n",
       "      <td>26.265803</td>\n",
       "      <td>2021-08-28</td>\n",
       "      <td>8</td>\n",
       "      <td>6</td>\n",
       "      <td>0</td>\n",
       "      <td>199</td>\n",
       "    </tr>\n",
       "    <tr>\n",
       "      <th>...</th>\n",
       "      <td>...</td>\n",
       "      <td>...</td>\n",
       "      <td>...</td>\n",
       "      <td>...</td>\n",
       "      <td>...</td>\n",
       "      <td>...</td>\n",
       "      <td>...</td>\n",
       "      <td>...</td>\n",
       "      <td>...</td>\n",
       "      <td>...</td>\n",
       "      <td>...</td>\n",
       "      <td>...</td>\n",
       "    </tr>\n",
       "    <tr>\n",
       "      <th>18063</th>\n",
       "      <td>1534</td>\n",
       "      <td>Альберт</td>\n",
       "      <td>25</td>\n",
       "      <td>Краснодар</td>\n",
       "      <td>free</td>\n",
       "      <td>3781.10</td>\n",
       "      <td>19.822962</td>\n",
       "      <td>2021-11-04</td>\n",
       "      <td>11</td>\n",
       "      <td>8</td>\n",
       "      <td>50</td>\n",
       "      <td>0</td>\n",
       "    </tr>\n",
       "    <tr>\n",
       "      <th>18064</th>\n",
       "      <td>1534</td>\n",
       "      <td>Альберт</td>\n",
       "      <td>25</td>\n",
       "      <td>Краснодар</td>\n",
       "      <td>free</td>\n",
       "      <td>2840.42</td>\n",
       "      <td>21.409799</td>\n",
       "      <td>2021-11-16</td>\n",
       "      <td>11</td>\n",
       "      <td>8</td>\n",
       "      <td>50</td>\n",
       "      <td>0</td>\n",
       "    </tr>\n",
       "    <tr>\n",
       "      <th>18065</th>\n",
       "      <td>1534</td>\n",
       "      <td>Альберт</td>\n",
       "      <td>25</td>\n",
       "      <td>Краснодар</td>\n",
       "      <td>free</td>\n",
       "      <td>3826.19</td>\n",
       "      <td>18.435051</td>\n",
       "      <td>2021-11-18</td>\n",
       "      <td>11</td>\n",
       "      <td>8</td>\n",
       "      <td>50</td>\n",
       "      <td>0</td>\n",
       "    </tr>\n",
       "    <tr>\n",
       "      <th>18066</th>\n",
       "      <td>1534</td>\n",
       "      <td>Альберт</td>\n",
       "      <td>25</td>\n",
       "      <td>Краснодар</td>\n",
       "      <td>free</td>\n",
       "      <td>2902.31</td>\n",
       "      <td>16.674362</td>\n",
       "      <td>2021-11-27</td>\n",
       "      <td>11</td>\n",
       "      <td>8</td>\n",
       "      <td>50</td>\n",
       "      <td>0</td>\n",
       "    </tr>\n",
       "    <tr>\n",
       "      <th>18067</th>\n",
       "      <td>1534</td>\n",
       "      <td>Альберт</td>\n",
       "      <td>25</td>\n",
       "      <td>Краснодар</td>\n",
       "      <td>free</td>\n",
       "      <td>2371.71</td>\n",
       "      <td>15.893917</td>\n",
       "      <td>2021-12-29</td>\n",
       "      <td>12</td>\n",
       "      <td>8</td>\n",
       "      <td>50</td>\n",
       "      <td>0</td>\n",
       "    </tr>\n",
       "  </tbody>\n",
       "</table>\n",
       "<p>18068 rows × 12 columns</p>\n",
       "</div>"
      ],
      "text/plain": [
       "       user_id     name  age       city subscription_type  distance  \\\n",
       "0            1     Кира   22     Тюмень             ultra   4409.92   \n",
       "1            1     Кира   22     Тюмень             ultra   2617.59   \n",
       "2            1     Кира   22     Тюмень             ultra    754.16   \n",
       "3            1     Кира   22     Тюмень             ultra   2694.78   \n",
       "4            1     Кира   22     Тюмень             ultra   4028.69   \n",
       "...        ...      ...  ...        ...               ...       ...   \n",
       "18063     1534  Альберт   25  Краснодар              free   3781.10   \n",
       "18064     1534  Альберт   25  Краснодар              free   2840.42   \n",
       "18065     1534  Альберт   25  Краснодар              free   3826.19   \n",
       "18066     1534  Альберт   25  Краснодар              free   2902.31   \n",
       "18067     1534  Альберт   25  Краснодар              free   2371.71   \n",
       "\n",
       "        duration       date  month_date  minute_price  start_ride_price  \\\n",
       "0      25.599769 2021-01-01           1             6                 0   \n",
       "1      15.816871 2021-01-18           1             6                 0   \n",
       "2       6.232113 2021-04-20           4             6                 0   \n",
       "3      18.511000 2021-08-11           8             6                 0   \n",
       "4      26.265803 2021-08-28           8             6                 0   \n",
       "...          ...        ...         ...           ...               ...   \n",
       "18063  19.822962 2021-11-04          11             8                50   \n",
       "18064  21.409799 2021-11-16          11             8                50   \n",
       "18065  18.435051 2021-11-18          11             8                50   \n",
       "18066  16.674362 2021-11-27          11             8                50   \n",
       "18067  15.893917 2021-12-29          12             8                50   \n",
       "\n",
       "       subscription_fee  \n",
       "0                   199  \n",
       "1                   199  \n",
       "2                   199  \n",
       "3                   199  \n",
       "4                   199  \n",
       "...                 ...  \n",
       "18063                 0  \n",
       "18064                 0  \n",
       "18065                 0  \n",
       "18066                 0  \n",
       "18067                 0  \n",
       "\n",
       "[18068 rows x 12 columns]"
      ]
     },
     "execution_count": 58,
     "metadata": {},
     "output_type": "execute_result"
    }
   ],
   "source": [
    "df"
   ]
  },
  {
   "cell_type": "markdown",
   "id": "9cd6d19d",
   "metadata": {},
   "source": [
    "Проверим итоговый датасет на пропуски и посмотрим, не потерялись ли данные."
   ]
  },
  {
   "cell_type": "code",
   "execution_count": 59,
   "id": "25c9ceca",
   "metadata": {},
   "outputs": [
    {
     "name": "stdout",
     "output_type": "stream",
     "text": [
      "<class 'pandas.core.frame.DataFrame'>\n",
      "RangeIndex: 18068 entries, 0 to 18067\n",
      "Data columns (total 12 columns):\n",
      " #   Column             Non-Null Count  Dtype         \n",
      "---  ------             --------------  -----         \n",
      " 0   user_id            18068 non-null  int64         \n",
      " 1   name               18068 non-null  object        \n",
      " 2   age                18068 non-null  int64         \n",
      " 3   city               18068 non-null  object        \n",
      " 4   subscription_type  18068 non-null  object        \n",
      " 5   distance           18068 non-null  float64       \n",
      " 6   duration           18068 non-null  float64       \n",
      " 7   date               18068 non-null  datetime64[ns]\n",
      " 8   month_date         18068 non-null  int32         \n",
      " 9   minute_price       18068 non-null  int64         \n",
      " 10  start_ride_price   18068 non-null  int64         \n",
      " 11  subscription_fee   18068 non-null  int64         \n",
      "dtypes: datetime64[ns](1), float64(2), int32(1), int64(5), object(3)\n",
      "memory usage: 1.6+ MB\n"
     ]
    }
   ],
   "source": [
    "df.info()"
   ]
  },
  {
   "cell_type": "code",
   "execution_count": 60,
   "id": "2d4ef954",
   "metadata": {},
   "outputs": [
    {
     "data": {
      "text/plain": [
       "user_id              0\n",
       "name                 0\n",
       "age                  0\n",
       "city                 0\n",
       "subscription_type    0\n",
       "distance             0\n",
       "duration             0\n",
       "date                 0\n",
       "month_date           0\n",
       "minute_price         0\n",
       "start_ride_price     0\n",
       "subscription_fee     0\n",
       "dtype: int64"
      ]
     },
     "execution_count": 60,
     "metadata": {},
     "output_type": "execute_result"
    }
   ],
   "source": [
    "df.isna().sum()"
   ]
  },
  {
   "cell_type": "markdown",
   "id": "b1e98686",
   "metadata": {},
   "source": [
    "Размерность в порядке, никаких данных в процессе объединения не потерялось. Проусков в данных также нет."
   ]
  },
  {
   "cell_type": "markdown",
   "id": "cd27d1ab",
   "metadata": {},
   "source": [
    "***4.2 Создадим ещё два датафрейма из датафрейма, созданного на этапе 4.1.***\n",
    "\n",
    "Нам нужны данные о пользователях без подписки и данные о пользователях с подпиской."
   ]
  },
  {
   "cell_type": "code",
   "execution_count": 61,
   "id": "d0a1d110",
   "metadata": {},
   "outputs": [
    {
     "data": {
      "text/html": [
       "<div>\n",
       "<style scoped>\n",
       "    .dataframe tbody tr th:only-of-type {\n",
       "        vertical-align: middle;\n",
       "    }\n",
       "\n",
       "    .dataframe tbody tr th {\n",
       "        vertical-align: top;\n",
       "    }\n",
       "\n",
       "    .dataframe thead th {\n",
       "        text-align: right;\n",
       "    }\n",
       "</style>\n",
       "<table border=\"1\" class=\"dataframe\">\n",
       "  <thead>\n",
       "    <tr style=\"text-align: right;\">\n",
       "      <th></th>\n",
       "      <th>user_id</th>\n",
       "      <th>name</th>\n",
       "      <th>age</th>\n",
       "      <th>city</th>\n",
       "      <th>subscription_type</th>\n",
       "      <th>distance</th>\n",
       "      <th>duration</th>\n",
       "      <th>date</th>\n",
       "      <th>month_date</th>\n",
       "      <th>minute_price</th>\n",
       "      <th>start_ride_price</th>\n",
       "      <th>subscription_fee</th>\n",
       "    </tr>\n",
       "  </thead>\n",
       "  <tbody>\n",
       "    <tr>\n",
       "      <th>6500</th>\n",
       "      <td>700</td>\n",
       "      <td>Айдар</td>\n",
       "      <td>22</td>\n",
       "      <td>Омск</td>\n",
       "      <td>free</td>\n",
       "      <td>2515.69</td>\n",
       "      <td>14.944286</td>\n",
       "      <td>2021-01-02</td>\n",
       "      <td>1</td>\n",
       "      <td>8</td>\n",
       "      <td>50</td>\n",
       "      <td>0</td>\n",
       "    </tr>\n",
       "    <tr>\n",
       "      <th>6501</th>\n",
       "      <td>700</td>\n",
       "      <td>Айдар</td>\n",
       "      <td>22</td>\n",
       "      <td>Омск</td>\n",
       "      <td>free</td>\n",
       "      <td>846.93</td>\n",
       "      <td>16.234663</td>\n",
       "      <td>2021-02-01</td>\n",
       "      <td>2</td>\n",
       "      <td>8</td>\n",
       "      <td>50</td>\n",
       "      <td>0</td>\n",
       "    </tr>\n",
       "    <tr>\n",
       "      <th>6502</th>\n",
       "      <td>700</td>\n",
       "      <td>Айдар</td>\n",
       "      <td>22</td>\n",
       "      <td>Омск</td>\n",
       "      <td>free</td>\n",
       "      <td>4004.43</td>\n",
       "      <td>20.016628</td>\n",
       "      <td>2021-02-04</td>\n",
       "      <td>2</td>\n",
       "      <td>8</td>\n",
       "      <td>50</td>\n",
       "      <td>0</td>\n",
       "    </tr>\n",
       "    <tr>\n",
       "      <th>6503</th>\n",
       "      <td>700</td>\n",
       "      <td>Айдар</td>\n",
       "      <td>22</td>\n",
       "      <td>Омск</td>\n",
       "      <td>free</td>\n",
       "      <td>1205.91</td>\n",
       "      <td>9.782872</td>\n",
       "      <td>2021-02-10</td>\n",
       "      <td>2</td>\n",
       "      <td>8</td>\n",
       "      <td>50</td>\n",
       "      <td>0</td>\n",
       "    </tr>\n",
       "    <tr>\n",
       "      <th>6504</th>\n",
       "      <td>700</td>\n",
       "      <td>Айдар</td>\n",
       "      <td>22</td>\n",
       "      <td>Омск</td>\n",
       "      <td>free</td>\n",
       "      <td>3047.38</td>\n",
       "      <td>17.427673</td>\n",
       "      <td>2021-02-14</td>\n",
       "      <td>2</td>\n",
       "      <td>8</td>\n",
       "      <td>50</td>\n",
       "      <td>0</td>\n",
       "    </tr>\n",
       "    <tr>\n",
       "      <th>...</th>\n",
       "      <td>...</td>\n",
       "      <td>...</td>\n",
       "      <td>...</td>\n",
       "      <td>...</td>\n",
       "      <td>...</td>\n",
       "      <td>...</td>\n",
       "      <td>...</td>\n",
       "      <td>...</td>\n",
       "      <td>...</td>\n",
       "      <td>...</td>\n",
       "      <td>...</td>\n",
       "      <td>...</td>\n",
       "    </tr>\n",
       "    <tr>\n",
       "      <th>18063</th>\n",
       "      <td>1534</td>\n",
       "      <td>Альберт</td>\n",
       "      <td>25</td>\n",
       "      <td>Краснодар</td>\n",
       "      <td>free</td>\n",
       "      <td>3781.10</td>\n",
       "      <td>19.822962</td>\n",
       "      <td>2021-11-04</td>\n",
       "      <td>11</td>\n",
       "      <td>8</td>\n",
       "      <td>50</td>\n",
       "      <td>0</td>\n",
       "    </tr>\n",
       "    <tr>\n",
       "      <th>18064</th>\n",
       "      <td>1534</td>\n",
       "      <td>Альберт</td>\n",
       "      <td>25</td>\n",
       "      <td>Краснодар</td>\n",
       "      <td>free</td>\n",
       "      <td>2840.42</td>\n",
       "      <td>21.409799</td>\n",
       "      <td>2021-11-16</td>\n",
       "      <td>11</td>\n",
       "      <td>8</td>\n",
       "      <td>50</td>\n",
       "      <td>0</td>\n",
       "    </tr>\n",
       "    <tr>\n",
       "      <th>18065</th>\n",
       "      <td>1534</td>\n",
       "      <td>Альберт</td>\n",
       "      <td>25</td>\n",
       "      <td>Краснодар</td>\n",
       "      <td>free</td>\n",
       "      <td>3826.19</td>\n",
       "      <td>18.435051</td>\n",
       "      <td>2021-11-18</td>\n",
       "      <td>11</td>\n",
       "      <td>8</td>\n",
       "      <td>50</td>\n",
       "      <td>0</td>\n",
       "    </tr>\n",
       "    <tr>\n",
       "      <th>18066</th>\n",
       "      <td>1534</td>\n",
       "      <td>Альберт</td>\n",
       "      <td>25</td>\n",
       "      <td>Краснодар</td>\n",
       "      <td>free</td>\n",
       "      <td>2902.31</td>\n",
       "      <td>16.674362</td>\n",
       "      <td>2021-11-27</td>\n",
       "      <td>11</td>\n",
       "      <td>8</td>\n",
       "      <td>50</td>\n",
       "      <td>0</td>\n",
       "    </tr>\n",
       "    <tr>\n",
       "      <th>18067</th>\n",
       "      <td>1534</td>\n",
       "      <td>Альберт</td>\n",
       "      <td>25</td>\n",
       "      <td>Краснодар</td>\n",
       "      <td>free</td>\n",
       "      <td>2371.71</td>\n",
       "      <td>15.893917</td>\n",
       "      <td>2021-12-29</td>\n",
       "      <td>12</td>\n",
       "      <td>8</td>\n",
       "      <td>50</td>\n",
       "      <td>0</td>\n",
       "    </tr>\n",
       "  </tbody>\n",
       "</table>\n",
       "<p>11568 rows × 12 columns</p>\n",
       "</div>"
      ],
      "text/plain": [
       "       user_id     name  age       city subscription_type  distance  \\\n",
       "6500       700    Айдар   22       Омск              free   2515.69   \n",
       "6501       700    Айдар   22       Омск              free    846.93   \n",
       "6502       700    Айдар   22       Омск              free   4004.43   \n",
       "6503       700    Айдар   22       Омск              free   1205.91   \n",
       "6504       700    Айдар   22       Омск              free   3047.38   \n",
       "...        ...      ...  ...        ...               ...       ...   \n",
       "18063     1534  Альберт   25  Краснодар              free   3781.10   \n",
       "18064     1534  Альберт   25  Краснодар              free   2840.42   \n",
       "18065     1534  Альберт   25  Краснодар              free   3826.19   \n",
       "18066     1534  Альберт   25  Краснодар              free   2902.31   \n",
       "18067     1534  Альберт   25  Краснодар              free   2371.71   \n",
       "\n",
       "        duration       date  month_date  minute_price  start_ride_price  \\\n",
       "6500   14.944286 2021-01-02           1             8                50   \n",
       "6501   16.234663 2021-02-01           2             8                50   \n",
       "6502   20.016628 2021-02-04           2             8                50   \n",
       "6503    9.782872 2021-02-10           2             8                50   \n",
       "6504   17.427673 2021-02-14           2             8                50   \n",
       "...          ...        ...         ...           ...               ...   \n",
       "18063  19.822962 2021-11-04          11             8                50   \n",
       "18064  21.409799 2021-11-16          11             8                50   \n",
       "18065  18.435051 2021-11-18          11             8                50   \n",
       "18066  16.674362 2021-11-27          11             8                50   \n",
       "18067  15.893917 2021-12-29          12             8                50   \n",
       "\n",
       "       subscription_fee  \n",
       "6500                  0  \n",
       "6501                  0  \n",
       "6502                  0  \n",
       "6503                  0  \n",
       "6504                  0  \n",
       "...                 ...  \n",
       "18063                 0  \n",
       "18064                 0  \n",
       "18065                 0  \n",
       "18066                 0  \n",
       "18067                 0  \n",
       "\n",
       "[11568 rows x 12 columns]"
      ]
     },
     "execution_count": 61,
     "metadata": {},
     "output_type": "execute_result"
    }
   ],
   "source": [
    "df_free = df.query(\"subscription_type == 'free'\")\n",
    "df_free"
   ]
  },
  {
   "cell_type": "code",
   "execution_count": 62,
   "id": "4aaadcad",
   "metadata": {},
   "outputs": [
    {
     "data": {
      "text/html": [
       "<div>\n",
       "<style scoped>\n",
       "    .dataframe tbody tr th:only-of-type {\n",
       "        vertical-align: middle;\n",
       "    }\n",
       "\n",
       "    .dataframe tbody tr th {\n",
       "        vertical-align: top;\n",
       "    }\n",
       "\n",
       "    .dataframe thead th {\n",
       "        text-align: right;\n",
       "    }\n",
       "</style>\n",
       "<table border=\"1\" class=\"dataframe\">\n",
       "  <thead>\n",
       "    <tr style=\"text-align: right;\">\n",
       "      <th></th>\n",
       "      <th>user_id</th>\n",
       "      <th>name</th>\n",
       "      <th>age</th>\n",
       "      <th>city</th>\n",
       "      <th>subscription_type</th>\n",
       "      <th>distance</th>\n",
       "      <th>duration</th>\n",
       "      <th>date</th>\n",
       "      <th>month_date</th>\n",
       "      <th>minute_price</th>\n",
       "      <th>start_ride_price</th>\n",
       "      <th>subscription_fee</th>\n",
       "    </tr>\n",
       "  </thead>\n",
       "  <tbody>\n",
       "    <tr>\n",
       "      <th>0</th>\n",
       "      <td>1</td>\n",
       "      <td>Кира</td>\n",
       "      <td>22</td>\n",
       "      <td>Тюмень</td>\n",
       "      <td>ultra</td>\n",
       "      <td>4409.92</td>\n",
       "      <td>25.599769</td>\n",
       "      <td>2021-01-01</td>\n",
       "      <td>1</td>\n",
       "      <td>6</td>\n",
       "      <td>0</td>\n",
       "      <td>199</td>\n",
       "    </tr>\n",
       "    <tr>\n",
       "      <th>1</th>\n",
       "      <td>1</td>\n",
       "      <td>Кира</td>\n",
       "      <td>22</td>\n",
       "      <td>Тюмень</td>\n",
       "      <td>ultra</td>\n",
       "      <td>2617.59</td>\n",
       "      <td>15.816871</td>\n",
       "      <td>2021-01-18</td>\n",
       "      <td>1</td>\n",
       "      <td>6</td>\n",
       "      <td>0</td>\n",
       "      <td>199</td>\n",
       "    </tr>\n",
       "    <tr>\n",
       "      <th>2</th>\n",
       "      <td>1</td>\n",
       "      <td>Кира</td>\n",
       "      <td>22</td>\n",
       "      <td>Тюмень</td>\n",
       "      <td>ultra</td>\n",
       "      <td>754.16</td>\n",
       "      <td>6.232113</td>\n",
       "      <td>2021-04-20</td>\n",
       "      <td>4</td>\n",
       "      <td>6</td>\n",
       "      <td>0</td>\n",
       "      <td>199</td>\n",
       "    </tr>\n",
       "    <tr>\n",
       "      <th>3</th>\n",
       "      <td>1</td>\n",
       "      <td>Кира</td>\n",
       "      <td>22</td>\n",
       "      <td>Тюмень</td>\n",
       "      <td>ultra</td>\n",
       "      <td>2694.78</td>\n",
       "      <td>18.511000</td>\n",
       "      <td>2021-08-11</td>\n",
       "      <td>8</td>\n",
       "      <td>6</td>\n",
       "      <td>0</td>\n",
       "      <td>199</td>\n",
       "    </tr>\n",
       "    <tr>\n",
       "      <th>4</th>\n",
       "      <td>1</td>\n",
       "      <td>Кира</td>\n",
       "      <td>22</td>\n",
       "      <td>Тюмень</td>\n",
       "      <td>ultra</td>\n",
       "      <td>4028.69</td>\n",
       "      <td>26.265803</td>\n",
       "      <td>2021-08-28</td>\n",
       "      <td>8</td>\n",
       "      <td>6</td>\n",
       "      <td>0</td>\n",
       "      <td>199</td>\n",
       "    </tr>\n",
       "    <tr>\n",
       "      <th>...</th>\n",
       "      <td>...</td>\n",
       "      <td>...</td>\n",
       "      <td>...</td>\n",
       "      <td>...</td>\n",
       "      <td>...</td>\n",
       "      <td>...</td>\n",
       "      <td>...</td>\n",
       "      <td>...</td>\n",
       "      <td>...</td>\n",
       "      <td>...</td>\n",
       "      <td>...</td>\n",
       "      <td>...</td>\n",
       "    </tr>\n",
       "    <tr>\n",
       "      <th>6495</th>\n",
       "      <td>699</td>\n",
       "      <td>Оксана</td>\n",
       "      <td>22</td>\n",
       "      <td>Москва</td>\n",
       "      <td>ultra</td>\n",
       "      <td>3973.05</td>\n",
       "      <td>24.671163</td>\n",
       "      <td>2021-08-29</td>\n",
       "      <td>8</td>\n",
       "      <td>6</td>\n",
       "      <td>0</td>\n",
       "      <td>199</td>\n",
       "    </tr>\n",
       "    <tr>\n",
       "      <th>6496</th>\n",
       "      <td>699</td>\n",
       "      <td>Оксана</td>\n",
       "      <td>22</td>\n",
       "      <td>Москва</td>\n",
       "      <td>ultra</td>\n",
       "      <td>3288.70</td>\n",
       "      <td>15.892886</td>\n",
       "      <td>2021-09-12</td>\n",
       "      <td>9</td>\n",
       "      <td>6</td>\n",
       "      <td>0</td>\n",
       "      <td>199</td>\n",
       "    </tr>\n",
       "    <tr>\n",
       "      <th>6497</th>\n",
       "      <td>699</td>\n",
       "      <td>Оксана</td>\n",
       "      <td>22</td>\n",
       "      <td>Москва</td>\n",
       "      <td>ultra</td>\n",
       "      <td>3076.16</td>\n",
       "      <td>14.389525</td>\n",
       "      <td>2021-09-26</td>\n",
       "      <td>9</td>\n",
       "      <td>6</td>\n",
       "      <td>0</td>\n",
       "      <td>199</td>\n",
       "    </tr>\n",
       "    <tr>\n",
       "      <th>6498</th>\n",
       "      <td>699</td>\n",
       "      <td>Оксана</td>\n",
       "      <td>22</td>\n",
       "      <td>Москва</td>\n",
       "      <td>ultra</td>\n",
       "      <td>4707.85</td>\n",
       "      <td>15.839579</td>\n",
       "      <td>2021-10-17</td>\n",
       "      <td>10</td>\n",
       "      <td>6</td>\n",
       "      <td>0</td>\n",
       "      <td>199</td>\n",
       "    </tr>\n",
       "    <tr>\n",
       "      <th>6499</th>\n",
       "      <td>699</td>\n",
       "      <td>Оксана</td>\n",
       "      <td>22</td>\n",
       "      <td>Москва</td>\n",
       "      <td>ultra</td>\n",
       "      <td>3202.89</td>\n",
       "      <td>25.217345</td>\n",
       "      <td>2021-12-03</td>\n",
       "      <td>12</td>\n",
       "      <td>6</td>\n",
       "      <td>0</td>\n",
       "      <td>199</td>\n",
       "    </tr>\n",
       "  </tbody>\n",
       "</table>\n",
       "<p>6500 rows × 12 columns</p>\n",
       "</div>"
      ],
      "text/plain": [
       "      user_id    name  age    city subscription_type  distance   duration  \\\n",
       "0           1    Кира   22  Тюмень             ultra   4409.92  25.599769   \n",
       "1           1    Кира   22  Тюмень             ultra   2617.59  15.816871   \n",
       "2           1    Кира   22  Тюмень             ultra    754.16   6.232113   \n",
       "3           1    Кира   22  Тюмень             ultra   2694.78  18.511000   \n",
       "4           1    Кира   22  Тюмень             ultra   4028.69  26.265803   \n",
       "...       ...     ...  ...     ...               ...       ...        ...   \n",
       "6495      699  Оксана   22  Москва             ultra   3973.05  24.671163   \n",
       "6496      699  Оксана   22  Москва             ultra   3288.70  15.892886   \n",
       "6497      699  Оксана   22  Москва             ultra   3076.16  14.389525   \n",
       "6498      699  Оксана   22  Москва             ultra   4707.85  15.839579   \n",
       "6499      699  Оксана   22  Москва             ultra   3202.89  25.217345   \n",
       "\n",
       "           date  month_date  minute_price  start_ride_price  subscription_fee  \n",
       "0    2021-01-01           1             6                 0               199  \n",
       "1    2021-01-18           1             6                 0               199  \n",
       "2    2021-04-20           4             6                 0               199  \n",
       "3    2021-08-11           8             6                 0               199  \n",
       "4    2021-08-28           8             6                 0               199  \n",
       "...         ...         ...           ...               ...               ...  \n",
       "6495 2021-08-29           8             6                 0               199  \n",
       "6496 2021-09-12           9             6                 0               199  \n",
       "6497 2021-09-26           9             6                 0               199  \n",
       "6498 2021-10-17          10             6                 0               199  \n",
       "6499 2021-12-03          12             6                 0               199  \n",
       "\n",
       "[6500 rows x 12 columns]"
      ]
     },
     "execution_count": 62,
     "metadata": {},
     "output_type": "execute_result"
    }
   ],
   "source": [
    "df_ultra = df.query(\"subscription_type == 'ultra'\")\n",
    "df_ultra"
   ]
  },
  {
   "cell_type": "markdown",
   "id": "b137a139",
   "metadata": {},
   "source": [
    "***4.3 Визуализируем информацию о расстоянии и времени поездок для пользователей обеих категорий.***"
   ]
  },
  {
   "cell_type": "markdown",
   "id": "85cdcf13",
   "metadata": {},
   "source": [
    "Покажем на гистограммах информацию о количестве и расстоянии поездок для пользователей обеих групп."
   ]
  },
  {
   "cell_type": "code",
   "execution_count": 63,
   "id": "b8b48320",
   "metadata": {},
   "outputs": [
    {
     "data": {
      "image/png": "[encoded data removed]",
      "text/plain": [
       "<Figure size 960x480 with 1 Axes>"
      ]
     },
     "metadata": {},
     "output_type": "display_data"
    }
   ],
   "source": [
    "plt.figure(figsize=(12, 6))\n",
    "\n",
    "ax = df_free['distance'].hist(bins=50, color='DarkOrange', grid=True, label='без подписки', alpha=0.8)\n",
    "ax = df_ultra['distance'].hist(bins=50, color='SteelBlue', grid=True, label='с подпиской')\n",
    "\n",
    "median_free = df_free['distance'].median()\n",
    "median_ultra = df_ultra['distance'].median()\n",
    "\n",
    "plt.title('Гистограмма распределения дистанций поездок', fontsize=11)\n",
    "plt.xlabel('Дистанция, м', fontsize=9)\n",
    "plt.ylabel('Количество поездок', fontsize=9)\n",
    "\n",
    "plt.axvline(median_free, color='DarkRed', linestyle='--', linewidth=2, label=f'Медиана (без подписки): {median_free:.2f} м')\n",
    "plt.axvline(median_ultra, color='DarkGreen', linestyle='--', linewidth=2, label=f'Медиана (с подпиской): {median_ultra:.2f} м')\n",
    "\n",
    "plt.legend(loc='upper right', frameon=False, fontsize=10)\n",
    "plt.show()"
   ]
  },
  {
   "cell_type": "code",
   "execution_count": 64,
   "id": "d3574836",
   "metadata": {},
   "outputs": [
    {
     "data": {
      "image/png": "[encoded data removed]",
      "text/plain": [
       "<Figure size 960x480 with 1 Axes>"
      ]
     },
     "metadata": {},
     "output_type": "display_data"
    }
   ],
   "source": [
    "plt.figure(figsize=(12, 6))\n",
    "\n",
    "ax = df_free['duration'].hist(bins=50, color='DarkOrange', grid=True, label='без подписки', alpha=0.8)\n",
    "ax = df_ultra['duration'].hist(bins=50, color='SteelBlue', grid=True, label='с подпиской')\n",
    "\n",
    "median_free = df_free['duration'].median()\n",
    "median_ultra = df_ultra['duration'].median()\n",
    "\n",
    "plt.title('Гистограмма распределения длительности поездок', fontsize=11)\n",
    "plt.xlabel('Длительность, мин', fontsize=9)\n",
    "plt.ylabel('Количество поездок', fontsize=9)\n",
    "\n",
    "plt.axvline(median_free, color='DarkRed', linestyle='--', linewidth=2, label=f'Медиана (без подписки): {median_free:.2f} мин')\n",
    "plt.axvline(median_ultra, color='DarkGreen', linestyle='--', linewidth=2, label=f'Медиана (с подпиской): {median_ultra:.2f} мин')\n",
    "\n",
    "plt.legend(loc='upper right', frameon=False, fontsize=10)\n",
    "plt.show()"
   ]
  },
  {
   "cell_type": "markdown",
   "id": "00f4eee8",
   "metadata": {},
   "source": [
    "**Выводы**\n",
    "\n",
    "Мы объединили наши датафреймы с пользователями, поездками и подписками в один датафрейм со всеми данными, проверили, что данные не потерялись и нет пропусков, далее мы выделили два отдельных датафрейма с двумя группами - пользователи без подписок и пользователи с платными подписками.\n",
    "\n",
    "Затем мы построили гистограммы с расстояниями, преодоленными пользователями без подписок и пользователями с подписками, а также с продолжительностью поездок также для двух групп и выявили следующие закономерности:\n",
    "\n",
    "- чаще всего пользователи без подписки преодолевали расстояние от 2,5 км до 4 км, с платной же подпиской - пользователи преодолевали расстояние около 3 км, т.е. бесплатные пользователи проезжали немного более длительное расстояние, чем пользователи с подписками\n",
    "- среди пользователей без подписок совершено больше всего поездок длительностью от 10 до 25 минут, с платными подписками - от 13 до 22 минут, т.е. и здесь бесплатные пользователи совершают чуть более длительные поездки, чем пользователи с подписками"
   ]
  },
  {
   "cell_type": "markdown",
   "id": "a52056d6",
   "metadata": {},
   "source": [
    "## Подсчёт выручки"
   ]
  },
  {
   "cell_type": "markdown",
   "id": "40626f43",
   "metadata": {},
   "source": [
    "***5.1. Создадим датафрейм с агрегированными данными о поездках на основе датафрейма с объединёнными данными из шага 4: найдем суммарное расстояние, количество поездок и суммарное время для каждого пользователя за каждый месяц.***"
   ]
  },
  {
   "cell_type": "code",
   "execution_count": 65,
   "id": "c8ccf08c",
   "metadata": {},
   "outputs": [
    {
     "data": {
      "text/html": [
       "<div>\n",
       "<style scoped>\n",
       "    .dataframe tbody tr th:only-of-type {\n",
       "        vertical-align: middle;\n",
       "    }\n",
       "\n",
       "    .dataframe tbody tr th {\n",
       "        vertical-align: top;\n",
       "    }\n",
       "\n",
       "    .dataframe thead th {\n",
       "        text-align: right;\n",
       "    }\n",
       "</style>\n",
       "<table border=\"1\" class=\"dataframe\">\n",
       "  <thead>\n",
       "    <tr style=\"text-align: right;\">\n",
       "      <th></th>\n",
       "      <th>user_id</th>\n",
       "      <th>name</th>\n",
       "      <th>age</th>\n",
       "      <th>city</th>\n",
       "      <th>subscription_type</th>\n",
       "      <th>distance</th>\n",
       "      <th>duration</th>\n",
       "      <th>date</th>\n",
       "      <th>month_date</th>\n",
       "      <th>minute_price</th>\n",
       "      <th>start_ride_price</th>\n",
       "      <th>subscription_fee</th>\n",
       "    </tr>\n",
       "  </thead>\n",
       "  <tbody>\n",
       "    <tr>\n",
       "      <th>0</th>\n",
       "      <td>1</td>\n",
       "      <td>Кира</td>\n",
       "      <td>22</td>\n",
       "      <td>Тюмень</td>\n",
       "      <td>ultra</td>\n",
       "      <td>4409.92</td>\n",
       "      <td>26.0</td>\n",
       "      <td>2021-01-01</td>\n",
       "      <td>1</td>\n",
       "      <td>6</td>\n",
       "      <td>0</td>\n",
       "      <td>199</td>\n",
       "    </tr>\n",
       "    <tr>\n",
       "      <th>1</th>\n",
       "      <td>1</td>\n",
       "      <td>Кира</td>\n",
       "      <td>22</td>\n",
       "      <td>Тюмень</td>\n",
       "      <td>ultra</td>\n",
       "      <td>2617.59</td>\n",
       "      <td>16.0</td>\n",
       "      <td>2021-01-18</td>\n",
       "      <td>1</td>\n",
       "      <td>6</td>\n",
       "      <td>0</td>\n",
       "      <td>199</td>\n",
       "    </tr>\n",
       "    <tr>\n",
       "      <th>2</th>\n",
       "      <td>1</td>\n",
       "      <td>Кира</td>\n",
       "      <td>22</td>\n",
       "      <td>Тюмень</td>\n",
       "      <td>ultra</td>\n",
       "      <td>754.16</td>\n",
       "      <td>7.0</td>\n",
       "      <td>2021-04-20</td>\n",
       "      <td>4</td>\n",
       "      <td>6</td>\n",
       "      <td>0</td>\n",
       "      <td>199</td>\n",
       "    </tr>\n",
       "    <tr>\n",
       "      <th>3</th>\n",
       "      <td>1</td>\n",
       "      <td>Кира</td>\n",
       "      <td>22</td>\n",
       "      <td>Тюмень</td>\n",
       "      <td>ultra</td>\n",
       "      <td>2694.78</td>\n",
       "      <td>19.0</td>\n",
       "      <td>2021-08-11</td>\n",
       "      <td>8</td>\n",
       "      <td>6</td>\n",
       "      <td>0</td>\n",
       "      <td>199</td>\n",
       "    </tr>\n",
       "    <tr>\n",
       "      <th>4</th>\n",
       "      <td>1</td>\n",
       "      <td>Кира</td>\n",
       "      <td>22</td>\n",
       "      <td>Тюмень</td>\n",
       "      <td>ultra</td>\n",
       "      <td>4028.69</td>\n",
       "      <td>27.0</td>\n",
       "      <td>2021-08-28</td>\n",
       "      <td>8</td>\n",
       "      <td>6</td>\n",
       "      <td>0</td>\n",
       "      <td>199</td>\n",
       "    </tr>\n",
       "  </tbody>\n",
       "</table>\n",
       "</div>"
      ],
      "text/plain": [
       "   user_id  name  age    city subscription_type  distance  duration  \\\n",
       "0        1  Кира   22  Тюмень             ultra   4409.92      26.0   \n",
       "1        1  Кира   22  Тюмень             ultra   2617.59      16.0   \n",
       "2        1  Кира   22  Тюмень             ultra    754.16       7.0   \n",
       "3        1  Кира   22  Тюмень             ultra   2694.78      19.0   \n",
       "4        1  Кира   22  Тюмень             ultra   4028.69      27.0   \n",
       "\n",
       "        date  month_date  minute_price  start_ride_price  subscription_fee  \n",
       "0 2021-01-01           1             6                 0               199  \n",
       "1 2021-01-18           1             6                 0               199  \n",
       "2 2021-04-20           4             6                 0               199  \n",
       "3 2021-08-11           8             6                 0               199  \n",
       "4 2021-08-28           8             6                 0               199  "
      ]
     },
     "execution_count": 65,
     "metadata": {},
     "output_type": "execute_result"
    }
   ],
   "source": [
    "df['duration'] = np.ceil(df['duration']) \n",
    "df.head()"
   ]
  },
  {
   "cell_type": "code",
   "execution_count": 66,
   "id": "20833427",
   "metadata": {
    "scrolled": true
   },
   "outputs": [],
   "source": [
    "data_users_month = df.pivot_table(index=['month_date', 'user_id'],\n",
    "               values=(\n",
    "                   'distance',\n",
    "                   'duration',\n",
    "                   'minute_price',\n",
    "                   'start_ride_price',\n",
    "                   'subscription_fee'\n",
    "               ),\n",
    "               aggfunc=('count', 'sum'))"
   ]
  },
  {
   "cell_type": "code",
   "execution_count": 67,
   "id": "d7853a43",
   "metadata": {},
   "outputs": [],
   "source": [
    "data_users_month.columns = [\n",
    "    'rides_count', 'distance', \n",
    "    'count2', 'duration', \n",
    "    'count3', 'minute_price',\n",
    "    'count4', 'start_ride_price', \n",
    "    'count5', 'subscription_fee'\n",
    "]"
   ]
  },
  {
   "cell_type": "code",
   "execution_count": 68,
   "id": "e0238d98",
   "metadata": {},
   "outputs": [],
   "source": [
    "data_users_month = data_users_month.drop(['count2', 'count3', 'count4', 'count5'], axis=1)"
   ]
  },
  {
   "cell_type": "code",
   "execution_count": 69,
   "id": "44e857be",
   "metadata": {},
   "outputs": [
    {
     "data": {
      "text/html": [
       "<div>\n",
       "<style scoped>\n",
       "    .dataframe tbody tr th:only-of-type {\n",
       "        vertical-align: middle;\n",
       "    }\n",
       "\n",
       "    .dataframe tbody tr th {\n",
       "        vertical-align: top;\n",
       "    }\n",
       "\n",
       "    .dataframe thead th {\n",
       "        text-align: right;\n",
       "    }\n",
       "</style>\n",
       "<table border=\"1\" class=\"dataframe\">\n",
       "  <thead>\n",
       "    <tr style=\"text-align: right;\">\n",
       "      <th></th>\n",
       "      <th></th>\n",
       "      <th>rides_count</th>\n",
       "      <th>distance</th>\n",
       "      <th>duration</th>\n",
       "      <th>minute_price</th>\n",
       "      <th>start_ride_price</th>\n",
       "      <th>subscription_fee</th>\n",
       "    </tr>\n",
       "    <tr>\n",
       "      <th>month_date</th>\n",
       "      <th>user_id</th>\n",
       "      <th></th>\n",
       "      <th></th>\n",
       "      <th></th>\n",
       "      <th></th>\n",
       "      <th></th>\n",
       "      <th></th>\n",
       "    </tr>\n",
       "  </thead>\n",
       "  <tbody>\n",
       "    <tr>\n",
       "      <th rowspan=\"5\" valign=\"top\">1</th>\n",
       "      <th>1</th>\n",
       "      <td>2</td>\n",
       "      <td>7027.51</td>\n",
       "      <td>42.0</td>\n",
       "      <td>12</td>\n",
       "      <td>0</td>\n",
       "      <td>398</td>\n",
       "    </tr>\n",
       "    <tr>\n",
       "      <th>3</th>\n",
       "      <td>1</td>\n",
       "      <td>3061.78</td>\n",
       "      <td>13.0</td>\n",
       "      <td>6</td>\n",
       "      <td>0</td>\n",
       "      <td>199</td>\n",
       "    </tr>\n",
       "    <tr>\n",
       "      <th>5</th>\n",
       "      <td>1</td>\n",
       "      <td>3914.65</td>\n",
       "      <td>13.0</td>\n",
       "      <td>6</td>\n",
       "      <td>0</td>\n",
       "      <td>199</td>\n",
       "    </tr>\n",
       "    <tr>\n",
       "      <th>7</th>\n",
       "      <td>2</td>\n",
       "      <td>6478.08</td>\n",
       "      <td>28.0</td>\n",
       "      <td>12</td>\n",
       "      <td>0</td>\n",
       "      <td>398</td>\n",
       "    </tr>\n",
       "    <tr>\n",
       "      <th>12</th>\n",
       "      <td>1</td>\n",
       "      <td>3577.15</td>\n",
       "      <td>33.0</td>\n",
       "      <td>6</td>\n",
       "      <td>0</td>\n",
       "      <td>199</td>\n",
       "    </tr>\n",
       "  </tbody>\n",
       "</table>\n",
       "</div>"
      ],
      "text/plain": [
       "                    rides_count  distance  duration  minute_price  \\\n",
       "month_date user_id                                                  \n",
       "1          1                  2   7027.51      42.0            12   \n",
       "           3                  1   3061.78      13.0             6   \n",
       "           5                  1   3914.65      13.0             6   \n",
       "           7                  2   6478.08      28.0            12   \n",
       "           12                 1   3577.15      33.0             6   \n",
       "\n",
       "                    start_ride_price  subscription_fee  \n",
       "month_date user_id                                      \n",
       "1          1                       0               398  \n",
       "           3                       0               199  \n",
       "           5                       0               199  \n",
       "           7                       0               398  \n",
       "           12                      0               199  "
      ]
     },
     "execution_count": 69,
     "metadata": {},
     "output_type": "execute_result"
    }
   ],
   "source": [
    "data_users_month.head()"
   ]
  },
  {
   "cell_type": "code",
   "execution_count": 70,
   "id": "9dd3fc58",
   "metadata": {},
   "outputs": [
    {
     "data": {
      "text/html": [
       "<div>\n",
       "<style scoped>\n",
       "    .dataframe tbody tr th:only-of-type {\n",
       "        vertical-align: middle;\n",
       "    }\n",
       "\n",
       "    .dataframe tbody tr th {\n",
       "        vertical-align: top;\n",
       "    }\n",
       "\n",
       "    .dataframe thead th {\n",
       "        text-align: right;\n",
       "    }\n",
       "</style>\n",
       "<table border=\"1\" class=\"dataframe\">\n",
       "  <thead>\n",
       "    <tr style=\"text-align: right;\">\n",
       "      <th></th>\n",
       "      <th></th>\n",
       "      <th>rides_count</th>\n",
       "      <th>distance</th>\n",
       "      <th>duration</th>\n",
       "      <th>minute_price</th>\n",
       "      <th>start_ride_price</th>\n",
       "      <th>subscription_fee</th>\n",
       "    </tr>\n",
       "    <tr>\n",
       "      <th>month_date</th>\n",
       "      <th>user_id</th>\n",
       "      <th></th>\n",
       "      <th></th>\n",
       "      <th></th>\n",
       "      <th></th>\n",
       "      <th></th>\n",
       "      <th></th>\n",
       "    </tr>\n",
       "  </thead>\n",
       "  <tbody>\n",
       "    <tr>\n",
       "      <th rowspan=\"5\" valign=\"top\">1</th>\n",
       "      <th>1</th>\n",
       "      <td>2</td>\n",
       "      <td>7027.51</td>\n",
       "      <td>42.0</td>\n",
       "      <td>6.0</td>\n",
       "      <td>0.0</td>\n",
       "      <td>199.0</td>\n",
       "    </tr>\n",
       "    <tr>\n",
       "      <th>3</th>\n",
       "      <td>1</td>\n",
       "      <td>3061.78</td>\n",
       "      <td>13.0</td>\n",
       "      <td>6.0</td>\n",
       "      <td>0.0</td>\n",
       "      <td>199.0</td>\n",
       "    </tr>\n",
       "    <tr>\n",
       "      <th>5</th>\n",
       "      <td>1</td>\n",
       "      <td>3914.65</td>\n",
       "      <td>13.0</td>\n",
       "      <td>6.0</td>\n",
       "      <td>0.0</td>\n",
       "      <td>199.0</td>\n",
       "    </tr>\n",
       "    <tr>\n",
       "      <th>7</th>\n",
       "      <td>2</td>\n",
       "      <td>6478.08</td>\n",
       "      <td>28.0</td>\n",
       "      <td>6.0</td>\n",
       "      <td>0.0</td>\n",
       "      <td>199.0</td>\n",
       "    </tr>\n",
       "    <tr>\n",
       "      <th>12</th>\n",
       "      <td>1</td>\n",
       "      <td>3577.15</td>\n",
       "      <td>33.0</td>\n",
       "      <td>6.0</td>\n",
       "      <td>0.0</td>\n",
       "      <td>199.0</td>\n",
       "    </tr>\n",
       "  </tbody>\n",
       "</table>\n",
       "</div>"
      ],
      "text/plain": [
       "                    rides_count  distance  duration  minute_price  \\\n",
       "month_date user_id                                                  \n",
       "1          1                  2   7027.51      42.0           6.0   \n",
       "           3                  1   3061.78      13.0           6.0   \n",
       "           5                  1   3914.65      13.0           6.0   \n",
       "           7                  2   6478.08      28.0           6.0   \n",
       "           12                 1   3577.15      33.0           6.0   \n",
       "\n",
       "                    start_ride_price  subscription_fee  \n",
       "month_date user_id                                      \n",
       "1          1                     0.0             199.0  \n",
       "           3                     0.0             199.0  \n",
       "           5                     0.0             199.0  \n",
       "           7                     0.0             199.0  \n",
       "           12                    0.0             199.0  "
      ]
     },
     "execution_count": 70,
     "metadata": {},
     "output_type": "execute_result"
    }
   ],
   "source": [
    "data_users_month['minute_price'] = data_users_month['minute_price'] / data_users_month['rides_count']\n",
    "data_users_month['start_ride_price'] = data_users_month['start_ride_price'] / data_users_month['rides_count']\n",
    "data_users_month['subscription_fee'] = data_users_month['subscription_fee'] / data_users_month['rides_count']\n",
    "data_users_month.head(5)"
   ]
  },
  {
   "cell_type": "markdown",
   "id": "94d74808",
   "metadata": {},
   "source": [
    "Проверим на одном конкретном пользователе, как у нас прошли подсчеты."
   ]
  },
  {
   "cell_type": "code",
   "execution_count": 71,
   "id": "1067c054",
   "metadata": {},
   "outputs": [
    {
     "data": {
      "text/html": [
       "<div>\n",
       "<style scoped>\n",
       "    .dataframe tbody tr th:only-of-type {\n",
       "        vertical-align: middle;\n",
       "    }\n",
       "\n",
       "    .dataframe tbody tr th {\n",
       "        vertical-align: top;\n",
       "    }\n",
       "\n",
       "    .dataframe thead th {\n",
       "        text-align: right;\n",
       "    }\n",
       "</style>\n",
       "<table border=\"1\" class=\"dataframe\">\n",
       "  <thead>\n",
       "    <tr style=\"text-align: right;\">\n",
       "      <th></th>\n",
       "      <th></th>\n",
       "      <th>rides_count</th>\n",
       "      <th>distance</th>\n",
       "      <th>duration</th>\n",
       "      <th>minute_price</th>\n",
       "      <th>start_ride_price</th>\n",
       "      <th>subscription_fee</th>\n",
       "    </tr>\n",
       "    <tr>\n",
       "      <th>month_date</th>\n",
       "      <th>user_id</th>\n",
       "      <th></th>\n",
       "      <th></th>\n",
       "      <th></th>\n",
       "      <th></th>\n",
       "      <th></th>\n",
       "      <th></th>\n",
       "    </tr>\n",
       "  </thead>\n",
       "  <tbody>\n",
       "    <tr>\n",
       "      <th>1</th>\n",
       "      <th>3</th>\n",
       "      <td>1</td>\n",
       "      <td>3061.78</td>\n",
       "      <td>13.0</td>\n",
       "      <td>6.0</td>\n",
       "      <td>0.0</td>\n",
       "      <td>199.0</td>\n",
       "    </tr>\n",
       "    <tr>\n",
       "      <th>2</th>\n",
       "      <th>3</th>\n",
       "      <td>2</td>\n",
       "      <td>5421.16</td>\n",
       "      <td>39.0</td>\n",
       "      <td>6.0</td>\n",
       "      <td>0.0</td>\n",
       "      <td>199.0</td>\n",
       "    </tr>\n",
       "    <tr>\n",
       "      <th>4</th>\n",
       "      <th>3</th>\n",
       "      <td>1</td>\n",
       "      <td>2956.65</td>\n",
       "      <td>21.0</td>\n",
       "      <td>6.0</td>\n",
       "      <td>0.0</td>\n",
       "      <td>199.0</td>\n",
       "    </tr>\n",
       "    <tr>\n",
       "      <th>5</th>\n",
       "      <th>3</th>\n",
       "      <td>3</td>\n",
       "      <td>9064.03</td>\n",
       "      <td>63.0</td>\n",
       "      <td>6.0</td>\n",
       "      <td>0.0</td>\n",
       "      <td>199.0</td>\n",
       "    </tr>\n",
       "    <tr>\n",
       "      <th>7</th>\n",
       "      <th>3</th>\n",
       "      <td>3</td>\n",
       "      <td>10919.59</td>\n",
       "      <td>67.0</td>\n",
       "      <td>6.0</td>\n",
       "      <td>0.0</td>\n",
       "      <td>199.0</td>\n",
       "    </tr>\n",
       "    <tr>\n",
       "      <th>9</th>\n",
       "      <th>3</th>\n",
       "      <td>1</td>\n",
       "      <td>2891.01</td>\n",
       "      <td>23.0</td>\n",
       "      <td>6.0</td>\n",
       "      <td>0.0</td>\n",
       "      <td>199.0</td>\n",
       "    </tr>\n",
       "    <tr>\n",
       "      <th>12</th>\n",
       "      <th>3</th>\n",
       "      <td>1</td>\n",
       "      <td>2593.38</td>\n",
       "      <td>13.0</td>\n",
       "      <td>6.0</td>\n",
       "      <td>0.0</td>\n",
       "      <td>199.0</td>\n",
       "    </tr>\n",
       "  </tbody>\n",
       "</table>\n",
       "</div>"
      ],
      "text/plain": [
       "                    rides_count  distance  duration  minute_price  \\\n",
       "month_date user_id                                                  \n",
       "1          3                  1   3061.78      13.0           6.0   \n",
       "2          3                  2   5421.16      39.0           6.0   \n",
       "4          3                  1   2956.65      21.0           6.0   \n",
       "5          3                  3   9064.03      63.0           6.0   \n",
       "7          3                  3  10919.59      67.0           6.0   \n",
       "9          3                  1   2891.01      23.0           6.0   \n",
       "12         3                  1   2593.38      13.0           6.0   \n",
       "\n",
       "                    start_ride_price  subscription_fee  \n",
       "month_date user_id                                      \n",
       "1          3                     0.0             199.0  \n",
       "2          3                     0.0             199.0  \n",
       "4          3                     0.0             199.0  \n",
       "5          3                     0.0             199.0  \n",
       "7          3                     0.0             199.0  \n",
       "9          3                     0.0             199.0  \n",
       "12         3                     0.0             199.0  "
      ]
     },
     "execution_count": 71,
     "metadata": {},
     "output_type": "execute_result"
    }
   ],
   "source": [
    "data_users_month.query(\"user_id == 3\")"
   ]
  },
  {
   "cell_type": "markdown",
   "id": "634cd527",
   "metadata": {},
   "source": [
    "***5.2. В этот же датафрейм добавим столбец с помесячной выручкой, которую принёс каждый пользователь.***"
   ]
  },
  {
   "cell_type": "markdown",
   "id": "318541b1",
   "metadata": {},
   "source": [
    "Помесячная выручка считается по формуле: стоимость старта поездки × количество поездок + стоимость одной минуты поездки × общая продолжительность всех поездок в минутах + стоимость подписки. Напишем функцию для подсчета выручки от каждого пользователя по каждому месяцу и применим ее для создания нового столбца."
   ]
  },
  {
   "cell_type": "code",
   "execution_count": 72,
   "id": "afda1d1f",
   "metadata": {},
   "outputs": [],
   "source": [
    "data_users_month['month_revenue'] = ((data_users_month['start_ride_price'] * data_users_month['rides_count']) \n",
    "    + (data_users_month['minute_price'] * data_users_month['duration']) + data_users_month['subscription_fee'])"
   ]
  },
  {
   "cell_type": "code",
   "execution_count": 73,
   "id": "bd16aac8",
   "metadata": {},
   "outputs": [
    {
     "data": {
      "text/html": [
       "<div>\n",
       "<style scoped>\n",
       "    .dataframe tbody tr th:only-of-type {\n",
       "        vertical-align: middle;\n",
       "    }\n",
       "\n",
       "    .dataframe tbody tr th {\n",
       "        vertical-align: top;\n",
       "    }\n",
       "\n",
       "    .dataframe thead th {\n",
       "        text-align: right;\n",
       "    }\n",
       "</style>\n",
       "<table border=\"1\" class=\"dataframe\">\n",
       "  <thead>\n",
       "    <tr style=\"text-align: right;\">\n",
       "      <th></th>\n",
       "      <th></th>\n",
       "      <th>rides_count</th>\n",
       "      <th>distance</th>\n",
       "      <th>duration</th>\n",
       "      <th>minute_price</th>\n",
       "      <th>start_ride_price</th>\n",
       "      <th>subscription_fee</th>\n",
       "      <th>month_revenue</th>\n",
       "    </tr>\n",
       "    <tr>\n",
       "      <th>month_date</th>\n",
       "      <th>user_id</th>\n",
       "      <th></th>\n",
       "      <th></th>\n",
       "      <th></th>\n",
       "      <th></th>\n",
       "      <th></th>\n",
       "      <th></th>\n",
       "      <th></th>\n",
       "    </tr>\n",
       "  </thead>\n",
       "  <tbody>\n",
       "    <tr>\n",
       "      <th rowspan=\"5\" valign=\"top\">1</th>\n",
       "      <th>1</th>\n",
       "      <td>2</td>\n",
       "      <td>7027.51</td>\n",
       "      <td>42.0</td>\n",
       "      <td>6.0</td>\n",
       "      <td>0.0</td>\n",
       "      <td>199.0</td>\n",
       "      <td>451.0</td>\n",
       "    </tr>\n",
       "    <tr>\n",
       "      <th>3</th>\n",
       "      <td>1</td>\n",
       "      <td>3061.78</td>\n",
       "      <td>13.0</td>\n",
       "      <td>6.0</td>\n",
       "      <td>0.0</td>\n",
       "      <td>199.0</td>\n",
       "      <td>277.0</td>\n",
       "    </tr>\n",
       "    <tr>\n",
       "      <th>5</th>\n",
       "      <td>1</td>\n",
       "      <td>3914.65</td>\n",
       "      <td>13.0</td>\n",
       "      <td>6.0</td>\n",
       "      <td>0.0</td>\n",
       "      <td>199.0</td>\n",
       "      <td>277.0</td>\n",
       "    </tr>\n",
       "    <tr>\n",
       "      <th>7</th>\n",
       "      <td>2</td>\n",
       "      <td>6478.08</td>\n",
       "      <td>28.0</td>\n",
       "      <td>6.0</td>\n",
       "      <td>0.0</td>\n",
       "      <td>199.0</td>\n",
       "      <td>367.0</td>\n",
       "    </tr>\n",
       "    <tr>\n",
       "      <th>12</th>\n",
       "      <td>1</td>\n",
       "      <td>3577.15</td>\n",
       "      <td>33.0</td>\n",
       "      <td>6.0</td>\n",
       "      <td>0.0</td>\n",
       "      <td>199.0</td>\n",
       "      <td>397.0</td>\n",
       "    </tr>\n",
       "  </tbody>\n",
       "</table>\n",
       "</div>"
      ],
      "text/plain": [
       "                    rides_count  distance  duration  minute_price  \\\n",
       "month_date user_id                                                  \n",
       "1          1                  2   7027.51      42.0           6.0   \n",
       "           3                  1   3061.78      13.0           6.0   \n",
       "           5                  1   3914.65      13.0           6.0   \n",
       "           7                  2   6478.08      28.0           6.0   \n",
       "           12                 1   3577.15      33.0           6.0   \n",
       "\n",
       "                    start_ride_price  subscription_fee  month_revenue  \n",
       "month_date user_id                                                     \n",
       "1          1                     0.0             199.0          451.0  \n",
       "           3                     0.0             199.0          277.0  \n",
       "           5                     0.0             199.0          277.0  \n",
       "           7                     0.0             199.0          367.0  \n",
       "           12                    0.0             199.0          397.0  "
      ]
     },
     "execution_count": 73,
     "metadata": {},
     "output_type": "execute_result"
    }
   ],
   "source": [
    "data_users_month.head()"
   ]
  },
  {
   "cell_type": "markdown",
   "id": "afd99447",
   "metadata": {},
   "source": [
    "Снова проверим проведенные подсчеты на одном из пользователей."
   ]
  },
  {
   "cell_type": "code",
   "execution_count": 74,
   "id": "7dd8f9b1",
   "metadata": {},
   "outputs": [
    {
     "data": {
      "text/html": [
       "<div>\n",
       "<style scoped>\n",
       "    .dataframe tbody tr th:only-of-type {\n",
       "        vertical-align: middle;\n",
       "    }\n",
       "\n",
       "    .dataframe tbody tr th {\n",
       "        vertical-align: top;\n",
       "    }\n",
       "\n",
       "    .dataframe thead th {\n",
       "        text-align: right;\n",
       "    }\n",
       "</style>\n",
       "<table border=\"1\" class=\"dataframe\">\n",
       "  <thead>\n",
       "    <tr style=\"text-align: right;\">\n",
       "      <th></th>\n",
       "      <th></th>\n",
       "      <th>rides_count</th>\n",
       "      <th>distance</th>\n",
       "      <th>duration</th>\n",
       "      <th>minute_price</th>\n",
       "      <th>start_ride_price</th>\n",
       "      <th>subscription_fee</th>\n",
       "      <th>month_revenue</th>\n",
       "    </tr>\n",
       "    <tr>\n",
       "      <th>month_date</th>\n",
       "      <th>user_id</th>\n",
       "      <th></th>\n",
       "      <th></th>\n",
       "      <th></th>\n",
       "      <th></th>\n",
       "      <th></th>\n",
       "      <th></th>\n",
       "      <th></th>\n",
       "    </tr>\n",
       "  </thead>\n",
       "  <tbody>\n",
       "    <tr>\n",
       "      <th>1</th>\n",
       "      <th>3</th>\n",
       "      <td>1</td>\n",
       "      <td>3061.78</td>\n",
       "      <td>13.0</td>\n",
       "      <td>6.0</td>\n",
       "      <td>0.0</td>\n",
       "      <td>199.0</td>\n",
       "      <td>277.0</td>\n",
       "    </tr>\n",
       "    <tr>\n",
       "      <th>2</th>\n",
       "      <th>3</th>\n",
       "      <td>2</td>\n",
       "      <td>5421.16</td>\n",
       "      <td>39.0</td>\n",
       "      <td>6.0</td>\n",
       "      <td>0.0</td>\n",
       "      <td>199.0</td>\n",
       "      <td>433.0</td>\n",
       "    </tr>\n",
       "    <tr>\n",
       "      <th>4</th>\n",
       "      <th>3</th>\n",
       "      <td>1</td>\n",
       "      <td>2956.65</td>\n",
       "      <td>21.0</td>\n",
       "      <td>6.0</td>\n",
       "      <td>0.0</td>\n",
       "      <td>199.0</td>\n",
       "      <td>325.0</td>\n",
       "    </tr>\n",
       "    <tr>\n",
       "      <th>5</th>\n",
       "      <th>3</th>\n",
       "      <td>3</td>\n",
       "      <td>9064.03</td>\n",
       "      <td>63.0</td>\n",
       "      <td>6.0</td>\n",
       "      <td>0.0</td>\n",
       "      <td>199.0</td>\n",
       "      <td>577.0</td>\n",
       "    </tr>\n",
       "    <tr>\n",
       "      <th>7</th>\n",
       "      <th>3</th>\n",
       "      <td>3</td>\n",
       "      <td>10919.59</td>\n",
       "      <td>67.0</td>\n",
       "      <td>6.0</td>\n",
       "      <td>0.0</td>\n",
       "      <td>199.0</td>\n",
       "      <td>601.0</td>\n",
       "    </tr>\n",
       "    <tr>\n",
       "      <th>9</th>\n",
       "      <th>3</th>\n",
       "      <td>1</td>\n",
       "      <td>2891.01</td>\n",
       "      <td>23.0</td>\n",
       "      <td>6.0</td>\n",
       "      <td>0.0</td>\n",
       "      <td>199.0</td>\n",
       "      <td>337.0</td>\n",
       "    </tr>\n",
       "    <tr>\n",
       "      <th>12</th>\n",
       "      <th>3</th>\n",
       "      <td>1</td>\n",
       "      <td>2593.38</td>\n",
       "      <td>13.0</td>\n",
       "      <td>6.0</td>\n",
       "      <td>0.0</td>\n",
       "      <td>199.0</td>\n",
       "      <td>277.0</td>\n",
       "    </tr>\n",
       "  </tbody>\n",
       "</table>\n",
       "</div>"
      ],
      "text/plain": [
       "                    rides_count  distance  duration  minute_price  \\\n",
       "month_date user_id                                                  \n",
       "1          3                  1   3061.78      13.0           6.0   \n",
       "2          3                  2   5421.16      39.0           6.0   \n",
       "4          3                  1   2956.65      21.0           6.0   \n",
       "5          3                  3   9064.03      63.0           6.0   \n",
       "7          3                  3  10919.59      67.0           6.0   \n",
       "9          3                  1   2891.01      23.0           6.0   \n",
       "12         3                  1   2593.38      13.0           6.0   \n",
       "\n",
       "                    start_ride_price  subscription_fee  month_revenue  \n",
       "month_date user_id                                                     \n",
       "1          3                     0.0             199.0          277.0  \n",
       "2          3                     0.0             199.0          433.0  \n",
       "4          3                     0.0             199.0          325.0  \n",
       "5          3                     0.0             199.0          577.0  \n",
       "7          3                     0.0             199.0          601.0  \n",
       "9          3                     0.0             199.0          337.0  \n",
       "12         3                     0.0             199.0          277.0  "
      ]
     },
     "execution_count": 74,
     "metadata": {},
     "output_type": "execute_result"
    }
   ],
   "source": [
    "data_users_month.query(\"user_id == 3\")"
   ]
  },
  {
   "cell_type": "markdown",
   "id": "747ab9d4",
   "metadata": {},
   "source": [
    "Можно добавить в выводы для наглядности общую годовую выручку и годовую выручку, которую принесли пользователи без подписки и с платной подпиской."
   ]
  },
  {
   "cell_type": "code",
   "execution_count": 75,
   "id": "fa8c1c43",
   "metadata": {},
   "outputs": [
    {
     "name": "stdout",
     "output_type": "stream",
     "text": [
      "Общая годовая выручка: 3878641.0\n"
     ]
    }
   ],
   "source": [
    "print('Общая годовая выручка:', data_users_month['month_revenue'].sum())"
   ]
  },
  {
   "cell_type": "code",
   "execution_count": 76,
   "id": "f529d508",
   "metadata": {},
   "outputs": [
    {
     "name": "stdout",
     "output_type": "stream",
     "text": [
      "Годовая выручка от пользователей без подписки: 2234104.0\n"
     ]
    }
   ],
   "source": [
    "print('Годовая выручка от пользователей без подписки:', \\\n",
    "      data_users_month.query(\"subscription_fee == 0\").month_revenue.sum())"
   ]
  },
  {
   "cell_type": "code",
   "execution_count": 77,
   "id": "75f049a7",
   "metadata": {},
   "outputs": [
    {
     "name": "stdout",
     "output_type": "stream",
     "text": [
      "Годовая выручка от пользователей с платной подпиской: 1644537.0\n"
     ]
    }
   ],
   "source": [
    "print('Годовая выручка от пользователей с платной подпиской:', \\\n",
    "      data_users_month.query(\"subscription_fee == 199\").month_revenue.sum())"
   ]
  },
  {
   "cell_type": "markdown",
   "id": "9c608099",
   "metadata": {},
   "source": [
    "***Выводы***\n",
    "\n",
    "Мы создали отдельный датафрейм с агрегированными данными о поездках на основе общего нашего датафрейма: добавили суммарное расстояние, количество поездок и суммарное время для каждого пользователя за каждый месяц, также добавили отдельный столбец с помесячной выручкой, которую принес каждый пользователь.\n",
    "\n",
    "Мы посмотрели общую годовую выручку за указанный период времени, 2021 год, она составила 3 878 641 рублей, также мы увидели, что в разрезе года пользователи без подписки принесли больше выручки (2 234 104 рублей), чем пользователи с платной подпиской (1 644 537 рублей), хотя кстати как мы смотрели ранее, платных пользователей не сильно больше, чем пользователей без подписки."
   ]
  },
  {
   "cell_type": "markdown",
   "id": "1a099ed8",
   "metadata": {},
   "source": [
    "## Проверка гипотез."
   ]
  },
  {
   "cell_type": "markdown",
   "id": "862e8dc4",
   "metadata": {},
   "source": [
    "Продакт-менеджеры сервиса хотят увеличить количество пользователей с подпиской. Для этого они будут проводить различные акции, но сначала нужно выяснить несколько важных моментов."
   ]
  },
  {
   "cell_type": "markdown",
   "id": "0f9a0990",
   "metadata": {},
   "source": [
    "***6.1. Важно понять, тратят ли пользователи с подпиской больше времени на поездки?***\n",
    "\n",
    "Используем исходные данные о продолжительности каждой сессии — отдельно для подписчиков и тех, у кого нет подписки."
   ]
  },
  {
   "cell_type": "markdown",
   "id": "9f534241",
   "metadata": {},
   "source": [
    "**Мы будем рассматривать гипотезу, что пользователи с подпиской могут быть «выгоднее» для компании.**"
   ]
  },
  {
   "cell_type": "markdown",
   "id": "d182177c",
   "metadata": {},
   "source": [
    "Сформулируем нулевую гипотезу, чаще используется знак равенства, соответственно нулевая гипотеза будет звучать так: среднее время поездки `duration` пользователей с подпиской `ultra` = среднему времени поездки `duration` пользователей без подписки `free`.\n",
    "\n",
    "Сформулируем альтернативную гипотезу: среднее время поездки `duration` пользователей с подпиской `ultra` > среднего времени поездки `duration` пользователей без подписки `free`."
   ]
  },
  {
   "cell_type": "markdown",
   "id": "b633222a",
   "metadata": {},
   "source": [
    "Импортируем необходимую библиотеку для проверки необходимых гипотез в Python."
   ]
  },
  {
   "cell_type": "code",
   "execution_count": 79,
   "id": "a5917786",
   "metadata": {},
   "outputs": [],
   "source": [
    "from scipy import stats as st"
   ]
  },
  {
   "cell_type": "code",
   "execution_count": 80,
   "id": "74d6717b",
   "metadata": {},
   "outputs": [
    {
     "name": "stdout",
     "output_type": "stream",
     "text": [
      "p-значение: 1.2804098316645613e-34\n",
      "Отвергаем нулевую гипотезу\n"
     ]
    }
   ],
   "source": [
    "alpha = 0.05 \n",
    "\n",
    "results = st.ttest_ind(\n",
    "    df_ultra['duration'],\n",
    "    df_free['duration'],\n",
    "    alternative='greater')\n",
    "\n",
    "print(f'p-значение: {results.pvalue}')\n",
    "\n",
    "if results.pvalue < alpha:\n",
    "    print('Отвергаем нулевую гипотезу')\n",
    "else:\n",
    "    print('Нет оснований отвергнуть нулевую гипотезу')"
   ]
  },
  {
   "cell_type": "markdown",
   "id": "7abeeb5a",
   "metadata": {},
   "source": [
    "Нулевая гипотеза не подтвердилась и среднее время поездки пользователей без подписки и с подпиской не равны, значит есть вероятность, что среднее время поездки пользователей с подпиской больше среднего времени поездки пользователей без подписки. Выведем на экран средние значения на основе имеющихся данных."
   ]
  },
  {
   "cell_type": "code",
   "execution_count": 81,
   "id": "080e03b0",
   "metadata": {},
   "outputs": [
    {
     "name": "stdout",
     "output_type": "stream",
     "text": [
      "Среднее время поездки пользователей с подпиской: 18.5\n",
      "Среднее время поездки пользователей без подписки: 17.4\n"
     ]
    }
   ],
   "source": [
    "print('Среднее время поездки пользователей с подпиской:', round(df_ultra['duration'].mean(), 1))\n",
    "print('Среднее время поездки пользователей без подписки:', round(df_free['duration'].mean(), 1))"
   ]
  },
  {
   "cell_type": "markdown",
   "id": "5d9318c3",
   "metadata": {},
   "source": [
    "***6.2. Расстояние одной поездки в 3130 метров — оптимальное с точки зрения износа самоката. Можно ли сказать, что среднее расстояние, которое проезжают пользователи с подпиской за одну поездку, не превышает 3130 метров? Проверим гипотезу и сделаем выводы.***"
   ]
  },
  {
   "cell_type": "markdown",
   "id": "109dd537",
   "metadata": {},
   "source": [
    "Нулевая гипотеза: среднее расстояние, которое проезжают пользователи с подпиской за одну поездку, равно 3130 метров.\n",
    "\n",
    "Альтернативная гипотеза: среднее расстояние, которое проезжают пользователи с подпиской за одну поездку, превышает 3130 метров."
   ]
  },
  {
   "cell_type": "code",
   "execution_count": 82,
   "id": "9c1247c6",
   "metadata": {},
   "outputs": [
    {
     "name": "stdout",
     "output_type": "stream",
     "text": [
      "p-значение: 0.9195362605842414\n",
      "Не получилось отвергнуть нулевую гипотезу\n"
     ]
    }
   ],
   "source": [
    "interested_value = 3130\n",
    "\n",
    "alpha = 0.05\n",
    "\n",
    "results = st.ttest_1samp(\n",
    "    df_ultra['distance'], \n",
    "    interested_value,\n",
    "    alternative='greater')\n",
    "\n",
    "print('p-значение:', results.pvalue)\n",
    "\n",
    "if (results.pvalue < alpha):\n",
    "    print('Отвергаем нулевую гипотезу: выручка значимо меньше 50 тысяч')\n",
    "else:\n",
    "    print('Не получилось отвергнуть нулевую гипотезу')\n"
   ]
  },
  {
   "cell_type": "markdown",
   "id": "f29b5b16",
   "metadata": {},
   "source": [
    "Не получилось отвергнуть нулевую гипотезу, соответственно среднее расстояние, которое проезжают пользователи с подпиской, меньше либо равно 3130 метров. Выведем на экран среднее значение на основе имеющихся данных."
   ]
  },
  {
   "cell_type": "code",
   "execution_count": 83,
   "id": "3dd5a75a",
   "metadata": {},
   "outputs": [
    {
     "name": "stdout",
     "output_type": "stream",
     "text": [
      "Среднее расстояние, которое проезжают пользователи с подпиской: 3115.4 м\n"
     ]
    }
   ],
   "source": [
    "print('Среднее расстояние, которое проезжают пользователи с подпиской:', round(df_ultra['distance'].mean(), 1), 'м')"
   ]
  },
  {
   "cell_type": "markdown",
   "id": "4c60e24b",
   "metadata": {},
   "source": [
    "Среднее расстояние пользователей с платной подпиской не превышает 3130 метров, а это оптимальное расстояние с точки зрения износа самоката, тут гипотеза подтвердилась, среднее расстояние действительно не превышает этот показатель, мы вывели на экран расчет среднего значения: 3115.4 м."
   ]
  },
  {
   "cell_type": "markdown",
   "id": "ab9cbd4e",
   "metadata": {},
   "source": [
    "***6.3. Проверим гипотезу о том, будет ли помесячная выручка от пользователей с подпиской по месяцам выше, чем выручка от пользователей без подписки и сделаем вывод.***"
   ]
  },
  {
   "cell_type": "markdown",
   "id": "366d3cd1",
   "metadata": {},
   "source": [
    "Нулевая гипотеза: помесячная выручка от пользователей с подпиской по месяцам равна выручке от пользователей без подписки по месяцам.\n",
    "\n",
    "Альтернативная гипотеза: помесячная выручка от пользователей с подпиской по месяцам выше выручки от пользователей без подписки по месяцам."
   ]
  },
  {
   "cell_type": "code",
   "execution_count": 84,
   "id": "b2404d5d",
   "metadata": {},
   "outputs": [
    {
     "name": "stdout",
     "output_type": "stream",
     "text": [
      "p-значение: 1.8850394384715216e-31\n",
      "Отвергаем нулевую гипотезу\n"
     ]
    }
   ],
   "source": [
    "alpha = 0.05 \n",
    "\n",
    "results = st.ttest_ind(\n",
    "    data_users_month.query(\"subscription_fee == 199\")['month_revenue'],\n",
    "    data_users_month.query(\"subscription_fee == 0\")['month_revenue'],\n",
    "    alternative='greater')\n",
    "\n",
    "print(f'p-значение: {results.pvalue}')\n",
    "\n",
    "if results.pvalue < alpha:\n",
    "    print('Отвергаем нулевую гипотезу')\n",
    "else:\n",
    "    print('Нет оснований отвергнуть нулевую гипотезу')"
   ]
  },
  {
   "cell_type": "markdown",
   "id": "d0464d5f",
   "metadata": {},
   "source": [
    "Отвергаем нулевую гипотезу, соответственно помесячная выручка от пользователей с подпиской по месяцам вероятно выше выручки от пользователей без подписки по месяцам. Выведем на экран среднюю выручку от пользователей с подпиской и без подписки."
   ]
  },
  {
   "cell_type": "code",
   "execution_count": 85,
   "id": "02cc3064",
   "metadata": {},
   "outputs": [
    {
     "name": "stdout",
     "output_type": "stream",
     "text": [
      "Средняя выручка пользователя с платной подпиской: 362.8\n"
     ]
    }
   ],
   "source": [
    "print('Средняя выручка пользователя с платной подпиской:', \\\n",
    "      round((data_users_month.query(\"subscription_fee == 199\")['month_revenue'].mean()), 1))"
   ]
  },
  {
   "cell_type": "code",
   "execution_count": 86,
   "id": "69cc7de8",
   "metadata": {},
   "outputs": [
    {
     "name": "stdout",
     "output_type": "stream",
     "text": [
      "Средняя выручка пользователя без платной подписки: 328.6\n"
     ]
    }
   ],
   "source": [
    "print('Средняя выручка пользователя без платной подписки:', \\\n",
    "      round((data_users_month.query(\"subscription_fee == 0\")['month_revenue'].mean()), 1))"
   ]
  },
  {
   "cell_type": "markdown",
   "id": "34b14fab",
   "metadata": {},
   "source": [
    "***6.4. Представим такую ситуацию: техническая команда сервиса обновила сервера, с которыми взаимодействует мобильное приложение. Она надеется, что из-за этого количество обращений в техподдержку значимо снизилось. Некоторый файл содержит для каждого пользователя данные о количестве обращений до обновления и после него. Какой тест мы выберем для проверки этой гипотезы?***"
   ]
  },
  {
   "cell_type": "markdown",
   "id": "907906c4",
   "metadata": {},
   "source": [
    "Мы бы применили здесь двухвыборочный тест для двух зависимых (парных) выборок, поскольку по сути мы измеряем одни и те же данные до и после изменения, т.е. в нашем конкретном случае, данные о количестве обращений в техподдержку до обновления серверов и после него.\n",
    "\n",
    "Нулевая гипотеза звучала бы так: количество обращений в техподдержку до обновления серверов = количество обращений в техподдержку после обновления серверов.\n",
    "\n",
    "Альтернативная гипотеза: количество обращений в техподдержку до обновления серверов > количество обращений в техподдержку после обновления серверов.\n",
    "\n",
    "Метод, который мы использовали бы: `scipy.stats.ttest_rel`, в качестве аргумента укажем `alternative='less'`, поскольку будем проверять, что истинное среднее генеральной совокупности до обновления больше, чем истинное среднее генеральной совокупности после обновления."
   ]
  },
  {
   "cell_type": "markdown",
   "id": "0fed5d50",
   "metadata": {},
   "source": [
    "***Выводы***\n",
    "\n",
    "Были выдвинуты и проверены следующие несколько гипотез:\n",
    "\n",
    "- время поездки `duration` пользователей с подпиской `ultra` равно времени поездки `duration` пользователей без подписки `free`, гипотезу мы отвергли, время поездки пользователей с подпиской скорее всего больше времени поездки пользователей без подписки. В подтверждение этого мы вывели на экран среднее время поездок пользователей обеих подписок. Оказалось, что среднее время поездки пользователей с подпиской: 18.5, среднее время поездки пользователей без подписки: 17.4, и правда немного превышает.\n",
    "\n",
    "- среднее расстояние, которое проезжают пользователи с подпиской за одну поездку, равно 3130 метров, в данном случае гипотезу отвергнуть не получилось, соответственно среднее расстояние, которое проезжают пользователи с подпиской за одну поездку меньше либо равно 3130 метров. В подтверждение мы вывели среднее расстояние у пользователей с подпиской на экран, оно получилось равным 3115.4 м.\n",
    "\n",
    "- помесячная выручка от пользователей с подпиской по месяцам равна помесячной выручке от пользователей без подписки по месяцам, Гипотезу мы отвергли, помесячная выручка от пользователей с подпиской по месяцам вероятно выше выручки от пользователей без подписки по месяцам. В подтверждение мы вывели на экран среднюю выручку от пользователей с подпиской и без подписки: средняя выручка пользователя с платной подпиской: 361.5, средняя выручка пользователя без платной подписки: 325.8. Все логично, средняя выручка от пользователей с подпиской немного больше.\n",
    "\n",
    "Мы порассуждали на тему, каким тестом будем проверять гипотезу от технической команды, изменилось бы количество обращений в техподдержку после обновления серверов, здесь отлично бы подошел двухвыборочный тест для двух зависимых (парных) выборок, метод `scipy.stats.ttest_rel`, в качестве аргумента указали бы `alternative='less'`."
   ]
  },
  {
   "cell_type": "markdown",
   "id": "962a37ed",
   "metadata": {},
   "source": [
    "## Распределения"
   ]
  },
  {
   "cell_type": "markdown",
   "id": "c876327a",
   "metadata": {},
   "source": [
    "***7.1. Отделу маркетинга GoFast поставили задачу: нужно провести акцию с раздачей промокодов на один бесплатный месяц подписки, в рамках которой как минимум 100 существующих клиентов должны продлить эту подписку. То есть по завершении периода действия подписки пользователь может либо отказаться от неё, либо продлить, совершив соответствующий платёж.*** "
   ]
  },
  {
   "cell_type": "markdown",
   "id": "ed542f24",
   "metadata": {},
   "source": [
    "Эта акция уже проводилась ранее и по итогу выяснилось, что после бесплатного пробного периода подписку продлевают 10% пользователей. Выясните, какое минимальное количество промокодов нужно разослать, чтобы вероятность не выполнить план была примерно 5%. Подберите параметры распределения, описывающего эту ситуацию, постройте график распределения и сформулируйте ответ на вопрос о количестве промокодов."
   ]
  },
  {
   "cell_type": "code",
   "execution_count": 87,
   "id": "17dce782",
   "metadata": {},
   "outputs": [],
   "source": [
    "from matplotlib import pyplot as plt\n",
    "from scipy.stats import binom\n",
    "import math"
   ]
  },
  {
   "cell_type": "markdown",
   "id": "06053991",
   "metadata": {},
   "source": [
    "Для задачи будем использовать биномиальное распределение, так как у нас в кейсе описываются повторяющиеся независимые испытания (рассылка промокодов) с двумя возможными исходами: пользователь либо продлит подписку либо нет. Обозначим условия: p - вероятность продления после бесплатного периода, равна 0,1; допустимая вероятность невыполнения плана alpha = 0,05, минимальное количество продлений - k = 100."
   ]
  },
  {
   "cell_type": "code",
   "execution_count": 88,
   "id": "2c4f3613",
   "metadata": {},
   "outputs": [
    {
     "name": "stdout",
     "output_type": "stream",
     "text": [
      "Минимальное количество промокодов: 1161\n"
     ]
    }
   ],
   "source": [
    "# отобразим условия\n",
    "p = 0.1\n",
    "k = 100\n",
    "alpha = 0.05\n",
    "\n",
    "n = k\n",
    "while binom.cdf(k - 1, n, p) > alpha:\n",
    "     n += 1\n",
    "\n",
    "print('Минимальное количество промокодов:', n)"
   ]
  },
  {
   "cell_type": "markdown",
   "id": "ff1fe1ae",
   "metadata": {},
   "source": [
    "Для визуализации построим график биномиального распределения, которое у нас получилось."
   ]
  },
  {
   "cell_type": "code",
   "execution_count": 89,
   "id": "7e3620c3",
   "metadata": {},
   "outputs": [
    {
     "data": {
      "image/png": "[encoded data removed]",
      "text/plain": [
       "<Figure size 720x400 with 1 Axes>"
      ]
     },
     "metadata": {},
     "output_type": "display_data"
    }
   ],
   "source": [
    "# зададим параметры биномиального распределения\n",
    "x = np.arange(0, 200)\n",
    "n = 1161\n",
    "probabilities = binom.pmf(x, n, p)\n",
    "\n",
    "# отобразим график распределения\n",
    "plt.figure(figsize=(9, 5))\n",
    "plt.bar(x, probabilities, color='DarkOrange', alpha=0.7)\n",
    "plt.axvline(x=k, color='red', linestyle='--', label=f'k={k}')\n",
    "plt.title('Биномиальное распределение')\n",
    "plt.xlabel('Количество продлений')\n",
    "plt.ylabel('Вероятность')\n",
    "plt.legend()\n",
    "plt.grid(True)\n",
    "plt.show()"
   ]
  },
  {
   "cell_type": "markdown",
   "id": "2ac57c20",
   "metadata": {},
   "source": [
    "Для проведения акции с целью продления подписки у минимум 100 действующих клиентов при условии вероятности невыполнения плана не более 5 %, нужно разослать 1161 промокод."
   ]
  },
  {
   "cell_type": "markdown",
   "id": "c54fd44f",
   "metadata": {},
   "source": [
    "***7.2. Отдел маркетинга рассылает клиентам push-уведомления в мобильном приложении. Клиенты могут открыть его или не открывать. Известно, что уведомления открывают около 40 % получивших клиентов. Отдел планирует разослать 1 млн уведомлений. С помощью аппроксимации построим примерный график распределения и оценим вероятность того, что уведомление откроют не более 399,5 тыс. пользователей.***  "
   ]
  },
  {
   "cell_type": "markdown",
   "id": "45090a8d",
   "metadata": {},
   "source": [
    "Для задачи также будем использовать биномиальное распределение, так как у события - рассылки уведомлений - может быть два исхода: клиенты могут открыть его и не открывать."
   ]
  },
  {
   "cell_type": "code",
   "execution_count": 90,
   "id": "ebec3140",
   "metadata": {},
   "outputs": [],
   "source": [
    "from math import sqrt\n",
    "from scipy import stats as st\n",
    "from scipy.stats import norm"
   ]
  },
  {
   "cell_type": "code",
   "execution_count": 91,
   "id": "464ce5f7",
   "metadata": {},
   "outputs": [
    {
     "name": "stdout",
     "output_type": "stream",
     "text": [
      "Вероятность того, что push-уведомление откроют 399,5 тыс. пользователей: 0.15\n"
     ]
    }
   ],
   "source": [
    "# зададим параметры биномиального распределения\n",
    "n = 1000000\n",
    "p = 0.4\n",
    "\n",
    "mu = n * p\n",
    "sigma = sqrt(n * p * (1 - p))\n",
    "\n",
    "# зададим нормальное распределение\n",
    "distr = st.norm(mu, sigma)\n",
    "\n",
    "# найдем вероятность того, что уведомление откроют не более 399,5 пользователей\n",
    "x = 399500\n",
    "result = distr.cdf(x)\n",
    "\n",
    "print(\"Вероятность того, что push-уведомление откроют 399,5 тыс. пользователей:\", round(result, 2))\n"
   ]
  },
  {
   "cell_type": "markdown",
   "id": "02c22c1b",
   "metadata": {},
   "source": [
    "Построим график распределения."
   ]
  },
  {
   "cell_type": "code",
   "execution_count": 92,
   "id": "9eae5a53",
   "metadata": {},
   "outputs": [
    {
     "data": {
      "image/png": "[encoded data removed]",
      "text/plain": [
       "<Figure size 640x480 with 1 Axes>"
      ]
     },
     "metadata": {},
     "output_type": "display_data"
    }
   ],
   "source": [
    "# границы промежутка, на котором будем строить график: mu плюс-минус 4 sigma\n",
    "left = mu - 4 * sigma\n",
    "right = mu + 4 * sigma\n",
    "\n",
    "# рисуем график нормального распределения: получим список из 1000 чисел от left до right\n",
    "x_values = np.linspace(left, right, 1000) \n",
    "\n",
    "plt.plot(x_values, norm.pdf(x_values, mu, sigma), lw=2, color='#FF8C00')\n",
    "plt.axvline(x=x, color='red', linestyle='--', label=f\"X = {x}\")\n",
    "\n",
    "# зададим подписи по оси x в прелеоах +- 3 ст. отклонений от мат. ожидания\n",
    "x_ticks = np.arange(mu - 3 * sigma, mu + 3 * sigma + 1, sigma)\n",
    "plt.xticks(x_ticks)\n",
    "\n",
    "# отобразим график распределения\n",
    "plt.title(\"График нормального распределения\")\n",
    "plt.xlabel(\"Количество открытий\")\n",
    "plt.ylabel(\"Плотность вероятности\")\n",
    "plt.legend()\n",
    "plt.grid(True)\n",
    "plt.show()"
   ]
  },
  {
   "cell_type": "markdown",
   "id": "ef38dab0",
   "metadata": {},
   "source": [
    "При рассылке 1 млн. push-уведомлений вероятность того, что push-уведомление откроют 399,5 тыс. пользователей составляет 15 %."
   ]
  },
  {
   "cell_type": "markdown",
   "id": "95643b65",
   "metadata": {},
   "source": [
    "## Общие выводы"
   ]
  },
  {
   "cell_type": "markdown",
   "id": "e06fa735",
   "metadata": {},
   "source": [
    "В первую очередь мы изучили имеющиеся у нас данные, выяснили, что данные у нас представлены за 2021 год, привели столбец с датой к корректному типу данных, а также добавили отдельный столбец с месяцем поездки, избавились от явных дубликатов и наконец посмотрели, есть ли у нас пропущенные значения, пропусков не оказалось.\n",
    "\n",
    "Следующим шагом мы посмотрели распределение пользователей по городам, больше всего (а именно 14,3 %) - пользователей из города Пятигорска, удивительно, но меньше всего (а именно 11 %) - это пользователи из города Москвы. Возможно это связано с тем, что в связи с тем, что если город сильно крупный, не так просто доехать до нужного места на самокате, в Москве скорее всего более популярен другой транспорт, например, метро.\n",
    "\n",
    "Кстати, примерно в 2021 году в таком городе, как Санкт-Петербург, например, как раз самокаты начинали приобретать большую популярность (в том году я была там в отпуске и была удивлена настолько большим количеством расставленных на улицах самокатов), однако в нашей выборке Питер не представлен, и проверить мою гипотезу мы в данном проекте не сможем :)\n",
    "\n",
    "Пользователей без подписки больше, чем пользователей с подпиской, однако разница не сильно большая (54 % против 46 %). Самому младшему пользователю приложения 12 лет (что является нарушением существующих норм, так как возраст, с которого разрешено брать в прокат самокаты составляет 18 лет), самому старшему - 43 года (большинство пользователей находятся в возрасте от 20 до 30 лет), средний возвраст пользователей приложения - 25 лет.\n",
    "\n",
    "Что касается расстояния поездок, минимальное расстояние, которое преодолел пользователь на самокате - 0,86 м, максимальное - 7,21 км (чаще всего проезжали расстояние от 2,5 до 4 км), среднее расстояние составляет около 3 км. Минимальная продолжительность поездки - 0,5 минут, на это нужно обязательно обратить внимание, так как минимальной продолжительности поездки не соответствует минимальная дистанция поездки - возможно есть неисправность счетчика времени на некоторых самокатах), максимальная продолжительность поездки - 41 минута (чаще всего пользователи проводили в поездках от 13 до 22 минут), среднее время поездки - 17 минут.\n",
    "\n",
    "Мы посмотрели разницу между расстоянием и временем поездок у пользователей без подписок и у пользователей с платными подписками - у первой группы расстояние и время поездок несколько выше, чем у группы с подписками, у платной группы наблюдается явный пик поездок на расстояние примерно в 3 км, также у первой группы без подписок большее количество продолжительных по времени поездок (примерно от 10 до 25 минут), чем у платной группы."
   ]
  },
  {
   "cell_type": "markdown",
   "id": "13489ac2",
   "metadata": {},
   "source": [
    "## Выводы по годовой выручке"
   ]
  },
  {
   "cell_type": "markdown",
   "id": "75066c0c",
   "metadata": {},
   "source": [
    "Мы создали отдельный датафрейм с агрегированными данными о поездках на основе общего нашего датафрейма и добавили отдельный столбец с помесячной выручкой, которую принес каждый пользователь. Посмотрели общую годовую выручку от обеих групп пользователей (3 878 641 рублей), доля годовой выручки от пользователей без подписки получилась выше, чем у пользователей с платной подпиской (57 % против 43 % или 2 234 104 рублей против 1 644 537 рублей). \n",
    "\n",
    "Интересный факт, учитывая, что ранее мы посмотрели, что количество бесплатных пользователей не сильно превышает количество платных пользователей, можно порекомендовать \"не забывать\" и про пользователей без подписок (может организовать какие-либо промо-акции или скидки от партнеров, чтобы увеличить и количество обычных пользователей в том числе)."
   ]
  },
  {
   "cell_type": "markdown",
   "id": "dbf2e94d",
   "metadata": {},
   "source": [
    "## Проверка гипотез"
   ]
  },
  {
   "cell_type": "markdown",
   "id": "a15428c3",
   "metadata": {},
   "source": [
    "1. Среднее время поездки пользователей с платной подпиской немного выше (18,5 минут), чем у пользователей без подписки (17,4 минуты), получилось, что хоть и без подписок пользователи ездят дольше чаще, тем не менее среднее время поездки у них ниже.\n",
    "\n",
    "2. Среднее расстояние пользователей с платной подпиской не превышает 3130 метров (так как это оптимальное расстояние с точки зрения износа самоката), тут гипотеза подтвердилась, среднее расстояние действительно не превышает этот показатель, мы подсчитали, оно получилось равным 3115.4 м.\n",
    "\n",
    "3. Помесячная выручка от пользователей с подпиской по месяцам выше, чем у пользователей без подписки, это оказалось верным предположением (средняя выручка пользователя с платной подпиской: 361.5 рублей, средняя выручка пользователя без платной подписки: 325.8 рублей). Да, все логично, и пользователи с платной подпиской выгоднее для компании, однако засчет того, что пользователи без подписки также очень активно пользуются самокатами, и в разрезе года принесли даже немного больше, однозначно утверждать нельзя."
   ]
  },
  {
   "cell_type": "markdown",
   "id": "0a8cea4c",
   "metadata": {},
   "source": [
    "## Расчеты для промоакций"
   ]
  },
  {
   "cell_type": "markdown",
   "id": "4dd60adc",
   "metadata": {},
   "source": [
    "1. Идея с промоакцией: в целях сохранения не менее 100 действующих клиентов с платной подпиской и при условии вероятности невыполнения плана не более 5 % можно провести акцию с раздачей промокодов на бесплатный месяц подписки в количество 1161 штуки.\n",
    "\n",
    "2. Идея с рассылкой: при рассылке 1 млн. push-уведомлений клиентам вероятность того, что push-уведомление откроют 399,5 тыс. пользователей составляет 15 %."
   ]
  },
  {
   "cell_type": "markdown",
   "id": "6fe28921",
   "metadata": {},
   "source": [
    "## Рекомендации"
   ]
  },
  {
   "cell_type": "markdown",
   "id": "b8b6e350",
   "metadata": {},
   "source": [
    "1. Детальнее обратить внимание на очень короткие по продолжительности поездки, ведь они не являются самыми короткими по дистанциям - проверить наличие технических неисправностей счетчика времени на самокатах, ведь это достаточно ощутимо отражается на выручке.\n",
    "\n",
    "2. Устраивать промоакции и рассылки как для пользователей с платными подписками, так и для пользователей без подписок, возможно организовать бонусы, акции и скидки от партнеров."
   ]
  }
 ],
 "metadata": {
  "ExecuteTimeLog": [
   {
    "duration": 1190,
    "start_time": "2025-01-22T16:17:45.366Z"
   },
   {
    "duration": 30,
    "start_time": "2025-01-22T16:17:46.558Z"
   },
   {
    "duration": 29,
    "start_time": "2025-01-22T16:17:46.590Z"
   },
   {
    "duration": 16,
    "start_time": "2025-01-22T16:17:46.620Z"
   },
   {
    "duration": 13,
    "start_time": "2025-01-22T16:17:46.638Z"
   },
   {
    "duration": 27,
    "start_time": "2025-01-22T16:17:46.652Z"
   },
   {
    "duration": 17,
    "start_time": "2025-01-22T16:17:46.681Z"
   },
   {
    "duration": 12,
    "start_time": "2025-01-22T16:17:46.700Z"
   },
   {
    "duration": 8,
    "start_time": "2025-01-22T16:17:46.714Z"
   },
   {
    "duration": 23,
    "start_time": "2025-01-22T16:17:46.724Z"
   },
   {
    "duration": 14,
    "start_time": "2025-01-22T16:17:46.748Z"
   },
   {
    "duration": 27,
    "start_time": "2025-01-22T16:17:46.763Z"
   },
   {
    "duration": 7,
    "start_time": "2025-01-22T16:17:46.791Z"
   },
   {
    "duration": 6,
    "start_time": "2025-01-22T16:17:46.801Z"
   },
   {
    "duration": 12,
    "start_time": "2025-01-22T16:17:46.808Z"
   },
   {
    "duration": 20,
    "start_time": "2025-01-22T16:17:46.822Z"
   },
   {
    "duration": 8,
    "start_time": "2025-01-22T16:17:46.845Z"
   },
   {
    "duration": 5,
    "start_time": "2025-01-22T16:17:46.855Z"
   },
   {
    "duration": 8,
    "start_time": "2025-01-22T16:17:46.862Z"
   },
   {
    "duration": 20,
    "start_time": "2025-01-22T16:17:46.872Z"
   },
   {
    "duration": 6,
    "start_time": "2025-01-22T16:17:46.894Z"
   },
   {
    "duration": 41,
    "start_time": "2025-01-22T16:17:46.902Z"
   },
   {
    "duration": 28,
    "start_time": "2025-01-22T16:17:46.947Z"
   },
   {
    "duration": 141,
    "start_time": "2025-01-22T16:17:46.976Z"
   },
   {
    "duration": 0,
    "start_time": "2025-01-22T16:17:47.120Z"
   },
   {
    "duration": 0,
    "start_time": "2025-01-22T16:17:47.121Z"
   },
   {
    "duration": 0,
    "start_time": "2025-01-22T16:17:47.122Z"
   },
   {
    "duration": 0,
    "start_time": "2025-01-22T16:17:47.124Z"
   },
   {
    "duration": 0,
    "start_time": "2025-01-22T16:17:47.125Z"
   },
   {
    "duration": 0,
    "start_time": "2025-01-22T16:17:47.126Z"
   },
   {
    "duration": 0,
    "start_time": "2025-01-22T16:17:47.127Z"
   },
   {
    "duration": 0,
    "start_time": "2025-01-22T16:17:47.128Z"
   },
   {
    "duration": 0,
    "start_time": "2025-01-22T16:17:47.137Z"
   },
   {
    "duration": 0,
    "start_time": "2025-01-22T16:17:47.139Z"
   },
   {
    "duration": 0,
    "start_time": "2025-01-22T16:17:47.140Z"
   },
   {
    "duration": 0,
    "start_time": "2025-01-22T16:17:47.142Z"
   },
   {
    "duration": 0,
    "start_time": "2025-01-22T16:17:47.143Z"
   },
   {
    "duration": 0,
    "start_time": "2025-01-22T16:17:47.145Z"
   },
   {
    "duration": 0,
    "start_time": "2025-01-22T16:17:47.146Z"
   },
   {
    "duration": 0,
    "start_time": "2025-01-22T16:17:47.148Z"
   },
   {
    "duration": 0,
    "start_time": "2025-01-22T16:17:47.149Z"
   },
   {
    "duration": 0,
    "start_time": "2025-01-22T16:17:47.151Z"
   },
   {
    "duration": 0,
    "start_time": "2025-01-22T16:17:47.152Z"
   },
   {
    "duration": 0,
    "start_time": "2025-01-22T16:17:47.154Z"
   },
   {
    "duration": 0,
    "start_time": "2025-01-22T16:17:47.156Z"
   },
   {
    "duration": 0,
    "start_time": "2025-01-22T16:17:47.157Z"
   },
   {
    "duration": 0,
    "start_time": "2025-01-22T16:17:47.159Z"
   },
   {
    "duration": 0,
    "start_time": "2025-01-22T16:17:47.160Z"
   },
   {
    "duration": 0,
    "start_time": "2025-01-22T16:17:47.161Z"
   },
   {
    "duration": 1,
    "start_time": "2025-01-22T16:17:47.162Z"
   },
   {
    "duration": 1,
    "start_time": "2025-01-22T16:17:47.163Z"
   },
   {
    "duration": 0,
    "start_time": "2025-01-22T16:17:47.165Z"
   },
   {
    "duration": 0,
    "start_time": "2025-01-22T16:17:47.166Z"
   },
   {
    "duration": 0,
    "start_time": "2025-01-22T16:17:47.167Z"
   },
   {
    "duration": 0,
    "start_time": "2025-01-22T16:17:47.168Z"
   },
   {
    "duration": 0,
    "start_time": "2025-01-22T16:17:47.169Z"
   },
   {
    "duration": 0,
    "start_time": "2025-01-22T16:17:47.170Z"
   },
   {
    "duration": 0,
    "start_time": "2025-01-22T16:17:47.171Z"
   },
   {
    "duration": 0,
    "start_time": "2025-01-22T16:17:47.173Z"
   },
   {
    "duration": 0,
    "start_time": "2025-01-22T16:17:47.174Z"
   },
   {
    "duration": 0,
    "start_time": "2025-01-22T16:17:47.175Z"
   },
   {
    "duration": 0,
    "start_time": "2025-01-22T16:17:47.238Z"
   },
   {
    "duration": 0,
    "start_time": "2025-01-22T16:17:47.239Z"
   },
   {
    "duration": 0,
    "start_time": "2025-01-22T16:17:47.240Z"
   },
   {
    "duration": 0,
    "start_time": "2025-01-22T16:17:47.241Z"
   },
   {
    "duration": 10,
    "start_time": "2025-01-22T16:27:18.531Z"
   },
   {
    "duration": 47,
    "start_time": "2025-01-23T03:37:52.374Z"
   },
   {
    "duration": 1326,
    "start_time": "2025-01-23T03:38:10.133Z"
   },
   {
    "duration": 79,
    "start_time": "2025-01-23T03:38:13.019Z"
   },
   {
    "duration": 86,
    "start_time": "2025-01-23T03:38:13.406Z"
   },
   {
    "duration": 62,
    "start_time": "2025-01-23T03:38:13.791Z"
   },
   {
    "duration": 12,
    "start_time": "2025-01-23T03:38:19.247Z"
   },
   {
    "duration": 11,
    "start_time": "2025-01-23T03:38:19.968Z"
   },
   {
    "duration": 9,
    "start_time": "2025-01-23T03:38:21.060Z"
   },
   {
    "duration": 11,
    "start_time": "2025-01-23T03:38:21.334Z"
   },
   {
    "duration": 7,
    "start_time": "2025-01-23T03:38:21.687Z"
   },
   {
    "duration": 11,
    "start_time": "2025-01-23T03:38:21.958Z"
   },
   {
    "duration": 10,
    "start_time": "2025-01-23T03:38:23.662Z"
   },
   {
    "duration": 7,
    "start_time": "2025-01-23T03:38:25.636Z"
   },
   {
    "duration": 8,
    "start_time": "2025-01-23T03:38:26.504Z"
   },
   {
    "duration": 7,
    "start_time": "2025-01-23T03:38:27.898Z"
   },
   {
    "duration": 7,
    "start_time": "2025-01-23T03:38:28.798Z"
   },
   {
    "duration": 6,
    "start_time": "2025-01-23T03:38:29.134Z"
   },
   {
    "duration": 6,
    "start_time": "2025-01-23T03:38:29.775Z"
   },
   {
    "duration": 5,
    "start_time": "2025-01-23T03:38:29.999Z"
   },
   {
    "duration": 7,
    "start_time": "2025-01-23T03:38:30.595Z"
   },
   {
    "duration": 8,
    "start_time": "2025-01-23T03:38:30.946Z"
   },
   {
    "duration": 5,
    "start_time": "2025-01-23T03:38:31.398Z"
   },
   {
    "duration": 10,
    "start_time": "2025-01-23T03:38:33.129Z"
   },
   {
    "duration": 9,
    "start_time": "2025-01-23T03:38:35.489Z"
   },
   {
    "duration": 9,
    "start_time": "2025-01-23T03:38:36.019Z"
   },
   {
    "duration": 3,
    "start_time": "2025-01-23T03:38:36.260Z"
   },
   {
    "duration": 4,
    "start_time": "2025-01-23T03:38:48.116Z"
   },
   {
    "duration": 251,
    "start_time": "2025-01-23T03:38:54.377Z"
   },
   {
    "duration": 184,
    "start_time": "2025-01-23T03:41:35.054Z"
   },
   {
    "duration": 188,
    "start_time": "2025-01-23T03:41:58.020Z"
   },
   {
    "duration": 180,
    "start_time": "2025-01-23T03:42:16.958Z"
   },
   {
    "duration": 8,
    "start_time": "2025-01-23T03:43:42.718Z"
   },
   {
    "duration": 396,
    "start_time": "2025-01-23T03:43:51.633Z"
   },
   {
    "duration": 368,
    "start_time": "2025-01-23T03:44:35.000Z"
   },
   {
    "duration": 8,
    "start_time": "2025-01-23T03:44:37.360Z"
   },
   {
    "duration": 95,
    "start_time": "2025-01-23T03:44:38.547Z"
   },
   {
    "duration": 9,
    "start_time": "2025-01-23T03:44:44.893Z"
   },
   {
    "duration": 173,
    "start_time": "2025-01-23T03:44:47.687Z"
   },
   {
    "duration": 10,
    "start_time": "2025-01-23T03:44:55.364Z"
   },
   {
    "duration": 10,
    "start_time": "2025-01-23T03:44:56.202Z"
   },
   {
    "duration": 204,
    "start_time": "2025-01-23T03:44:59.043Z"
   },
   {
    "duration": 9,
    "start_time": "2025-01-23T03:45:02.913Z"
   },
   {
    "duration": 120,
    "start_time": "2025-01-23T03:45:04.150Z"
   },
   {
    "duration": 20,
    "start_time": "2025-01-23T03:45:12.954Z"
   },
   {
    "duration": 19,
    "start_time": "2025-01-23T03:45:14.513Z"
   },
   {
    "duration": 17,
    "start_time": "2025-01-23T03:45:33.578Z"
   },
   {
    "duration": 21,
    "start_time": "2025-01-23T03:45:34.413Z"
   },
   {
    "duration": 25,
    "start_time": "2025-01-23T03:45:35.922Z"
   },
   {
    "duration": 22,
    "start_time": "2025-01-23T03:45:36.855Z"
   },
   {
    "duration": 1114,
    "start_time": "2025-01-23T03:45:41.001Z"
   },
   {
    "duration": 13,
    "start_time": "2025-01-23T03:46:24.720Z"
   },
   {
    "duration": 810,
    "start_time": "2025-01-23T03:46:25.443Z"
   },
   {
    "duration": 4,
    "start_time": "2025-01-23T03:46:26.889Z"
   },
   {
    "duration": 4,
    "start_time": "2025-01-23T03:46:27.387Z"
   },
   {
    "duration": 16,
    "start_time": "2025-01-23T03:46:31.099Z"
   },
   {
    "duration": 4,
    "start_time": "2025-01-23T03:46:33.541Z"
   },
   {
    "duration": 119,
    "start_time": "2025-01-23T03:46:34.440Z"
   },
   {
    "duration": 11,
    "start_time": "2025-01-23T03:46:35.291Z"
   },
   {
    "duration": 19,
    "start_time": "2025-01-23T03:46:36.609Z"
   },
   {
    "duration": 5,
    "start_time": "2025-01-23T03:46:39.194Z"
   },
   {
    "duration": 8,
    "start_time": "2025-01-23T03:46:39.483Z"
   },
   {
    "duration": 8,
    "start_time": "2025-01-23T03:46:40.047Z"
   },
   {
    "duration": 3,
    "start_time": "2025-01-23T03:46:44.233Z"
   },
   {
    "duration": 6,
    "start_time": "2025-01-23T03:46:44.893Z"
   },
   {
    "duration": 5,
    "start_time": "2025-01-23T03:46:48.153Z"
   },
   {
    "duration": 5,
    "start_time": "2025-01-23T03:46:49.341Z"
   },
   {
    "duration": 4,
    "start_time": "2025-01-23T03:46:50.160Z"
   },
   {
    "duration": 12,
    "start_time": "2025-01-23T03:46:53.853Z"
   },
   {
    "duration": 11,
    "start_time": "2025-01-23T03:46:54.752Z"
   },
   {
    "duration": 9,
    "start_time": "2025-01-23T03:46:55.075Z"
   },
   {
    "duration": 3,
    "start_time": "2025-01-23T03:46:57.661Z"
   },
   {
    "duration": 123,
    "start_time": "2025-01-23T03:46:58.656Z"
   },
   {
    "duration": 613,
    "start_time": "2025-01-23T03:46:59.958Z"
   },
   {
    "duration": 2,
    "start_time": "2025-01-23T03:47:57.444Z"
   },
   {
    "duration": 7,
    "start_time": "2025-01-23T03:47:57.989Z"
   },
   {
    "duration": 320,
    "start_time": "2025-01-23T03:47:59.804Z"
   },
   {
    "duration": 1138,
    "start_time": "2025-01-23T13:30:58.573Z"
   },
   {
    "duration": 28,
    "start_time": "2025-01-23T13:30:59.713Z"
   },
   {
    "duration": 29,
    "start_time": "2025-01-23T13:30:59.743Z"
   },
   {
    "duration": 14,
    "start_time": "2025-01-23T13:30:59.774Z"
   },
   {
    "duration": 11,
    "start_time": "2025-01-23T13:30:59.790Z"
   },
   {
    "duration": 12,
    "start_time": "2025-01-23T13:30:59.802Z"
   },
   {
    "duration": 18,
    "start_time": "2025-01-23T13:30:59.816Z"
   },
   {
    "duration": 25,
    "start_time": "2025-01-23T13:30:59.836Z"
   },
   {
    "duration": 7,
    "start_time": "2025-01-23T13:30:59.864Z"
   },
   {
    "duration": 9,
    "start_time": "2025-01-23T13:30:59.873Z"
   },
   {
    "duration": 17,
    "start_time": "2025-01-23T13:30:59.884Z"
   },
   {
    "duration": 6,
    "start_time": "2025-01-23T13:30:59.903Z"
   },
   {
    "duration": 7,
    "start_time": "2025-01-23T13:30:59.910Z"
   },
   {
    "duration": 33,
    "start_time": "2025-01-23T13:30:59.921Z"
   },
   {
    "duration": 7,
    "start_time": "2025-01-23T13:30:59.956Z"
   },
   {
    "duration": 6,
    "start_time": "2025-01-23T13:30:59.965Z"
   },
   {
    "duration": 60,
    "start_time": "2025-01-23T13:30:59.973Z"
   },
   {
    "duration": 24,
    "start_time": "2025-01-23T13:31:00.034Z"
   },
   {
    "duration": 26,
    "start_time": "2025-01-23T13:31:00.059Z"
   },
   {
    "duration": 13,
    "start_time": "2025-01-23T13:31:00.087Z"
   },
   {
    "duration": 34,
    "start_time": "2025-01-23T13:31:00.102Z"
   },
   {
    "duration": 44,
    "start_time": "2025-01-23T13:31:00.137Z"
   },
   {
    "duration": 31,
    "start_time": "2025-01-23T13:31:00.183Z"
   },
   {
    "duration": 61,
    "start_time": "2025-01-23T13:31:00.216Z"
   },
   {
    "duration": 34,
    "start_time": "2025-01-23T13:31:00.279Z"
   },
   {
    "duration": 373,
    "start_time": "2025-01-23T13:31:00.315Z"
   },
   {
    "duration": 9,
    "start_time": "2025-01-23T13:31:00.689Z"
   },
   {
    "duration": 104,
    "start_time": "2025-01-23T13:31:00.699Z"
   },
   {
    "duration": 8,
    "start_time": "2025-01-23T13:31:00.805Z"
   },
   {
    "duration": 190,
    "start_time": "2025-01-23T13:31:00.815Z"
   },
   {
    "duration": 8,
    "start_time": "2025-01-23T13:31:01.007Z"
   },
   {
    "duration": 8,
    "start_time": "2025-01-23T13:31:01.017Z"
   },
   {
    "duration": 147,
    "start_time": "2025-01-23T13:31:01.026Z"
   },
   {
    "duration": 8,
    "start_time": "2025-01-23T13:31:01.175Z"
   },
   {
    "duration": 126,
    "start_time": "2025-01-23T13:31:01.185Z"
   },
   {
    "duration": 15,
    "start_time": "2025-01-23T13:31:01.313Z"
   },
   {
    "duration": 68,
    "start_time": "2025-01-23T13:31:01.330Z"
   },
   {
    "duration": 22,
    "start_time": "2025-01-23T13:31:01.400Z"
   },
   {
    "duration": 18,
    "start_time": "2025-01-23T13:31:01.424Z"
   },
   {
    "duration": 985,
    "start_time": "2025-01-23T13:31:01.444Z"
   },
   {
    "duration": 25,
    "start_time": "2025-01-23T13:31:02.434Z"
   },
   {
    "duration": 1006,
    "start_time": "2025-01-23T13:31:02.461Z"
   },
   {
    "duration": 3,
    "start_time": "2025-01-23T13:31:03.469Z"
   },
   {
    "duration": 6,
    "start_time": "2025-01-23T13:31:03.474Z"
   },
   {
    "duration": 12,
    "start_time": "2025-01-23T13:31:03.482Z"
   },
   {
    "duration": 3,
    "start_time": "2025-01-23T13:31:03.495Z"
   },
   {
    "duration": 166,
    "start_time": "2025-01-23T13:31:03.500Z"
   },
   {
    "duration": 10,
    "start_time": "2025-01-23T13:31:03.668Z"
   },
   {
    "duration": 16,
    "start_time": "2025-01-23T13:31:03.680Z"
   },
   {
    "duration": 17,
    "start_time": "2025-01-23T13:31:03.697Z"
   },
   {
    "duration": 38,
    "start_time": "2025-01-23T13:31:03.715Z"
   },
   {
    "duration": 13,
    "start_time": "2025-01-23T13:31:03.754Z"
   },
   {
    "duration": 7,
    "start_time": "2025-01-23T13:31:03.769Z"
   },
   {
    "duration": 11,
    "start_time": "2025-01-23T13:31:03.778Z"
   },
   {
    "duration": 17,
    "start_time": "2025-01-23T13:31:03.790Z"
   },
   {
    "duration": 11,
    "start_time": "2025-01-23T13:31:03.809Z"
   },
   {
    "duration": 5,
    "start_time": "2025-01-23T13:31:03.823Z"
   },
   {
    "duration": 31,
    "start_time": "2025-01-23T13:31:03.830Z"
   },
   {
    "duration": 7,
    "start_time": "2025-01-23T13:31:03.863Z"
   },
   {
    "duration": 14,
    "start_time": "2025-01-23T13:31:03.871Z"
   },
   {
    "duration": 4,
    "start_time": "2025-01-23T13:31:03.887Z"
   },
   {
    "duration": 142,
    "start_time": "2025-01-23T13:31:03.892Z"
   },
   {
    "duration": 535,
    "start_time": "2025-01-23T13:31:04.045Z"
   },
   {
    "duration": 3,
    "start_time": "2025-01-23T13:31:04.582Z"
   },
   {
    "duration": 17,
    "start_time": "2025-01-23T13:31:04.587Z"
   },
   {
    "duration": 296,
    "start_time": "2025-01-23T13:31:04.606Z"
   },
   {
    "duration": 5,
    "start_time": "2025-01-23T15:21:50.489Z"
   },
   {
    "duration": 45,
    "start_time": "2025-01-24T03:07:32.271Z"
   },
   {
    "duration": 1258,
    "start_time": "2025-01-24T03:07:40.895Z"
   },
   {
    "duration": 29,
    "start_time": "2025-01-24T03:07:42.644Z"
   },
   {
    "duration": 27,
    "start_time": "2025-01-24T03:07:42.838Z"
   },
   {
    "duration": 15,
    "start_time": "2025-01-24T03:07:43.336Z"
   },
   {
    "duration": 11,
    "start_time": "2025-01-24T03:07:44.169Z"
   },
   {
    "duration": 11,
    "start_time": "2025-01-24T03:07:44.361Z"
   },
   {
    "duration": 8,
    "start_time": "2025-01-24T03:07:48.437Z"
   },
   {
    "duration": 10,
    "start_time": "2025-01-24T03:07:49.128Z"
   },
   {
    "duration": 7,
    "start_time": "2025-01-24T03:07:49.465Z"
   },
   {
    "duration": 8,
    "start_time": "2025-01-24T03:07:49.787Z"
   },
   {
    "duration": 10,
    "start_time": "2025-01-24T03:07:51.518Z"
   },
   {
    "duration": 5,
    "start_time": "2025-01-24T03:07:53.955Z"
   },
   {
    "duration": 6,
    "start_time": "2025-01-24T03:07:55.159Z"
   },
   {
    "duration": 6,
    "start_time": "2025-01-24T03:07:56.315Z"
   },
   {
    "duration": 6,
    "start_time": "2025-01-24T03:07:56.475Z"
   },
   {
    "duration": 5,
    "start_time": "2025-01-24T03:07:56.654Z"
   },
   {
    "duration": 5,
    "start_time": "2025-01-24T03:07:57.760Z"
   },
   {
    "duration": 4,
    "start_time": "2025-01-24T03:07:57.938Z"
   },
   {
    "duration": 6,
    "start_time": "2025-01-24T03:07:58.513Z"
   },
   {
    "duration": 8,
    "start_time": "2025-01-24T03:07:58.836Z"
   },
   {
    "duration": 4,
    "start_time": "2025-01-24T03:07:59.172Z"
   },
   {
    "duration": 9,
    "start_time": "2025-01-24T03:08:00.937Z"
   },
   {
    "duration": 7,
    "start_time": "2025-01-24T03:08:03.009Z"
   },
   {
    "duration": 4,
    "start_time": "2025-01-24T03:09:51.432Z"
   },
   {
    "duration": 36,
    "start_time": "2025-01-24T03:10:26.222Z"
   },
   {
    "duration": 3,
    "start_time": "2025-01-24T03:12:54.506Z"
   },
   {
    "duration": 8,
    "start_time": "2025-01-24T03:12:58.034Z"
   },
   {
    "duration": 13,
    "start_time": "2025-01-24T03:13:00.876Z"
   },
   {
    "duration": 60,
    "start_time": "2025-01-24T03:13:40.747Z"
   },
   {
    "duration": 3,
    "start_time": "2025-01-24T03:14:01.975Z"
   },
   {
    "duration": 8,
    "start_time": "2025-01-24T03:14:06.289Z"
   },
   {
    "duration": 18,
    "start_time": "2025-01-24T03:14:06.883Z"
   },
   {
    "duration": 7,
    "start_time": "2025-01-24T03:14:21.979Z"
   },
   {
    "duration": 17,
    "start_time": "2025-01-24T03:14:22.397Z"
   },
   {
    "duration": 29,
    "start_time": "2025-01-24T03:14:22.623Z"
   },
   {
    "duration": 15,
    "start_time": "2025-01-24T03:14:22.848Z"
   },
   {
    "duration": 7,
    "start_time": "2025-01-24T03:14:23.377Z"
   },
   {
    "duration": 10,
    "start_time": "2025-01-24T03:14:23.538Z"
   },
   {
    "duration": 8,
    "start_time": "2025-01-24T03:14:23.714Z"
   },
   {
    "duration": 11,
    "start_time": "2025-01-24T03:14:24.011Z"
   },
   {
    "duration": 6,
    "start_time": "2025-01-24T03:14:24.548Z"
   },
   {
    "duration": 11,
    "start_time": "2025-01-24T03:14:24.741Z"
   },
   {
    "duration": 14,
    "start_time": "2025-01-24T03:14:26.265Z"
   },
   {
    "duration": 6,
    "start_time": "2025-01-24T03:14:26.936Z"
   },
   {
    "duration": 6,
    "start_time": "2025-01-24T03:14:27.418Z"
   },
   {
    "duration": 6,
    "start_time": "2025-01-24T03:14:27.868Z"
   },
   {
    "duration": 6,
    "start_time": "2025-01-24T03:14:28.013Z"
   },
   {
    "duration": 7,
    "start_time": "2025-01-24T03:14:28.172Z"
   },
   {
    "duration": 5,
    "start_time": "2025-01-24T03:14:28.461Z"
   },
   {
    "duration": 4,
    "start_time": "2025-01-24T03:14:28.639Z"
   },
   {
    "duration": 6,
    "start_time": "2025-01-24T03:14:29.086Z"
   },
   {
    "duration": 8,
    "start_time": "2025-01-24T03:14:29.344Z"
   },
   {
    "duration": 5,
    "start_time": "2025-01-24T03:14:29.603Z"
   },
   {
    "duration": 10,
    "start_time": "2025-01-24T03:14:30.580Z"
   },
   {
    "duration": 3,
    "start_time": "2025-01-24T03:14:35.828Z"
   },
   {
    "duration": 9,
    "start_time": "2025-01-24T03:21:44.215Z"
   },
   {
    "duration": 86,
    "start_time": "2025-01-24T04:06:05.341Z"
   },
   {
    "duration": 9,
    "start_time": "2025-01-24T04:16:23.841Z"
   },
   {
    "duration": 8,
    "start_time": "2025-01-24T04:16:24.369Z"
   },
   {
    "duration": 3,
    "start_time": "2025-01-24T04:16:24.998Z"
   },
   {
    "duration": 396,
    "start_time": "2025-01-24T04:16:25.961Z"
   },
   {
    "duration": 8,
    "start_time": "2025-01-24T04:16:28.723Z"
   },
   {
    "duration": 82,
    "start_time": "2025-01-24T04:16:29.301Z"
   },
   {
    "duration": 8,
    "start_time": "2025-01-24T04:16:31.631Z"
   },
   {
    "duration": 148,
    "start_time": "2025-01-24T04:16:33.238Z"
   },
   {
    "duration": 8,
    "start_time": "2025-01-24T04:16:36.049Z"
   },
   {
    "duration": 7,
    "start_time": "2025-01-24T04:16:36.772Z"
   },
   {
    "duration": 247419,
    "start_time": "2025-01-24T04:23:13.189Z"
   },
   {
    "duration": 245066,
    "start_time": "2025-01-24T04:27:20.610Z"
   },
   {
    "duration": 422,
    "start_time": "2025-01-24T04:31:25.679Z"
   },
   {
    "duration": 250,
    "start_time": "2025-01-24T04:32:55.684Z"
   },
   {
    "duration": 240,
    "start_time": "2025-01-24T04:33:23.633Z"
   },
   {
    "duration": 185,
    "start_time": "2025-01-24T04:33:30.659Z"
   },
   {
    "duration": 220,
    "start_time": "2025-01-24T04:34:06.815Z"
   },
   {
    "duration": 190,
    "start_time": "2025-01-24T04:35:41.553Z"
   },
   {
    "duration": 196,
    "start_time": "2025-01-24T04:40:13.507Z"
   },
   {
    "duration": 8,
    "start_time": "2025-01-24T05:36:00.919Z"
   },
   {
    "duration": 7,
    "start_time": "2025-01-24T05:36:07.953Z"
   },
   {
    "duration": 3,
    "start_time": "2025-01-24T05:36:08.178Z"
   },
   {
    "duration": 277,
    "start_time": "2025-01-24T05:36:08.546Z"
   },
   {
    "duration": 8,
    "start_time": "2025-01-24T05:36:09.496Z"
   },
   {
    "duration": 83,
    "start_time": "2025-01-24T05:36:09.673Z"
   },
   {
    "duration": 7,
    "start_time": "2025-01-24T05:36:10.718Z"
   },
   {
    "duration": 149,
    "start_time": "2025-01-24T05:36:11.182Z"
   },
   {
    "duration": 8,
    "start_time": "2025-01-24T05:36:12.371Z"
   },
   {
    "duration": 8,
    "start_time": "2025-01-24T05:36:12.531Z"
   },
   {
    "duration": 113,
    "start_time": "2025-01-24T05:36:12.867Z"
   },
   {
    "duration": 193,
    "start_time": "2025-01-24T05:36:13.750Z"
   },
   {
    "duration": 8,
    "start_time": "2025-01-24T05:36:14.939Z"
   },
   {
    "duration": 113,
    "start_time": "2025-01-24T05:36:15.631Z"
   },
   {
    "duration": 15,
    "start_time": "2025-01-24T05:36:18.699Z"
   },
   {
    "duration": 18,
    "start_time": "2025-01-24T05:36:20.114Z"
   },
   {
    "duration": 13,
    "start_time": "2025-01-24T05:36:21.284Z"
   },
   {
    "duration": 10,
    "start_time": "2025-01-24T05:37:05.709Z"
   },
   {
    "duration": 19,
    "start_time": "2025-01-24T05:39:33.518Z"
   },
   {
    "duration": 19,
    "start_time": "2025-01-24T05:39:33.967Z"
   },
   {
    "duration": 925,
    "start_time": "2025-01-24T05:39:37.485Z"
   },
   {
    "duration": 263,
    "start_time": "2025-01-24T05:45:25.207Z"
   },
   {
    "duration": 265,
    "start_time": "2025-01-24T05:46:04.557Z"
   },
   {
    "duration": 263,
    "start_time": "2025-01-24T05:46:35.472Z"
   },
   {
    "duration": 279,
    "start_time": "2025-01-24T05:47:26.183Z"
   },
   {
    "duration": 299,
    "start_time": "2025-01-24T05:48:06.125Z"
   },
   {
    "duration": 319,
    "start_time": "2025-01-24T05:48:16.611Z"
   },
   {
    "duration": 449,
    "start_time": "2025-01-24T05:50:48.441Z"
   },
   {
    "duration": 450,
    "start_time": "2025-01-24T05:52:46.639Z"
   },
   {
    "duration": 416,
    "start_time": "2025-01-24T05:53:05.238Z"
   },
   {
    "duration": 400,
    "start_time": "2025-01-24T05:55:04.455Z"
   },
   {
    "duration": 7637,
    "start_time": "2025-01-24T05:55:11.425Z"
   },
   {
    "duration": 437,
    "start_time": "2025-01-24T05:56:04.499Z"
   },
   {
    "duration": 468,
    "start_time": "2025-01-24T05:56:19.594Z"
   },
   {
    "duration": 425,
    "start_time": "2025-01-24T05:56:26.968Z"
   },
   {
    "duration": 401,
    "start_time": "2025-01-24T05:56:42.951Z"
   },
   {
    "duration": 422,
    "start_time": "2025-01-24T05:56:56.427Z"
   },
   {
    "duration": 523,
    "start_time": "2025-01-24T05:58:21.140Z"
   },
   {
    "duration": 448,
    "start_time": "2025-01-24T05:58:45.919Z"
   },
   {
    "duration": 428,
    "start_time": "2025-01-24T05:59:27.080Z"
   },
   {
    "duration": 4,
    "start_time": "2025-01-24T06:02:44.454Z"
   },
   {
    "duration": 13,
    "start_time": "2025-01-24T06:02:55.065Z"
   },
   {
    "duration": 448,
    "start_time": "2025-01-24T06:05:03.006Z"
   },
   {
    "duration": 12,
    "start_time": "2025-01-24T06:05:05.429Z"
   },
   {
    "duration": 12,
    "start_time": "2025-01-24T06:05:14.228Z"
   },
   {
    "duration": 13,
    "start_time": "2025-01-24T06:05:22.370Z"
   },
   {
    "duration": 713,
    "start_time": "2025-01-24T06:05:25.711Z"
   },
   {
    "duration": 3,
    "start_time": "2025-01-24T06:05:28.812Z"
   },
   {
    "duration": 12,
    "start_time": "2025-01-24T06:05:45.405Z"
   },
   {
    "duration": 3,
    "start_time": "2025-01-24T06:05:54.476Z"
   },
   {
    "duration": 114,
    "start_time": "2025-01-24T06:05:56.645Z"
   },
   {
    "duration": 10,
    "start_time": "2025-01-24T06:05:57.643Z"
   },
   {
    "duration": 13,
    "start_time": "2025-01-24T06:06:01.818Z"
   },
   {
    "duration": 3,
    "start_time": "2025-01-24T06:06:03.182Z"
   },
   {
    "duration": 15,
    "start_time": "2025-01-24T06:16:35.770Z"
   },
   {
    "duration": 12,
    "start_time": "2025-01-24T06:17:05.318Z"
   },
   {
    "duration": 3,
    "start_time": "2025-01-24T06:18:48.088Z"
   },
   {
    "duration": 1441,
    "start_time": "2025-01-24T06:18:59.374Z"
   },
   {
    "duration": 9,
    "start_time": "2025-01-24T06:25:42.747Z"
   },
   {
    "duration": 21,
    "start_time": "2025-01-24T06:26:11.991Z"
   },
   {
    "duration": 18,
    "start_time": "2025-01-24T06:35:54.378Z"
   },
   {
    "duration": 3,
    "start_time": "2025-01-24T06:39:49.291Z"
   },
   {
    "duration": 1148,
    "start_time": "2025-01-24T06:40:51.499Z"
   },
   {
    "duration": 18,
    "start_time": "2025-01-24T06:40:52.649Z"
   },
   {
    "duration": 38,
    "start_time": "2025-01-24T06:40:52.668Z"
   },
   {
    "duration": 15,
    "start_time": "2025-01-24T06:40:52.707Z"
   },
   {
    "duration": 10,
    "start_time": "2025-01-24T06:40:52.724Z"
   },
   {
    "duration": 17,
    "start_time": "2025-01-24T06:40:52.736Z"
   },
   {
    "duration": 20,
    "start_time": "2025-01-24T06:40:52.755Z"
   },
   {
    "duration": 11,
    "start_time": "2025-01-24T06:40:52.777Z"
   },
   {
    "duration": 6,
    "start_time": "2025-01-24T06:40:52.790Z"
   },
   {
    "duration": 16,
    "start_time": "2025-01-24T06:40:52.798Z"
   },
   {
    "duration": 8,
    "start_time": "2025-01-24T06:40:52.816Z"
   },
   {
    "duration": 5,
    "start_time": "2025-01-24T06:40:52.825Z"
   },
   {
    "duration": 27,
    "start_time": "2025-01-24T06:40:52.831Z"
   },
   {
    "duration": 17,
    "start_time": "2025-01-24T06:40:52.861Z"
   },
   {
    "duration": 14,
    "start_time": "2025-01-24T06:40:52.879Z"
   },
   {
    "duration": 10,
    "start_time": "2025-01-24T06:40:52.895Z"
   },
   {
    "duration": 6,
    "start_time": "2025-01-24T06:40:52.906Z"
   },
   {
    "duration": 5,
    "start_time": "2025-01-24T06:40:52.914Z"
   },
   {
    "duration": 6,
    "start_time": "2025-01-24T06:40:52.920Z"
   },
   {
    "duration": 23,
    "start_time": "2025-01-24T06:40:52.927Z"
   },
   {
    "duration": 16,
    "start_time": "2025-01-24T06:40:52.952Z"
   },
   {
    "duration": 21,
    "start_time": "2025-01-24T06:40:52.970Z"
   },
   {
    "duration": 17,
    "start_time": "2025-01-24T06:40:52.992Z"
   },
   {
    "duration": 8,
    "start_time": "2025-01-24T06:40:53.011Z"
   },
   {
    "duration": 24,
    "start_time": "2025-01-24T06:40:53.020Z"
   },
   {
    "duration": 74,
    "start_time": "2025-01-24T06:40:53.045Z"
   },
   {
    "duration": 7,
    "start_time": "2025-01-24T06:40:53.121Z"
   },
   {
    "duration": 18,
    "start_time": "2025-01-24T06:40:53.130Z"
   },
   {
    "duration": 4,
    "start_time": "2025-01-24T06:40:53.149Z"
   },
   {
    "duration": 312,
    "start_time": "2025-01-24T06:40:53.155Z"
   },
   {
    "duration": 8,
    "start_time": "2025-01-24T06:40:53.468Z"
   },
   {
    "duration": 90,
    "start_time": "2025-01-24T06:40:53.477Z"
   },
   {
    "duration": 8,
    "start_time": "2025-01-24T06:40:53.569Z"
   },
   {
    "duration": 165,
    "start_time": "2025-01-24T06:40:53.578Z"
   },
   {
    "duration": 15,
    "start_time": "2025-01-24T06:40:53.745Z"
   },
   {
    "duration": 18,
    "start_time": "2025-01-24T06:40:53.761Z"
   },
   {
    "duration": 106,
    "start_time": "2025-01-24T06:40:53.780Z"
   },
   {
    "duration": 205,
    "start_time": "2025-01-24T06:40:53.888Z"
   },
   {
    "duration": 8,
    "start_time": "2025-01-24T06:40:54.095Z"
   },
   {
    "duration": 123,
    "start_time": "2025-01-24T06:40:54.105Z"
   },
   {
    "duration": 22,
    "start_time": "2025-01-24T06:40:54.232Z"
   },
   {
    "duration": 27,
    "start_time": "2025-01-24T06:40:54.256Z"
   },
   {
    "duration": 12,
    "start_time": "2025-01-24T06:40:54.285Z"
   },
   {
    "duration": 8,
    "start_time": "2025-01-24T06:40:54.298Z"
   },
   {
    "duration": 100,
    "start_time": "2025-01-24T06:40:54.307Z"
   },
   {
    "duration": 30,
    "start_time": "2025-01-24T06:40:54.409Z"
   },
   {
    "duration": 407,
    "start_time": "2025-01-24T06:40:54.454Z"
   },
   {
    "duration": 403,
    "start_time": "2025-01-24T06:40:54.862Z"
   },
   {
    "duration": 12,
    "start_time": "2025-01-24T06:40:55.266Z"
   },
   {
    "duration": 759,
    "start_time": "2025-01-24T06:40:55.279Z"
   },
   {
    "duration": 3,
    "start_time": "2025-01-24T06:40:56.040Z"
   },
   {
    "duration": 21,
    "start_time": "2025-01-24T06:40:56.045Z"
   },
   {
    "duration": 30,
    "start_time": "2025-01-24T06:40:56.068Z"
   },
   {
    "duration": 9,
    "start_time": "2025-01-24T06:40:56.099Z"
   },
   {
    "duration": 44,
    "start_time": "2025-01-24T06:42:52.584Z"
   },
   {
    "duration": 1094,
    "start_time": "2025-01-24T06:43:07.953Z"
   },
   {
    "duration": 18,
    "start_time": "2025-01-24T06:43:09.075Z"
   },
   {
    "duration": 28,
    "start_time": "2025-01-24T06:43:09.557Z"
   },
   {
    "duration": 16,
    "start_time": "2025-01-24T06:43:09.703Z"
   },
   {
    "duration": 11,
    "start_time": "2025-01-24T06:43:10.086Z"
   },
   {
    "duration": 11,
    "start_time": "2025-01-24T06:43:10.216Z"
   },
   {
    "duration": 8,
    "start_time": "2025-01-24T06:43:10.345Z"
   },
   {
    "duration": 10,
    "start_time": "2025-01-24T06:43:10.456Z"
   },
   {
    "duration": 6,
    "start_time": "2025-01-24T06:43:10.585Z"
   },
   {
    "duration": 10,
    "start_time": "2025-01-24T06:43:10.730Z"
   },
   {
    "duration": 9,
    "start_time": "2025-01-24T06:43:11.402Z"
   },
   {
    "duration": 6,
    "start_time": "2025-01-24T06:43:11.946Z"
   },
   {
    "duration": 6,
    "start_time": "2025-01-24T06:43:12.365Z"
   },
   {
    "duration": 6,
    "start_time": "2025-01-24T06:43:12.766Z"
   },
   {
    "duration": 7,
    "start_time": "2025-01-24T06:43:12.897Z"
   },
   {
    "duration": 6,
    "start_time": "2025-01-24T06:43:13.039Z"
   },
   {
    "duration": 6,
    "start_time": "2025-01-24T06:43:13.295Z"
   },
   {
    "duration": 4,
    "start_time": "2025-01-24T06:43:13.456Z"
   },
   {
    "duration": 6,
    "start_time": "2025-01-24T06:43:13.743Z"
   },
   {
    "duration": 8,
    "start_time": "2025-01-24T06:43:13.889Z"
   },
   {
    "duration": 5,
    "start_time": "2025-01-24T06:43:14.034Z"
   },
   {
    "duration": 9,
    "start_time": "2025-01-24T06:43:14.611Z"
   },
   {
    "duration": 4,
    "start_time": "2025-01-24T06:43:14.897Z"
   },
   {
    "duration": 10,
    "start_time": "2025-01-24T06:43:15.186Z"
   },
   {
    "duration": 8,
    "start_time": "2025-01-24T06:43:15.333Z"
   },
   {
    "duration": 17,
    "start_time": "2025-01-24T06:43:15.604Z"
   },
   {
    "duration": 8,
    "start_time": "2025-01-24T06:43:17.626Z"
   },
   {
    "duration": 8,
    "start_time": "2025-01-24T06:43:17.770Z"
   },
   {
    "duration": 4,
    "start_time": "2025-01-24T06:43:17.916Z"
   },
   {
    "duration": 334,
    "start_time": "2025-01-24T06:43:18.220Z"
   },
   {
    "duration": 8,
    "start_time": "2025-01-24T06:43:19.085Z"
   },
   {
    "duration": 85,
    "start_time": "2025-01-24T06:43:19.217Z"
   },
   {
    "duration": 8,
    "start_time": "2025-01-24T06:43:19.873Z"
   },
   {
    "duration": 156,
    "start_time": "2025-01-24T06:43:20.293Z"
   },
   {
    "duration": 9,
    "start_time": "2025-01-24T06:43:21.254Z"
   },
   {
    "duration": 8,
    "start_time": "2025-01-24T06:43:21.510Z"
   },
   {
    "duration": 108,
    "start_time": "2025-01-24T06:43:21.878Z"
   },
   {
    "duration": 200,
    "start_time": "2025-01-24T06:43:22.873Z"
   },
   {
    "duration": 9,
    "start_time": "2025-01-24T06:43:24.309Z"
   },
   {
    "duration": 103,
    "start_time": "2025-01-24T06:43:25.340Z"
   },
   {
    "duration": 15,
    "start_time": "2025-01-24T06:43:28.793Z"
   },
   {
    "duration": 19,
    "start_time": "2025-01-24T06:43:29.885Z"
   },
   {
    "duration": 14,
    "start_time": "2025-01-24T06:43:32.149Z"
   },
   {
    "duration": 8,
    "start_time": "2025-01-24T06:43:32.725Z"
   },
   {
    "duration": 22,
    "start_time": "2025-01-24T06:43:33.833Z"
   },
   {
    "duration": 20,
    "start_time": "2025-01-24T06:43:34.219Z"
   },
   {
    "duration": 535,
    "start_time": "2025-01-24T06:43:36.915Z"
   },
   {
    "duration": 414,
    "start_time": "2025-01-24T06:43:37.452Z"
   },
   {
    "duration": 12,
    "start_time": "2025-01-24T06:43:41.695Z"
   },
   {
    "duration": 831,
    "start_time": "2025-01-24T06:43:44.280Z"
   },
   {
    "duration": 4,
    "start_time": "2025-01-24T06:43:47.025Z"
   },
   {
    "duration": 12,
    "start_time": "2025-01-24T06:43:54.759Z"
   },
   {
    "duration": 13,
    "start_time": "2025-01-24T06:43:58.045Z"
   },
   {
    "duration": 9,
    "start_time": "2025-01-24T06:44:06.904Z"
   },
   {
    "duration": 76,
    "start_time": "2025-01-24T06:46:58.041Z"
   },
   {
    "duration": 1591,
    "start_time": "2025-01-24T07:10:14.479Z"
   },
   {
    "duration": 15,
    "start_time": "2025-01-24T07:10:50.530Z"
   },
   {
    "duration": 1468,
    "start_time": "2025-01-24T07:11:35.924Z"
   },
   {
    "duration": 899,
    "start_time": "2025-01-24T07:13:29.085Z"
   },
   {
    "duration": 3,
    "start_time": "2025-01-24T07:13:30.593Z"
   },
   {
    "duration": 4,
    "start_time": "2025-01-24T07:13:51.462Z"
   },
   {
    "duration": 9,
    "start_time": "2025-01-24T07:14:23.375Z"
   },
   {
    "duration": 450,
    "start_time": "2025-01-24T07:15:00.009Z"
   },
   {
    "duration": 38,
    "start_time": "2025-01-24T07:15:05.365Z"
   },
   {
    "duration": 3,
    "start_time": "2025-01-24T07:15:05.655Z"
   },
   {
    "duration": 12,
    "start_time": "2025-01-24T07:15:16.839Z"
   },
   {
    "duration": 17,
    "start_time": "2025-01-24T07:16:32.832Z"
   },
   {
    "duration": 13,
    "start_time": "2025-01-24T07:17:01.727Z"
   },
   {
    "duration": 40,
    "start_time": "2025-01-24T07:17:07.808Z"
   },
   {
    "duration": 37,
    "start_time": "2025-01-24T07:17:13.232Z"
   },
   {
    "duration": 3,
    "start_time": "2025-01-24T07:17:13.522Z"
   },
   {
    "duration": 4,
    "start_time": "2025-01-24T07:17:13.811Z"
   },
   {
    "duration": 13,
    "start_time": "2025-01-24T07:17:16.332Z"
   },
   {
    "duration": 10,
    "start_time": "2025-01-24T07:17:27.351Z"
   },
   {
    "duration": 4,
    "start_time": "2025-01-24T07:18:23.167Z"
   },
   {
    "duration": 16,
    "start_time": "2025-01-24T07:18:48.084Z"
   },
   {
    "duration": 11,
    "start_time": "2025-01-24T07:18:57.857Z"
   },
   {
    "duration": 5,
    "start_time": "2025-01-24T07:19:25.375Z"
   },
   {
    "duration": 13,
    "start_time": "2025-01-24T07:19:31.392Z"
   },
   {
    "duration": 15,
    "start_time": "2025-01-24T07:21:52.083Z"
   },
   {
    "duration": 572,
    "start_time": "2025-01-24T07:22:30.641Z"
   },
   {
    "duration": 39,
    "start_time": "2025-01-24T07:22:38.725Z"
   },
   {
    "duration": 3,
    "start_time": "2025-01-24T07:22:39.689Z"
   },
   {
    "duration": 3,
    "start_time": "2025-01-24T07:22:44.549Z"
   },
   {
    "duration": 15,
    "start_time": "2025-01-24T07:22:45.095Z"
   },
   {
    "duration": 15,
    "start_time": "2025-01-24T07:23:16.067Z"
   },
   {
    "duration": 11,
    "start_time": "2025-01-24T11:51:32.923Z"
   },
   {
    "duration": 40,
    "start_time": "2025-01-24T11:51:36.932Z"
   },
   {
    "duration": 3,
    "start_time": "2025-01-24T11:51:37.829Z"
   },
   {
    "duration": 4,
    "start_time": "2025-01-24T11:51:38.296Z"
   },
   {
    "duration": 10,
    "start_time": "2025-01-24T11:51:38.680Z"
   },
   {
    "duration": 13,
    "start_time": "2025-01-24T11:51:42.131Z"
   },
   {
    "duration": 14,
    "start_time": "2025-01-24T11:52:00.775Z"
   },
   {
    "duration": 12,
    "start_time": "2025-01-24T11:52:12.311Z"
   },
   {
    "duration": 11,
    "start_time": "2025-01-24T11:52:28.006Z"
   },
   {
    "duration": 3,
    "start_time": "2025-01-24T11:52:34.925Z"
   },
   {
    "duration": 1372,
    "start_time": "2025-01-24T11:52:37.488Z"
   },
   {
    "duration": 11,
    "start_time": "2025-01-24T11:53:50.615Z"
   },
   {
    "duration": 3,
    "start_time": "2025-01-24T11:54:34.245Z"
   },
   {
    "duration": 44,
    "start_time": "2025-01-24T11:54:55.363Z"
   },
   {
    "duration": 1115,
    "start_time": "2025-01-24T11:55:10.932Z"
   },
   {
    "duration": 96,
    "start_time": "2025-01-24T11:55:12.049Z"
   },
   {
    "duration": 65,
    "start_time": "2025-01-24T11:55:12.147Z"
   },
   {
    "duration": 47,
    "start_time": "2025-01-24T11:55:12.215Z"
   },
   {
    "duration": 11,
    "start_time": "2025-01-24T11:55:12.263Z"
   },
   {
    "duration": 17,
    "start_time": "2025-01-24T11:55:12.275Z"
   },
   {
    "duration": 8,
    "start_time": "2025-01-24T11:55:13.548Z"
   },
   {
    "duration": 10,
    "start_time": "2025-01-24T11:55:13.677Z"
   },
   {
    "duration": 6,
    "start_time": "2025-01-24T11:55:13.807Z"
   },
   {
    "duration": 9,
    "start_time": "2025-01-24T11:55:13.926Z"
   },
   {
    "duration": 10,
    "start_time": "2025-01-24T11:55:14.559Z"
   },
   {
    "duration": 6,
    "start_time": "2025-01-24T11:55:15.057Z"
   },
   {
    "duration": 6,
    "start_time": "2025-01-24T11:55:16.197Z"
   },
   {
    "duration": 6,
    "start_time": "2025-01-24T11:55:16.534Z"
   },
   {
    "duration": 6,
    "start_time": "2025-01-24T11:55:16.661Z"
   },
   {
    "duration": 5,
    "start_time": "2025-01-24T11:55:16.790Z"
   },
   {
    "duration": 5,
    "start_time": "2025-01-24T11:55:17.045Z"
   },
   {
    "duration": 5,
    "start_time": "2025-01-24T11:55:17.159Z"
   },
   {
    "duration": 7,
    "start_time": "2025-01-24T11:55:17.416Z"
   },
   {
    "duration": 8,
    "start_time": "2025-01-24T11:55:17.544Z"
   },
   {
    "duration": 5,
    "start_time": "2025-01-24T11:55:17.657Z"
   },
   {
    "duration": 9,
    "start_time": "2025-01-24T11:55:18.170Z"
   },
   {
    "duration": 4,
    "start_time": "2025-01-24T11:55:18.425Z"
   },
   {
    "duration": 9,
    "start_time": "2025-01-24T11:55:18.699Z"
   },
   {
    "duration": 9,
    "start_time": "2025-01-24T11:55:18.829Z"
   },
   {
    "duration": 17,
    "start_time": "2025-01-24T11:55:19.100Z"
   },
   {
    "duration": 9,
    "start_time": "2025-01-24T11:55:20.801Z"
   },
   {
    "duration": 8,
    "start_time": "2025-01-24T11:55:20.931Z"
   },
   {
    "duration": 3,
    "start_time": "2025-01-24T11:55:21.067Z"
   },
   {
    "duration": 342,
    "start_time": "2025-01-24T11:55:21.299Z"
   },
   {
    "duration": 8,
    "start_time": "2025-01-24T11:55:21.814Z"
   },
   {
    "duration": 86,
    "start_time": "2025-01-24T11:55:21.959Z"
   },
   {
    "duration": 8,
    "start_time": "2025-01-24T11:55:22.600Z"
   },
   {
    "duration": 151,
    "start_time": "2025-01-24T11:55:22.986Z"
   },
   {
    "duration": 9,
    "start_time": "2025-01-24T11:55:24.437Z"
   },
   {
    "duration": 14,
    "start_time": "2025-01-24T11:55:24.449Z"
   },
   {
    "duration": 108,
    "start_time": "2025-01-24T11:55:24.464Z"
   },
   {
    "duration": 197,
    "start_time": "2025-01-24T11:55:24.667Z"
   },
   {
    "duration": 8,
    "start_time": "2025-01-24T11:55:25.134Z"
   },
   {
    "duration": 120,
    "start_time": "2025-01-24T11:55:25.423Z"
   },
   {
    "duration": 14,
    "start_time": "2025-01-24T11:55:27.156Z"
   },
   {
    "duration": 17,
    "start_time": "2025-01-24T11:55:27.429Z"
   },
   {
    "duration": 12,
    "start_time": "2025-01-24T11:55:27.991Z"
   },
   {
    "duration": 8,
    "start_time": "2025-01-24T11:55:29.002Z"
   },
   {
    "duration": 20,
    "start_time": "2025-01-24T11:55:29.660Z"
   },
   {
    "duration": 19,
    "start_time": "2025-01-24T11:55:29.791Z"
   },
   {
    "duration": 464,
    "start_time": "2025-01-24T11:55:31.297Z"
   },
   {
    "duration": 413,
    "start_time": "2025-01-24T11:55:31.763Z"
   },
   {
    "duration": 13,
    "start_time": "2025-01-24T11:55:34.168Z"
   },
   {
    "duration": 38,
    "start_time": "2025-01-24T11:55:36.190Z"
   },
   {
    "duration": 3,
    "start_time": "2025-01-24T11:55:37.846Z"
   },
   {
    "duration": 4,
    "start_time": "2025-01-24T11:55:38.806Z"
   },
   {
    "duration": 10,
    "start_time": "2025-01-24T11:55:39.432Z"
   },
   {
    "duration": 13,
    "start_time": "2025-01-24T11:55:41.053Z"
   },
   {
    "duration": 15,
    "start_time": "2025-01-24T11:55:46.827Z"
   },
   {
    "duration": 10,
    "start_time": "2025-01-24T11:55:50.293Z"
   },
   {
    "duration": 3,
    "start_time": "2025-01-24T11:55:51.401Z"
   },
   {
    "duration": 45,
    "start_time": "2025-01-24T11:56:10.659Z"
   },
   {
    "duration": 6,
    "start_time": "2025-01-24T11:56:18.842Z"
   },
   {
    "duration": 1101,
    "start_time": "2025-01-24T11:56:32.960Z"
   },
   {
    "duration": 51,
    "start_time": "2025-01-24T11:56:34.063Z"
   },
   {
    "duration": 64,
    "start_time": "2025-01-24T11:56:34.115Z"
   },
   {
    "duration": 48,
    "start_time": "2025-01-24T11:56:34.181Z"
   },
   {
    "duration": 11,
    "start_time": "2025-01-24T11:56:34.230Z"
   },
   {
    "duration": 11,
    "start_time": "2025-01-24T11:56:34.242Z"
   },
   {
    "duration": 17,
    "start_time": "2025-01-24T11:56:34.254Z"
   },
   {
    "duration": 16,
    "start_time": "2025-01-24T11:56:34.272Z"
   },
   {
    "duration": 34,
    "start_time": "2025-01-24T11:56:34.289Z"
   },
   {
    "duration": 118,
    "start_time": "2025-01-24T11:56:34.325Z"
   },
   {
    "duration": 50,
    "start_time": "2025-01-24T11:56:34.445Z"
   },
   {
    "duration": 42,
    "start_time": "2025-01-24T11:56:34.497Z"
   },
   {
    "duration": 18,
    "start_time": "2025-01-24T11:56:34.540Z"
   },
   {
    "duration": 6,
    "start_time": "2025-01-24T11:56:34.560Z"
   },
   {
    "duration": 13,
    "start_time": "2025-01-24T11:56:34.567Z"
   },
   {
    "duration": 5,
    "start_time": "2025-01-24T11:56:34.581Z"
   },
   {
    "duration": 10,
    "start_time": "2025-01-24T11:56:34.587Z"
   },
   {
    "duration": 4,
    "start_time": "2025-01-24T11:56:34.598Z"
   },
   {
    "duration": 38,
    "start_time": "2025-01-24T11:56:34.604Z"
   },
   {
    "duration": 25,
    "start_time": "2025-01-24T11:56:34.643Z"
   },
   {
    "duration": 11,
    "start_time": "2025-01-24T11:56:34.669Z"
   },
   {
    "duration": 10,
    "start_time": "2025-01-24T11:56:34.682Z"
   },
   {
    "duration": 42,
    "start_time": "2025-01-24T11:56:34.694Z"
   },
   {
    "duration": 20,
    "start_time": "2025-01-24T11:56:34.737Z"
   },
   {
    "duration": 7,
    "start_time": "2025-01-24T11:56:34.759Z"
   },
   {
    "duration": 23,
    "start_time": "2025-01-24T11:56:34.768Z"
   },
   {
    "duration": 8,
    "start_time": "2025-01-24T11:56:34.792Z"
   },
   {
    "duration": 16,
    "start_time": "2025-01-24T11:56:34.803Z"
   },
   {
    "duration": 11,
    "start_time": "2025-01-24T11:56:34.820Z"
   },
   {
    "duration": 302,
    "start_time": "2025-01-24T11:56:34.832Z"
   },
   {
    "duration": 8,
    "start_time": "2025-01-24T11:56:35.135Z"
   },
   {
    "duration": 87,
    "start_time": "2025-01-24T11:56:35.154Z"
   },
   {
    "duration": 16,
    "start_time": "2025-01-24T11:56:35.242Z"
   },
   {
    "duration": 174,
    "start_time": "2025-01-24T11:56:35.259Z"
   },
   {
    "duration": 8,
    "start_time": "2025-01-24T11:56:35.435Z"
   },
   {
    "duration": 28,
    "start_time": "2025-01-24T11:56:35.444Z"
   },
   {
    "duration": 150,
    "start_time": "2025-01-24T11:56:35.473Z"
   },
   {
    "duration": 210,
    "start_time": "2025-01-24T11:56:35.625Z"
   },
   {
    "duration": 17,
    "start_time": "2025-01-24T11:56:35.837Z"
   },
   {
    "duration": 114,
    "start_time": "2025-01-24T11:56:35.856Z"
   },
   {
    "duration": 14,
    "start_time": "2025-01-24T11:56:35.971Z"
   },
   {
    "duration": 22,
    "start_time": "2025-01-24T11:56:35.987Z"
   },
   {
    "duration": 53,
    "start_time": "2025-01-24T11:56:36.011Z"
   },
   {
    "duration": 8,
    "start_time": "2025-01-24T11:56:36.066Z"
   },
   {
    "duration": 28,
    "start_time": "2025-01-24T11:56:36.075Z"
   },
   {
    "duration": 22,
    "start_time": "2025-01-24T11:56:36.104Z"
   },
   {
    "duration": 522,
    "start_time": "2025-01-24T11:56:36.128Z"
   },
   {
    "duration": 418,
    "start_time": "2025-01-24T11:56:36.651Z"
   },
   {
    "duration": 13,
    "start_time": "2025-01-24T11:56:37.070Z"
   },
   {
    "duration": 60,
    "start_time": "2025-01-24T11:56:58.923Z"
   },
   {
    "duration": 11,
    "start_time": "2025-01-24T11:57:16.894Z"
   },
   {
    "duration": 1148,
    "start_time": "2025-01-24T11:57:26.170Z"
   },
   {
    "duration": 18,
    "start_time": "2025-01-24T11:57:27.319Z"
   },
   {
    "duration": 28,
    "start_time": "2025-01-24T11:57:27.339Z"
   },
   {
    "duration": 15,
    "start_time": "2025-01-24T11:57:27.369Z"
   },
   {
    "duration": 20,
    "start_time": "2025-01-24T11:57:27.385Z"
   },
   {
    "duration": 29,
    "start_time": "2025-01-24T11:57:27.406Z"
   },
   {
    "duration": 9,
    "start_time": "2025-01-24T11:57:27.437Z"
   },
   {
    "duration": 31,
    "start_time": "2025-01-24T11:57:27.448Z"
   },
   {
    "duration": 8,
    "start_time": "2025-01-24T11:57:27.480Z"
   },
   {
    "duration": 9,
    "start_time": "2025-01-24T11:57:27.491Z"
   },
   {
    "duration": 9,
    "start_time": "2025-01-24T11:57:27.501Z"
   },
   {
    "duration": 6,
    "start_time": "2025-01-24T11:57:27.512Z"
   },
   {
    "duration": 7,
    "start_time": "2025-01-24T11:57:27.519Z"
   },
   {
    "duration": 7,
    "start_time": "2025-01-24T11:57:27.527Z"
   },
   {
    "duration": 7,
    "start_time": "2025-01-24T11:57:27.553Z"
   },
   {
    "duration": 5,
    "start_time": "2025-01-24T11:57:27.561Z"
   },
   {
    "duration": 11,
    "start_time": "2025-01-24T11:57:27.568Z"
   },
   {
    "duration": 4,
    "start_time": "2025-01-24T11:57:27.581Z"
   },
   {
    "duration": 5,
    "start_time": "2025-01-24T11:57:27.586Z"
   },
   {
    "duration": 9,
    "start_time": "2025-01-24T11:57:27.592Z"
   },
   {
    "duration": 4,
    "start_time": "2025-01-24T11:57:27.603Z"
   },
   {
    "duration": 8,
    "start_time": "2025-01-24T11:57:27.608Z"
   },
   {
    "duration": 38,
    "start_time": "2025-01-24T11:57:27.617Z"
   },
   {
    "duration": 52,
    "start_time": "2025-01-24T11:57:27.656Z"
   },
   {
    "duration": 23,
    "start_time": "2025-01-24T11:57:27.709Z"
   },
   {
    "duration": 20,
    "start_time": "2025-01-24T11:57:27.733Z"
   },
   {
    "duration": 8,
    "start_time": "2025-01-24T11:57:27.755Z"
   },
   {
    "duration": 11,
    "start_time": "2025-01-24T11:57:27.767Z"
   },
   {
    "duration": 7,
    "start_time": "2025-01-24T11:57:27.779Z"
   },
   {
    "duration": 331,
    "start_time": "2025-01-24T11:57:27.788Z"
   },
   {
    "duration": 9,
    "start_time": "2025-01-24T11:57:28.120Z"
   },
   {
    "duration": 105,
    "start_time": "2025-01-24T11:57:28.130Z"
   },
   {
    "duration": 7,
    "start_time": "2025-01-24T11:57:28.236Z"
   },
   {
    "duration": 170,
    "start_time": "2025-01-24T11:57:28.245Z"
   },
   {
    "duration": 9,
    "start_time": "2025-01-24T11:57:28.417Z"
   },
   {
    "duration": 16,
    "start_time": "2025-01-24T11:57:28.428Z"
   },
   {
    "duration": 126,
    "start_time": "2025-01-24T11:57:28.454Z"
   },
   {
    "duration": 217,
    "start_time": "2025-01-24T11:57:28.582Z"
   },
   {
    "duration": 10,
    "start_time": "2025-01-24T11:57:28.801Z"
   },
   {
    "duration": 138,
    "start_time": "2025-01-24T11:57:28.813Z"
   },
   {
    "duration": 15,
    "start_time": "2025-01-24T11:57:28.953Z"
   },
   {
    "duration": 23,
    "start_time": "2025-01-24T11:57:28.970Z"
   },
   {
    "duration": 12,
    "start_time": "2025-01-24T11:57:28.995Z"
   },
   {
    "duration": 19,
    "start_time": "2025-01-24T11:57:29.009Z"
   },
   {
    "duration": 33,
    "start_time": "2025-01-24T11:57:29.029Z"
   },
   {
    "duration": 95,
    "start_time": "2025-01-24T11:57:29.064Z"
   },
   {
    "duration": 412,
    "start_time": "2025-01-24T11:57:29.161Z"
   },
   {
    "duration": 471,
    "start_time": "2025-01-24T11:57:29.574Z"
   },
   {
    "duration": 17,
    "start_time": "2025-01-24T11:57:30.047Z"
   },
   {
    "duration": 91,
    "start_time": "2025-01-24T11:57:30.066Z"
   },
   {
    "duration": 8,
    "start_time": "2025-01-24T11:57:30.159Z"
   },
   {
    "duration": 59,
    "start_time": "2025-01-24T11:57:30.169Z"
   },
   {
    "duration": 50,
    "start_time": "2025-01-24T11:57:30.230Z"
   },
   {
    "duration": 51,
    "start_time": "2025-01-24T11:57:30.282Z"
   },
   {
    "duration": 146,
    "start_time": "2025-01-24T11:57:30.334Z"
   },
   {
    "duration": 83,
    "start_time": "2025-01-24T11:57:30.482Z"
   },
   {
    "duration": 23,
    "start_time": "2025-01-24T11:57:30.567Z"
   },
   {
    "duration": 47,
    "start_time": "2025-01-24T11:58:00.963Z"
   },
   {
    "duration": 1083,
    "start_time": "2025-01-24T11:58:12.466Z"
   },
   {
    "duration": 51,
    "start_time": "2025-01-24T11:58:13.554Z"
   },
   {
    "duration": 66,
    "start_time": "2025-01-24T11:58:13.607Z"
   },
   {
    "duration": 68,
    "start_time": "2025-01-24T11:58:13.675Z"
   },
   {
    "duration": 11,
    "start_time": "2025-01-24T11:58:13.744Z"
   },
   {
    "duration": 16,
    "start_time": "2025-01-24T11:58:13.757Z"
   },
   {
    "duration": 11,
    "start_time": "2025-01-24T11:58:14.399Z"
   },
   {
    "duration": 11,
    "start_time": "2025-01-24T11:58:14.540Z"
   },
   {
    "duration": 7,
    "start_time": "2025-01-24T11:58:14.670Z"
   },
   {
    "duration": 9,
    "start_time": "2025-01-24T11:58:14.794Z"
   },
   {
    "duration": 9,
    "start_time": "2025-01-24T11:58:15.420Z"
   },
   {
    "duration": 6,
    "start_time": "2025-01-24T11:58:15.934Z"
   },
   {
    "duration": 7,
    "start_time": "2025-01-24T11:58:16.320Z"
   },
   {
    "duration": 7,
    "start_time": "2025-01-24T11:58:16.705Z"
   },
   {
    "duration": 6,
    "start_time": "2025-01-24T11:58:16.835Z"
   },
   {
    "duration": 5,
    "start_time": "2025-01-24T11:58:16.962Z"
   },
   {
    "duration": 5,
    "start_time": "2025-01-24T11:58:17.219Z"
   },
   {
    "duration": 4,
    "start_time": "2025-01-24T11:58:17.364Z"
   },
   {
    "duration": 5,
    "start_time": "2025-01-24T11:58:17.638Z"
   },
   {
    "duration": 9,
    "start_time": "2025-01-24T11:58:17.765Z"
   },
   {
    "duration": 5,
    "start_time": "2025-01-24T11:58:17.910Z"
   },
   {
    "duration": 10,
    "start_time": "2025-01-24T11:58:18.439Z"
   },
   {
    "duration": 4,
    "start_time": "2025-01-24T11:58:18.712Z"
   },
   {
    "duration": 8,
    "start_time": "2025-01-24T11:58:18.984Z"
   },
   {
    "duration": 9,
    "start_time": "2025-01-24T11:58:19.129Z"
   },
   {
    "duration": 15,
    "start_time": "2025-01-24T11:58:19.404Z"
   },
   {
    "duration": 8,
    "start_time": "2025-01-24T11:58:20.238Z"
   },
   {
    "duration": 7,
    "start_time": "2025-01-24T11:58:20.363Z"
   },
   {
    "duration": 5,
    "start_time": "2025-01-24T11:58:20.494Z"
   },
   {
    "duration": 334,
    "start_time": "2025-01-24T11:58:20.782Z"
   },
   {
    "duration": 8,
    "start_time": "2025-01-24T11:58:21.502Z"
   },
   {
    "duration": 85,
    "start_time": "2025-01-24T11:58:21.648Z"
   },
   {
    "duration": 7,
    "start_time": "2025-01-24T11:58:22.305Z"
   },
   {
    "duration": 181,
    "start_time": "2025-01-24T11:58:22.691Z"
   },
   {
    "duration": 9,
    "start_time": "2025-01-24T11:58:23.507Z"
   },
   {
    "duration": 8,
    "start_time": "2025-01-24T11:58:23.655Z"
   },
   {
    "duration": 108,
    "start_time": "2025-01-24T11:58:23.925Z"
   },
   {
    "duration": 217,
    "start_time": "2025-01-24T11:58:24.310Z"
   },
   {
    "duration": 8,
    "start_time": "2025-01-24T11:58:24.729Z"
   },
   {
    "duration": 108,
    "start_time": "2025-01-24T11:58:24.999Z"
   },
   {
    "duration": 16,
    "start_time": "2025-01-24T11:58:26.123Z"
   },
   {
    "duration": 18,
    "start_time": "2025-01-24T11:58:26.396Z"
   },
   {
    "duration": 13,
    "start_time": "2025-01-24T11:58:26.975Z"
   },
   {
    "duration": 10,
    "start_time": "2025-01-24T11:58:27.118Z"
   },
   {
    "duration": 24,
    "start_time": "2025-01-24T11:58:27.695Z"
   },
   {
    "duration": 21,
    "start_time": "2025-01-24T11:58:27.858Z"
   },
   {
    "duration": 480,
    "start_time": "2025-01-24T11:58:28.694Z"
   },
   {
    "duration": 449,
    "start_time": "2025-01-24T11:58:29.176Z"
   },
   {
    "duration": 14,
    "start_time": "2025-01-24T11:58:31.420Z"
   },
   {
    "duration": 39,
    "start_time": "2025-01-24T11:58:32.047Z"
   },
   {
    "duration": 3,
    "start_time": "2025-01-24T11:58:32.558Z"
   },
   {
    "duration": 4,
    "start_time": "2025-01-24T11:58:33.893Z"
   },
   {
    "duration": 9,
    "start_time": "2025-01-24T11:58:34.517Z"
   },
   {
    "duration": 16,
    "start_time": "2025-01-24T11:58:38.992Z"
   },
   {
    "duration": 14,
    "start_time": "2025-01-24T11:58:43.776Z"
   },
   {
    "duration": 10,
    "start_time": "2025-01-24T11:58:47.255Z"
   },
   {
    "duration": 3,
    "start_time": "2025-01-24T11:58:57.317Z"
   },
   {
    "duration": 47,
    "start_time": "2025-01-24T11:59:17.309Z"
   },
   {
    "duration": 6,
    "start_time": "2025-01-24T11:59:27.723Z"
   },
   {
    "duration": 1067,
    "start_time": "2025-01-24T12:22:10.077Z"
   },
   {
    "duration": 61,
    "start_time": "2025-01-24T12:22:11.146Z"
   },
   {
    "duration": 64,
    "start_time": "2025-01-24T12:22:11.209Z"
   },
   {
    "duration": 48,
    "start_time": "2025-01-24T12:22:11.634Z"
   },
   {
    "duration": 12,
    "start_time": "2025-01-24T12:22:12.001Z"
   },
   {
    "duration": 10,
    "start_time": "2025-01-24T12:22:12.122Z"
   },
   {
    "duration": 9,
    "start_time": "2025-01-24T12:22:12.257Z"
   },
   {
    "duration": 10,
    "start_time": "2025-01-24T12:22:12.389Z"
   },
   {
    "duration": 6,
    "start_time": "2025-01-24T12:22:12.500Z"
   },
   {
    "duration": 9,
    "start_time": "2025-01-24T12:22:12.625Z"
   },
   {
    "duration": 10,
    "start_time": "2025-01-24T12:22:13.252Z"
   },
   {
    "duration": 6,
    "start_time": "2025-01-24T12:22:13.766Z"
   },
   {
    "duration": 7,
    "start_time": "2025-01-24T12:22:14.151Z"
   },
   {
    "duration": 6,
    "start_time": "2025-01-24T12:22:14.794Z"
   },
   {
    "duration": 5,
    "start_time": "2025-01-24T12:22:14.907Z"
   },
   {
    "duration": 6,
    "start_time": "2025-01-24T12:22:15.065Z"
   },
   {
    "duration": 6,
    "start_time": "2025-01-24T12:22:15.338Z"
   },
   {
    "duration": 5,
    "start_time": "2025-01-24T12:22:15.483Z"
   },
   {
    "duration": 6,
    "start_time": "2025-01-24T12:22:15.787Z"
   },
   {
    "duration": 8,
    "start_time": "2025-01-24T12:22:15.933Z"
   },
   {
    "duration": 5,
    "start_time": "2025-01-24T12:22:16.076Z"
   },
   {
    "duration": 9,
    "start_time": "2025-01-24T12:22:16.638Z"
   },
   {
    "duration": 3,
    "start_time": "2025-01-24T12:22:16.910Z"
   },
   {
    "duration": 9,
    "start_time": "2025-01-24T12:22:17.198Z"
   },
   {
    "duration": 8,
    "start_time": "2025-01-24T12:22:17.343Z"
   },
   {
    "duration": 16,
    "start_time": "2025-01-24T12:22:17.618Z"
   },
   {
    "duration": 8,
    "start_time": "2025-01-24T12:22:18.418Z"
   },
   {
    "duration": 7,
    "start_time": "2025-01-24T12:22:18.564Z"
   },
   {
    "duration": 3,
    "start_time": "2025-01-24T12:22:18.708Z"
   },
   {
    "duration": 335,
    "start_time": "2025-01-24T12:22:18.980Z"
   },
   {
    "duration": 8,
    "start_time": "2025-01-24T12:22:19.525Z"
   },
   {
    "duration": 89,
    "start_time": "2025-01-24T12:22:19.657Z"
   },
   {
    "duration": 9,
    "start_time": "2025-01-24T12:22:20.375Z"
   },
   {
    "duration": 163,
    "start_time": "2025-01-24T12:22:20.809Z"
   },
   {
    "duration": 9,
    "start_time": "2025-01-24T12:22:21.659Z"
   },
   {
    "duration": 8,
    "start_time": "2025-01-24T12:22:21.806Z"
   },
   {
    "duration": 114,
    "start_time": "2025-01-24T12:22:22.094Z"
   },
   {
    "duration": 202,
    "start_time": "2025-01-24T12:22:22.528Z"
   },
   {
    "duration": 9,
    "start_time": "2025-01-24T12:22:22.961Z"
   },
   {
    "duration": 106,
    "start_time": "2025-01-24T12:22:23.233Z"
   },
   {
    "duration": 16,
    "start_time": "2025-01-24T12:22:24.952Z"
   },
   {
    "duration": 19,
    "start_time": "2025-01-24T12:22:25.576Z"
   },
   {
    "duration": 13,
    "start_time": "2025-01-24T12:22:26.940Z"
   },
   {
    "duration": 9,
    "start_time": "2025-01-24T12:22:27.341Z"
   },
   {
    "duration": 22,
    "start_time": "2025-01-24T12:22:28.033Z"
   },
   {
    "duration": 22,
    "start_time": "2025-01-24T12:22:28.353Z"
   },
   {
    "duration": 518,
    "start_time": "2025-01-24T12:22:30.261Z"
   },
   {
    "duration": 469,
    "start_time": "2025-01-24T12:22:30.781Z"
   },
   {
    "duration": 13,
    "start_time": "2025-01-24T12:22:33.455Z"
   },
   {
    "duration": 36,
    "start_time": "2025-01-24T12:22:33.971Z"
   },
   {
    "duration": 4,
    "start_time": "2025-01-24T12:22:34.404Z"
   },
   {
    "duration": 4,
    "start_time": "2025-01-24T12:22:34.980Z"
   },
   {
    "duration": 11,
    "start_time": "2025-01-24T12:22:35.800Z"
   },
   {
    "duration": 14,
    "start_time": "2025-01-24T12:22:36.650Z"
   },
   {
    "duration": 13,
    "start_time": "2025-01-24T12:22:38.734Z"
   },
   {
    "duration": 10,
    "start_time": "2025-01-24T12:22:40.854Z"
   },
   {
    "duration": 3,
    "start_time": "2025-01-24T12:22:43.037Z"
   },
   {
    "duration": 1202,
    "start_time": "2025-01-24T12:25:05.129Z"
   },
   {
    "duration": 52,
    "start_time": "2025-01-24T12:25:06.334Z"
   },
   {
    "duration": 65,
    "start_time": "2025-01-24T12:25:06.388Z"
   },
   {
    "duration": 47,
    "start_time": "2025-01-24T12:25:06.455Z"
   },
   {
    "duration": 11,
    "start_time": "2025-01-24T12:25:07.056Z"
   },
   {
    "duration": 10,
    "start_time": "2025-01-24T12:25:07.186Z"
   },
   {
    "duration": 8,
    "start_time": "2025-01-24T12:25:07.325Z"
   },
   {
    "duration": 11,
    "start_time": "2025-01-24T12:25:07.441Z"
   },
   {
    "duration": 7,
    "start_time": "2025-01-24T12:25:07.570Z"
   },
   {
    "duration": 10,
    "start_time": "2025-01-24T12:25:07.698Z"
   },
   {
    "duration": 9,
    "start_time": "2025-01-24T12:25:08.339Z"
   },
   {
    "duration": 7,
    "start_time": "2025-01-24T12:25:08.885Z"
   },
   {
    "duration": 7,
    "start_time": "2025-01-24T12:25:09.288Z"
   },
   {
    "duration": 6,
    "start_time": "2025-01-24T12:25:09.671Z"
   },
   {
    "duration": 7,
    "start_time": "2025-01-24T12:25:09.800Z"
   },
   {
    "duration": 6,
    "start_time": "2025-01-24T12:25:09.930Z"
   },
   {
    "duration": 6,
    "start_time": "2025-01-24T12:25:10.210Z"
   },
   {
    "duration": 5,
    "start_time": "2025-01-24T12:25:10.348Z"
   },
   {
    "duration": 5,
    "start_time": "2025-01-24T12:25:10.620Z"
   },
   {
    "duration": 8,
    "start_time": "2025-01-24T12:25:10.764Z"
   },
   {
    "duration": 4,
    "start_time": "2025-01-24T12:25:10.911Z"
   },
   {
    "duration": 8,
    "start_time": "2025-01-24T12:25:11.455Z"
   },
   {
    "duration": 3,
    "start_time": "2025-01-24T12:25:11.744Z"
   },
   {
    "duration": 8,
    "start_time": "2025-01-24T12:25:12.019Z"
   },
   {
    "duration": 8,
    "start_time": "2025-01-24T12:25:12.162Z"
   },
   {
    "duration": 16,
    "start_time": "2025-01-24T12:25:12.450Z"
   },
   {
    "duration": 9,
    "start_time": "2025-01-24T12:25:13.331Z"
   },
   {
    "duration": 7,
    "start_time": "2025-01-24T12:25:13.479Z"
   },
   {
    "duration": 3,
    "start_time": "2025-01-24T12:25:13.622Z"
   },
   {
    "duration": 298,
    "start_time": "2025-01-24T12:25:13.928Z"
   },
   {
    "duration": 8,
    "start_time": "2025-01-24T12:25:14.526Z"
   },
   {
    "duration": 84,
    "start_time": "2025-01-24T12:25:14.651Z"
   },
   {
    "duration": 8,
    "start_time": "2025-01-24T12:25:15.660Z"
   },
   {
    "duration": 163,
    "start_time": "2025-01-24T12:25:16.095Z"
   },
   {
    "duration": 9,
    "start_time": "2025-01-24T12:25:16.995Z"
   },
   {
    "duration": 9,
    "start_time": "2025-01-24T12:25:17.172Z"
   },
   {
    "duration": 113,
    "start_time": "2025-01-24T12:25:17.539Z"
   },
   {
    "duration": 194,
    "start_time": "2025-01-24T12:25:18.118Z"
   },
   {
    "duration": 9,
    "start_time": "2025-01-24T12:25:19.274Z"
   },
   {
    "duration": 108,
    "start_time": "2025-01-24T12:25:19.595Z"
   },
   {
    "duration": 16,
    "start_time": "2025-01-24T12:25:21.507Z"
   },
   {
    "duration": 20,
    "start_time": "2025-01-24T12:25:21.876Z"
   },
   {
    "duration": 14,
    "start_time": "2025-01-24T12:25:23.370Z"
   },
   {
    "duration": 9,
    "start_time": "2025-01-24T12:25:24.245Z"
   },
   {
    "duration": 23,
    "start_time": "2025-01-24T12:25:25.345Z"
   },
   {
    "duration": 22,
    "start_time": "2025-01-24T12:25:25.571Z"
   },
   {
    "duration": 513,
    "start_time": "2025-01-24T12:25:27.224Z"
   },
   {
    "duration": 432,
    "start_time": "2025-01-24T12:25:28.188Z"
   },
   {
    "duration": 12,
    "start_time": "2025-01-24T12:25:30.065Z"
   },
   {
    "duration": 37,
    "start_time": "2025-01-24T12:25:30.306Z"
   },
   {
    "duration": 3,
    "start_time": "2025-01-24T12:25:30.564Z"
   },
   {
    "duration": 4,
    "start_time": "2025-01-24T12:25:31.030Z"
   },
   {
    "duration": 10,
    "start_time": "2025-01-24T12:25:31.545Z"
   },
   {
    "duration": 14,
    "start_time": "2025-01-24T12:25:32.428Z"
   },
   {
    "duration": 13,
    "start_time": "2025-01-24T12:25:35.174Z"
   },
   {
    "duration": 10,
    "start_time": "2025-01-24T12:25:39.304Z"
   },
   {
    "duration": 5,
    "start_time": "2025-01-24T12:25:41.521Z"
   },
   {
    "duration": 5,
    "start_time": "2025-01-24T12:25:56.619Z"
   },
   {
    "duration": 12,
    "start_time": "2025-01-24T12:25:57.565Z"
   },
   {
    "duration": 5,
    "start_time": "2025-01-24T12:26:15.924Z"
   },
   {
    "duration": 5,
    "start_time": "2025-01-24T12:26:24.566Z"
   },
   {
    "duration": 12,
    "start_time": "2025-01-24T12:27:53.851Z"
   },
   {
    "duration": 16,
    "start_time": "2025-01-24T12:27:56.743Z"
   },
   {
    "duration": 3,
    "start_time": "2025-01-24T12:28:11.454Z"
   },
   {
    "duration": 109,
    "start_time": "2025-01-24T12:28:14.265Z"
   },
   {
    "duration": 7,
    "start_time": "2025-01-24T12:29:13.855Z"
   },
   {
    "duration": 7,
    "start_time": "2025-01-24T12:29:55.454Z"
   },
   {
    "duration": 7,
    "start_time": "2025-01-24T12:30:07.916Z"
   },
   {
    "duration": 4,
    "start_time": "2025-01-24T12:32:05.559Z"
   },
   {
    "duration": 7,
    "start_time": "2025-01-24T12:32:36.734Z"
   },
   {
    "duration": 7,
    "start_time": "2025-01-24T12:33:07.812Z"
   },
   {
    "duration": 5,
    "start_time": "2025-01-24T12:33:16.703Z"
   },
   {
    "duration": 2,
    "start_time": "2025-01-24T12:36:48.608Z"
   },
   {
    "duration": 5,
    "start_time": "2025-01-24T12:36:49.361Z"
   },
   {
    "duration": 5,
    "start_time": "2025-01-24T12:37:12.622Z"
   },
   {
    "duration": 6,
    "start_time": "2025-01-24T12:37:24.455Z"
   },
   {
    "duration": 5,
    "start_time": "2025-01-24T12:38:16.613Z"
   },
   {
    "duration": 27,
    "start_time": "2025-01-24T12:40:39.607Z"
   },
   {
    "duration": 9,
    "start_time": "2025-01-24T12:41:33.351Z"
   },
   {
    "duration": 28,
    "start_time": "2025-01-24T12:41:42.070Z"
   },
   {
    "duration": 6,
    "start_time": "2025-01-24T12:41:49.637Z"
   },
   {
    "duration": 95,
    "start_time": "2025-01-24T12:41:57.956Z"
   },
   {
    "duration": 81,
    "start_time": "2025-01-24T12:42:03.902Z"
   },
   {
    "duration": 6,
    "start_time": "2025-01-24T12:42:11.016Z"
   },
   {
    "duration": 7,
    "start_time": "2025-01-24T12:42:25.328Z"
   },
   {
    "duration": 6,
    "start_time": "2025-01-24T12:43:10.527Z"
   },
   {
    "duration": 2,
    "start_time": "2025-01-24T12:46:12.086Z"
   },
   {
    "duration": 117,
    "start_time": "2025-01-24T12:46:13.662Z"
   },
   {
    "duration": 516,
    "start_time": "2025-01-24T12:46:16.070Z"
   },
   {
    "duration": 3,
    "start_time": "2025-01-24T12:46:20.859Z"
   },
   {
    "duration": 5,
    "start_time": "2025-01-24T12:46:22.611Z"
   },
   {
    "duration": 280,
    "start_time": "2025-01-24T12:46:24.329Z"
   },
   {
    "duration": 4,
    "start_time": "2025-01-24T12:52:09.995Z"
   },
   {
    "duration": 1106,
    "start_time": "2025-01-24T15:57:16.048Z"
   },
   {
    "duration": 28,
    "start_time": "2025-01-24T15:57:17.156Z"
   },
   {
    "duration": 27,
    "start_time": "2025-01-24T15:57:17.185Z"
   },
   {
    "duration": 14,
    "start_time": "2025-01-24T15:57:17.214Z"
   },
   {
    "duration": 11,
    "start_time": "2025-01-24T15:57:17.230Z"
   },
   {
    "duration": 22,
    "start_time": "2025-01-24T15:57:17.243Z"
   },
   {
    "duration": 8,
    "start_time": "2025-01-24T15:57:17.267Z"
   },
   {
    "duration": 10,
    "start_time": "2025-01-24T15:57:17.277Z"
   },
   {
    "duration": 8,
    "start_time": "2025-01-24T15:57:17.288Z"
   },
   {
    "duration": 31,
    "start_time": "2025-01-24T15:57:17.299Z"
   },
   {
    "duration": 25,
    "start_time": "2025-01-24T15:57:17.332Z"
   },
   {
    "duration": 14,
    "start_time": "2025-01-24T15:57:17.358Z"
   },
   {
    "duration": 13,
    "start_time": "2025-01-24T15:57:17.373Z"
   },
   {
    "duration": 9,
    "start_time": "2025-01-24T15:57:17.388Z"
   },
   {
    "duration": 11,
    "start_time": "2025-01-24T15:57:17.398Z"
   },
   {
    "duration": 9,
    "start_time": "2025-01-24T15:57:17.410Z"
   },
   {
    "duration": 14,
    "start_time": "2025-01-24T15:57:17.420Z"
   },
   {
    "duration": 17,
    "start_time": "2025-01-24T15:57:17.435Z"
   },
   {
    "duration": 15,
    "start_time": "2025-01-24T15:57:17.453Z"
   },
   {
    "duration": 13,
    "start_time": "2025-01-24T15:57:17.469Z"
   },
   {
    "duration": 4,
    "start_time": "2025-01-24T15:57:17.483Z"
   },
   {
    "duration": 8,
    "start_time": "2025-01-24T15:57:17.488Z"
   },
   {
    "duration": 11,
    "start_time": "2025-01-24T15:57:17.497Z"
   },
   {
    "duration": 8,
    "start_time": "2025-01-24T15:57:17.509Z"
   },
   {
    "duration": 7,
    "start_time": "2025-01-24T15:57:17.518Z"
   },
   {
    "duration": 60,
    "start_time": "2025-01-24T15:57:17.526Z"
   },
   {
    "duration": 19,
    "start_time": "2025-01-24T15:57:17.587Z"
   },
   {
    "duration": 6,
    "start_time": "2025-01-24T15:57:17.610Z"
   },
   {
    "duration": 12,
    "start_time": "2025-01-24T15:57:17.617Z"
   },
   {
    "duration": 304,
    "start_time": "2025-01-24T15:57:17.630Z"
   },
   {
    "duration": 17,
    "start_time": "2025-01-24T15:57:17.935Z"
   },
   {
    "duration": 90,
    "start_time": "2025-01-24T15:57:17.954Z"
   },
   {
    "duration": 8,
    "start_time": "2025-01-24T15:57:18.045Z"
   },
   {
    "duration": 156,
    "start_time": "2025-01-24T15:57:18.055Z"
   },
   {
    "duration": 8,
    "start_time": "2025-01-24T15:57:18.212Z"
   },
   {
    "duration": 16,
    "start_time": "2025-01-24T15:57:18.221Z"
   },
   {
    "duration": 111,
    "start_time": "2025-01-24T15:57:18.238Z"
   },
   {
    "duration": 188,
    "start_time": "2025-01-24T15:57:18.353Z"
   },
   {
    "duration": 12,
    "start_time": "2025-01-24T15:57:18.542Z"
   },
   {
    "duration": 105,
    "start_time": "2025-01-24T15:57:18.555Z"
   },
   {
    "duration": 14,
    "start_time": "2025-01-24T15:57:18.662Z"
   },
   {
    "duration": 16,
    "start_time": "2025-01-24T15:57:18.677Z"
   },
   {
    "duration": 11,
    "start_time": "2025-01-24T15:57:18.694Z"
   },
   {
    "duration": 7,
    "start_time": "2025-01-24T15:57:18.707Z"
   },
   {
    "duration": 47,
    "start_time": "2025-01-24T15:57:18.715Z"
   },
   {
    "duration": 71,
    "start_time": "2025-01-24T15:57:18.763Z"
   },
   {
    "duration": 410,
    "start_time": "2025-01-24T15:57:18.835Z"
   },
   {
    "duration": 403,
    "start_time": "2025-01-24T15:57:19.246Z"
   },
   {
    "duration": 12,
    "start_time": "2025-01-24T15:57:19.650Z"
   },
   {
    "duration": 46,
    "start_time": "2025-01-24T15:57:19.663Z"
   },
   {
    "duration": 3,
    "start_time": "2025-01-24T15:57:19.710Z"
   },
   {
    "duration": 9,
    "start_time": "2025-01-24T15:57:19.714Z"
   },
   {
    "duration": 28,
    "start_time": "2025-01-24T15:57:19.724Z"
   },
   {
    "duration": 16,
    "start_time": "2025-01-24T15:57:19.753Z"
   },
   {
    "duration": 13,
    "start_time": "2025-01-24T15:57:19.770Z"
   },
   {
    "duration": 4,
    "start_time": "2025-01-24T15:57:19.784Z"
   },
   {
    "duration": 11,
    "start_time": "2025-01-24T15:57:19.789Z"
   },
   {
    "duration": 22,
    "start_time": "2025-01-24T15:57:19.802Z"
   },
   {
    "duration": 3,
    "start_time": "2025-01-24T15:57:19.825Z"
   },
   {
    "duration": 13,
    "start_time": "2025-01-24T15:57:19.829Z"
   },
   {
    "duration": 6,
    "start_time": "2025-01-24T15:57:19.852Z"
   },
   {
    "duration": 4,
    "start_time": "2025-01-24T15:57:19.860Z"
   },
   {
    "duration": 5,
    "start_time": "2025-01-24T15:57:19.866Z"
   },
   {
    "duration": 5,
    "start_time": "2025-01-24T15:57:19.873Z"
   },
   {
    "duration": 5,
    "start_time": "2025-01-24T15:57:19.880Z"
   },
   {
    "duration": 5,
    "start_time": "2025-01-24T15:57:19.886Z"
   },
   {
    "duration": 6,
    "start_time": "2025-01-24T15:57:19.893Z"
   },
   {
    "duration": 10,
    "start_time": "2025-01-24T15:57:19.900Z"
   },
   {
    "duration": 7,
    "start_time": "2025-01-24T15:57:19.953Z"
   },
   {
    "duration": 6,
    "start_time": "2025-01-24T15:57:19.962Z"
   },
   {
    "duration": 2,
    "start_time": "2025-01-24T15:57:19.970Z"
   },
   {
    "duration": 141,
    "start_time": "2025-01-24T15:57:19.974Z"
   },
   {
    "duration": 481,
    "start_time": "2025-01-24T15:57:20.117Z"
   },
   {
    "duration": 3,
    "start_time": "2025-01-24T15:57:20.600Z"
   },
   {
    "duration": 36,
    "start_time": "2025-01-24T15:57:20.605Z"
   },
   {
    "duration": 296,
    "start_time": "2025-01-24T15:57:20.643Z"
   }
  ],
  "kernelspec": {
   "display_name": "Python 3",
   "language": "python",
   "name": "python3"
  },
  "language_info": {
   "codemirror_mode": {
    "name": "ipython",
    "version": 3
   },
   "file_extension": ".py",
   "mimetype": "text/x-python",
   "name": "python",
   "nbconvert_exporter": "python",
   "pygments_lexer": "ipython3",
   "version": "3.11.5"
  },
  "toc": {
   "base_numbering": 1,
   "nav_menu": {},
   "number_sections": true,
   "sideBar": true,
   "skip_h1_title": true,
   "title_cell": "Table of Contents",
   "title_sidebar": "Contents",
   "toc_cell": false,
   "toc_position": {
    "height": "calc(100% - 180px)",
    "left": "10px",
    "top": "150px",
    "width": "165px"
   },
   "toc_section_display": true,
   "toc_window_display": true
  }
 },
 "nbformat": 4,
 "nbformat_minor": 5
}
